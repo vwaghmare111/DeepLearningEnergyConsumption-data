{
 "cells": [
  {
   "cell_type": "code",
   "execution_count": 136,
   "metadata": {
    "colab": {
     "base_uri": "https://localhost:8080/",
     "height": 17
    },
    "executionInfo": {
     "elapsed": 1207,
     "status": "ok",
     "timestamp": 1629034943571,
     "user": {
      "displayName": "Vijay Waghmare",
      "photoUrl": "",
      "userId": "02980993576388042039"
     },
     "user_tz": -600
    },
    "id": "8dCcx2fPl8PO",
    "outputId": "b5c84a98-53f5-4af1-9cdd-cbed9c2a483e"
   },
   "outputs": [
    {
     "data": {
      "text/html": [
       "<style>table {float:left}</style>\n",
       "<style>img {float:left}</style>"
      ],
      "text/plain": [
       "<IPython.core.display.HTML object>"
      ]
     },
     "metadata": {
      "tags": []
     },
     "output_type": "display_data"
    }
   ],
   "source": [
    "%%html\n",
    "<style>table {float:left}</style>\n",
    "<style>img {float:left}</style>"
   ]
  },
  {
   "cell_type": "markdown",
   "metadata": {
    "id": "u1mFlc8QmIjL"
   },
   "source": [
    "<hr style=\"height:1px;border:none;color:#333;background-color:#333;\" />\n",
    "\n",
    "**Task Description**\n",
    "\n",
    "1. Organise the project structure, get data and run the notebook.\n",
    "2. Experiment with various MLP architectures and size of its layers.\n",
    "3. Experiment with dropout layers and their dropout rates.\n",
    "4. Experiment with layer activation functions (e.g. sigmoid, tanh, elu or relu).\n",
    "5. Experiment with different optimisers (e.g. SGD, RMSprop, Adam, Adamax, Nadam)\n",
    "6. Report and tabulate your experimental results.\n",
    "7. Save the IPYNB notebook, convert it to PDF (via HTML) and submit both for assessment.\n",
    "\n",
    "<hr style=\"height:1px;border:none;color:#333;background-color:#333;\" />"
   ]
  },
  {
   "cell_type": "markdown",
   "metadata": {
    "id": "QoBihZe6_Acd"
   },
   "source": [
    "## Table of Content\n",
    "   \n",
    "1. [Notebook Preparation](#cell_Preparation)\n",
    "\n",
    "2. [Data Preprocessing](#cell_Preprocessing)\n",
    "\n",
    "3. [Model Construction](#cell_model)\n",
    "\n",
    "4. [Model Execution](#cell_execution)\n",
    " \n",
    "5. [Experiments Report](#cell_report)\n",
    "\n"
   ]
  },
  {
   "cell_type": "markdown",
   "metadata": {
    "id": "ufoVVdqtYzhU"
   },
   "source": [
    "<a id = \"cell_Preparation\"></a>\n",
    "## 1. Notebook Preparation"
   ]
  },
  {
   "cell_type": "code",
   "execution_count": 76,
   "metadata": {
    "executionInfo": {
     "elapsed": 263,
     "status": "ok",
     "timestamp": 1629075570096,
     "user": {
      "displayName": "Vijay Waghmare",
      "photoUrl": "",
      "userId": "02980993576388042039"
     },
     "user_tz": -600
    },
    "id": "BQo3ipOhYzhV"
   },
   "outputs": [],
   "source": [
    "import numpy as np\n",
    "import pandas as pd\n",
    "import matplotlib.pyplot as plt\n",
    "import seaborn as sns\n",
    "from sklearn.model_selection import train_test_split\n",
    "import tensorflow as tf\n",
    "from tensorflow.keras import optimizers\n",
    "from tensorflow.keras.models import Sequential, Model\n",
    "from tensorflow.keras.layers import Dense, Dropout\n",
    "from tensorflow.keras import regularizers\n",
    "from tensorflow.keras import metrics\n",
    "from sklearn.metrics import mean_absolute_error\n",
    "from tensorflow.keras.callbacks import ReduceLROnPlateau, LearningRateScheduler\n",
    "from google.colab import drive\n",
    "import warnings\n",
    "warnings.filterwarnings('ignore')\n",
    "warnings.filterwarnings(\"ignore\", category=DeprecationWarning)"
   ]
  },
  {
   "cell_type": "code",
   "execution_count": 77,
   "metadata": {
    "colab": {
     "base_uri": "https://localhost:8080/"
    },
    "executionInfo": {
     "elapsed": 265,
     "status": "ok",
     "timestamp": 1629075572267,
     "user": {
      "displayName": "Vijay Waghmare",
      "photoUrl": "",
      "userId": "02980993576388042039"
     },
     "user_tz": -600
    },
    "id": "1eep84-0jaYM",
    "outputId": "a6a357aa-cb9f-41f1-b1df-4ea36d044f0b"
   },
   "outputs": [
    {
     "name": "stdout",
     "output_type": "stream",
     "text": [
      "Drive already mounted at /content/drive; to attempt to forcibly remount, call drive.mount(\"/content/drive\", force_remount=True).\n"
     ]
    }
   ],
   "source": [
    "#Mounting google drive\n",
    "drive.mount('/content/drive')"
   ]
  },
  {
   "cell_type": "code",
   "execution_count": 78,
   "metadata": {
    "colab": {
     "base_uri": "https://localhost:8080/",
     "height": 254
    },
    "executionInfo": {
     "elapsed": 4,
     "status": "ok",
     "timestamp": 1629075574439,
     "user": {
      "displayName": "Vijay Waghmare",
      "photoUrl": "",
      "userId": "02980993576388042039"
     },
     "user_tz": -600
    },
    "id": "m7lqsmUDnRBu",
    "outputId": "fe6797e2-a992-4e1d-9a83-7b8327d2070a"
   },
   "outputs": [
    {
     "name": "stdout",
     "output_type": "stream",
     "text": [
      "(29998, 18)\n"
     ]
    },
    {
     "data": {
      "text/html": [
       "<div>\n",
       "<style scoped>\n",
       "    .dataframe tbody tr th:only-of-type {\n",
       "        vertical-align: middle;\n",
       "    }\n",
       "\n",
       "    .dataframe tbody tr th {\n",
       "        vertical-align: top;\n",
       "    }\n",
       "\n",
       "    .dataframe thead th {\n",
       "        text-align: right;\n",
       "    }\n",
       "</style>\n",
       "<table border=\"1\" class=\"dataframe\">\n",
       "  <thead>\n",
       "    <tr style=\"text-align: right;\">\n",
       "      <th></th>\n",
       "      <th>gen [kW]</th>\n",
       "      <th>Dishwasher [kW]</th>\n",
       "      <th>Furnace 1 [kW]</th>\n",
       "      <th>Furnace 2 [kW]</th>\n",
       "      <th>Home office [kW]</th>\n",
       "      <th>Fridge [kW]</th>\n",
       "      <th>Wine cellar [kW]</th>\n",
       "      <th>Garage door [kW]</th>\n",
       "      <th>Kitchen 12 [kW]</th>\n",
       "      <th>Kitchen 14 [kW]</th>\n",
       "      <th>Kitchen 38 [kW]</th>\n",
       "      <th>Barn [kW]</th>\n",
       "      <th>Well [kW]</th>\n",
       "      <th>Microwave [kW]</th>\n",
       "      <th>Living room [kW]</th>\n",
       "      <th>Solar [kW]</th>\n",
       "      <th>temperature</th>\n",
       "      <th>Total Consuption</th>\n",
       "    </tr>\n",
       "  </thead>\n",
       "  <tbody>\n",
       "    <tr>\n",
       "      <th>0</th>\n",
       "      <td>0.003483</td>\n",
       "      <td>0.000033</td>\n",
       "      <td>0.020700</td>\n",
       "      <td>0.061917</td>\n",
       "      <td>0.442633</td>\n",
       "      <td>0.124150</td>\n",
       "      <td>0.006983</td>\n",
       "      <td>0.013083</td>\n",
       "      <td>0.000417</td>\n",
       "      <td>0.000150</td>\n",
       "      <td>0.000000</td>\n",
       "      <td>0.031350</td>\n",
       "      <td>0.001017</td>\n",
       "      <td>0.004067</td>\n",
       "      <td>0.001517</td>\n",
       "      <td>0.003483</td>\n",
       "      <td>36.14</td>\n",
       "      <td>0.932833</td>\n",
       "    </tr>\n",
       "    <tr>\n",
       "      <th>1</th>\n",
       "      <td>0.003467</td>\n",
       "      <td>0.000000</td>\n",
       "      <td>0.020717</td>\n",
       "      <td>0.063817</td>\n",
       "      <td>0.444067</td>\n",
       "      <td>0.124000</td>\n",
       "      <td>0.006983</td>\n",
       "      <td>0.013117</td>\n",
       "      <td>0.000417</td>\n",
       "      <td>0.000150</td>\n",
       "      <td>0.000000</td>\n",
       "      <td>0.031500</td>\n",
       "      <td>0.001017</td>\n",
       "      <td>0.004067</td>\n",
       "      <td>0.001650</td>\n",
       "      <td>0.003467</td>\n",
       "      <td>36.14</td>\n",
       "      <td>0.934333</td>\n",
       "    </tr>\n",
       "    <tr>\n",
       "      <th>2</th>\n",
       "      <td>0.003467</td>\n",
       "      <td>0.000017</td>\n",
       "      <td>0.020700</td>\n",
       "      <td>0.062317</td>\n",
       "      <td>0.446067</td>\n",
       "      <td>0.123533</td>\n",
       "      <td>0.006983</td>\n",
       "      <td>0.013083</td>\n",
       "      <td>0.000433</td>\n",
       "      <td>0.000167</td>\n",
       "      <td>0.000017</td>\n",
       "      <td>0.031517</td>\n",
       "      <td>0.001000</td>\n",
       "      <td>0.004067</td>\n",
       "      <td>0.001650</td>\n",
       "      <td>0.003467</td>\n",
       "      <td>36.14</td>\n",
       "      <td>0.931817</td>\n",
       "    </tr>\n",
       "    <tr>\n",
       "      <th>3</th>\n",
       "      <td>0.003483</td>\n",
       "      <td>0.000017</td>\n",
       "      <td>0.106900</td>\n",
       "      <td>0.068517</td>\n",
       "      <td>0.446583</td>\n",
       "      <td>0.123133</td>\n",
       "      <td>0.006983</td>\n",
       "      <td>0.013000</td>\n",
       "      <td>0.000433</td>\n",
       "      <td>0.000217</td>\n",
       "      <td>0.000000</td>\n",
       "      <td>0.031500</td>\n",
       "      <td>0.001017</td>\n",
       "      <td>0.004067</td>\n",
       "      <td>0.001617</td>\n",
       "      <td>0.003483</td>\n",
       "      <td>36.14</td>\n",
       "      <td>1.022050</td>\n",
       "    </tr>\n",
       "    <tr>\n",
       "      <th>4</th>\n",
       "      <td>0.003467</td>\n",
       "      <td>0.000133</td>\n",
       "      <td>0.236933</td>\n",
       "      <td>0.063983</td>\n",
       "      <td>0.446533</td>\n",
       "      <td>0.122850</td>\n",
       "      <td>0.006850</td>\n",
       "      <td>0.012783</td>\n",
       "      <td>0.000450</td>\n",
       "      <td>0.000333</td>\n",
       "      <td>0.000000</td>\n",
       "      <td>0.031500</td>\n",
       "      <td>0.001017</td>\n",
       "      <td>0.004067</td>\n",
       "      <td>0.001583</td>\n",
       "      <td>0.003467</td>\n",
       "      <td>36.14</td>\n",
       "      <td>1.139400</td>\n",
       "    </tr>\n",
       "  </tbody>\n",
       "</table>\n",
       "</div>"
      ],
      "text/plain": [
       "   gen [kW]  Dishwasher [kW]  ...  temperature  Total Consuption\n",
       "0  0.003483         0.000033  ...        36.14          0.932833\n",
       "1  0.003467         0.000000  ...        36.14          0.934333\n",
       "2  0.003467         0.000017  ...        36.14          0.931817\n",
       "3  0.003483         0.000017  ...        36.14          1.022050\n",
       "4  0.003467         0.000133  ...        36.14          1.139400\n",
       "\n",
       "[5 rows x 18 columns]"
      ]
     },
     "execution_count": 78,
     "metadata": {
      "tags": []
     },
     "output_type": "execute_result"
    }
   ],
   "source": [
    "energy_data = pd.read_csv('/content/drive/MyDrive/good_assignment/PartA-SmartHomeEnergyConsumption.csv')\n",
    "print(energy_data.shape)\n",
    "energy_data.head()"
   ]
  },
  {
   "cell_type": "code",
   "execution_count": 140,
   "metadata": {
    "colab": {
     "base_uri": "https://localhost:8080/"
    },
    "executionInfo": {
     "elapsed": 52,
     "status": "ok",
     "timestamp": 1629034944861,
     "user": {
      "displayName": "Vijay Waghmare",
      "photoUrl": "",
      "userId": "02980993576388042039"
     },
     "user_tz": -600
    },
    "id": "5F1lYd8SiQnL",
    "outputId": "0c5a735a-1fa9-4543-ebfc-e3b3f04efeb1"
   },
   "outputs": [
    {
     "data": {
      "text/plain": [
       "gen [kW]            float64\n",
       "Dishwasher [kW]     float64\n",
       "Furnace 1 [kW]      float64\n",
       "Furnace 2 [kW]      float64\n",
       "Home office [kW]    float64\n",
       "Fridge [kW]         float64\n",
       "Wine cellar [kW]    float64\n",
       "Garage door [kW]    float64\n",
       "Kitchen 12 [kW]     float64\n",
       "Kitchen 14 [kW]     float64\n",
       "Kitchen 38 [kW]     float64\n",
       "Barn [kW]           float64\n",
       "Well [kW]           float64\n",
       "Microwave [kW]      float64\n",
       "Living room [kW]    float64\n",
       "Solar [kW]          float64\n",
       "temperature         float64\n",
       "Total Consuption    float64\n",
       "dtype: object"
      ]
     },
     "execution_count": 140,
     "metadata": {
      "tags": []
     },
     "output_type": "execute_result"
    }
   ],
   "source": [
    "#Data types\n",
    "energy_data.dtypes"
   ]
  },
  {
   "cell_type": "code",
   "execution_count": 141,
   "metadata": {
    "colab": {
     "base_uri": "https://localhost:8080/",
     "height": 332
    },
    "executionInfo": {
     "elapsed": 49,
     "status": "ok",
     "timestamp": 1629034944862,
     "user": {
      "displayName": "Vijay Waghmare",
      "photoUrl": "",
      "userId": "02980993576388042039"
     },
     "user_tz": -600
    },
    "id": "k6HHxihZiQnM",
    "outputId": "504ece91-8466-4dd2-d439-cfcd1c618bd9"
   },
   "outputs": [
    {
     "data": {
      "text/html": [
       "<div>\n",
       "<style scoped>\n",
       "    .dataframe tbody tr th:only-of-type {\n",
       "        vertical-align: middle;\n",
       "    }\n",
       "\n",
       "    .dataframe tbody tr th {\n",
       "        vertical-align: top;\n",
       "    }\n",
       "\n",
       "    .dataframe thead th {\n",
       "        text-align: right;\n",
       "    }\n",
       "</style>\n",
       "<table border=\"1\" class=\"dataframe\">\n",
       "  <thead>\n",
       "    <tr style=\"text-align: right;\">\n",
       "      <th></th>\n",
       "      <th>gen [kW]</th>\n",
       "      <th>Dishwasher [kW]</th>\n",
       "      <th>Furnace 1 [kW]</th>\n",
       "      <th>Furnace 2 [kW]</th>\n",
       "      <th>Home office [kW]</th>\n",
       "      <th>Fridge [kW]</th>\n",
       "      <th>Wine cellar [kW]</th>\n",
       "      <th>Garage door [kW]</th>\n",
       "      <th>Kitchen 12 [kW]</th>\n",
       "      <th>Kitchen 14 [kW]</th>\n",
       "      <th>Kitchen 38 [kW]</th>\n",
       "      <th>Barn [kW]</th>\n",
       "      <th>Well [kW]</th>\n",
       "      <th>Microwave [kW]</th>\n",
       "      <th>Living room [kW]</th>\n",
       "      <th>Solar [kW]</th>\n",
       "      <th>temperature</th>\n",
       "      <th>Total Consuption</th>\n",
       "    </tr>\n",
       "  </thead>\n",
       "  <tbody>\n",
       "    <tr>\n",
       "      <th>count</th>\n",
       "      <td>29998.000000</td>\n",
       "      <td>29998.000000</td>\n",
       "      <td>29998.000000</td>\n",
       "      <td>29998.000000</td>\n",
       "      <td>29998.000000</td>\n",
       "      <td>29998.000000</td>\n",
       "      <td>29998.000000</td>\n",
       "      <td>29998.000000</td>\n",
       "      <td>29998.000000</td>\n",
       "      <td>29998.000000</td>\n",
       "      <td>29998.000000</td>\n",
       "      <td>29998.000000</td>\n",
       "      <td>29998.000000</td>\n",
       "      <td>29998.000000</td>\n",
       "      <td>29998.000000</td>\n",
       "      <td>29998.000000</td>\n",
       "      <td>29998.000000</td>\n",
       "      <td>29998.000000</td>\n",
       "    </tr>\n",
       "    <tr>\n",
       "      <th>mean</th>\n",
       "      <td>0.056453</td>\n",
       "      <td>0.038770</td>\n",
       "      <td>0.232167</td>\n",
       "      <td>0.240812</td>\n",
       "      <td>0.101068</td>\n",
       "      <td>0.056384</td>\n",
       "      <td>0.018790</td>\n",
       "      <td>0.013682</td>\n",
       "      <td>0.001403</td>\n",
       "      <td>0.008986</td>\n",
       "      <td>0.000010</td>\n",
       "      <td>0.065703</td>\n",
       "      <td>0.017443</td>\n",
       "      <td>0.009423</td>\n",
       "      <td>0.048360</td>\n",
       "      <td>0.056453</td>\n",
       "      <td>27.108708</td>\n",
       "      <td>1.079720</td>\n",
       "    </tr>\n",
       "    <tr>\n",
       "      <th>std</th>\n",
       "      <td>0.115127</td>\n",
       "      <td>0.212522</td>\n",
       "      <td>0.221758</td>\n",
       "      <td>0.252538</td>\n",
       "      <td>0.115567</td>\n",
       "      <td>0.072355</td>\n",
       "      <td>0.034726</td>\n",
       "      <td>0.009739</td>\n",
       "      <td>0.019662</td>\n",
       "      <td>0.084576</td>\n",
       "      <td>0.000010</td>\n",
       "      <td>0.150328</td>\n",
       "      <td>0.145153</td>\n",
       "      <td>0.080788</td>\n",
       "      <td>0.108222</td>\n",
       "      <td>0.115127</td>\n",
       "      <td>9.414269</td>\n",
       "      <td>0.685901</td>\n",
       "    </tr>\n",
       "    <tr>\n",
       "      <th>min</th>\n",
       "      <td>0.000000</td>\n",
       "      <td>0.000000</td>\n",
       "      <td>0.002433</td>\n",
       "      <td>0.002017</td>\n",
       "      <td>0.002467</td>\n",
       "      <td>0.000133</td>\n",
       "      <td>0.000217</td>\n",
       "      <td>0.000467</td>\n",
       "      <td>0.000017</td>\n",
       "      <td>0.000000</td>\n",
       "      <td>0.000000</td>\n",
       "      <td>0.000000</td>\n",
       "      <td>0.000000</td>\n",
       "      <td>0.000000</td>\n",
       "      <td>0.000000</td>\n",
       "      <td>0.000000</td>\n",
       "      <td>4.910000</td>\n",
       "      <td>0.000033</td>\n",
       "    </tr>\n",
       "    <tr>\n",
       "      <th>25%</th>\n",
       "      <td>0.003067</td>\n",
       "      <td>0.000017</td>\n",
       "      <td>0.021617</td>\n",
       "      <td>0.064600</td>\n",
       "      <td>0.042067</td>\n",
       "      <td>0.005000</td>\n",
       "      <td>0.006800</td>\n",
       "      <td>0.012450</td>\n",
       "      <td>0.000433</td>\n",
       "      <td>0.000050</td>\n",
       "      <td>0.000000</td>\n",
       "      <td>0.029033</td>\n",
       "      <td>0.001000</td>\n",
       "      <td>0.004000</td>\n",
       "      <td>0.001500</td>\n",
       "      <td>0.003067</td>\n",
       "      <td>20.260000</td>\n",
       "      <td>0.598583</td>\n",
       "    </tr>\n",
       "    <tr>\n",
       "      <th>50%</th>\n",
       "      <td>0.003350</td>\n",
       "      <td>0.000067</td>\n",
       "      <td>0.102017</td>\n",
       "      <td>0.070733</td>\n",
       "      <td>0.049433</td>\n",
       "      <td>0.005333</td>\n",
       "      <td>0.007100</td>\n",
       "      <td>0.012817</td>\n",
       "      <td>0.000633</td>\n",
       "      <td>0.000133</td>\n",
       "      <td>0.000017</td>\n",
       "      <td>0.030117</td>\n",
       "      <td>0.001000</td>\n",
       "      <td>0.004083</td>\n",
       "      <td>0.001600</td>\n",
       "      <td>0.003350</td>\n",
       "      <td>27.540000</td>\n",
       "      <td>0.956958</td>\n",
       "    </tr>\n",
       "    <tr>\n",
       "      <th>75%</th>\n",
       "      <td>0.032375</td>\n",
       "      <td>0.000233</td>\n",
       "      <td>0.479917</td>\n",
       "      <td>0.567029</td>\n",
       "      <td>0.108700</td>\n",
       "      <td>0.121400</td>\n",
       "      <td>0.007400</td>\n",
       "      <td>0.013050</td>\n",
       "      <td>0.000733</td>\n",
       "      <td>0.000300</td>\n",
       "      <td>0.000017</td>\n",
       "      <td>0.031650</td>\n",
       "      <td>0.001017</td>\n",
       "      <td>0.004200</td>\n",
       "      <td>0.001700</td>\n",
       "      <td>0.032375</td>\n",
       "      <td>34.690000</td>\n",
       "      <td>1.434775</td>\n",
       "    </tr>\n",
       "    <tr>\n",
       "      <th>max</th>\n",
       "      <td>0.554950</td>\n",
       "      <td>1.378650</td>\n",
       "      <td>1.915517</td>\n",
       "      <td>0.775417</td>\n",
       "      <td>0.913317</td>\n",
       "      <td>0.851267</td>\n",
       "      <td>0.229633</td>\n",
       "      <td>0.341417</td>\n",
       "      <td>0.906283</td>\n",
       "      <td>1.612117</td>\n",
       "      <td>0.000067</td>\n",
       "      <td>6.327833</td>\n",
       "      <td>1.614650</td>\n",
       "      <td>1.871750</td>\n",
       "      <td>0.348700</td>\n",
       "      <td>0.554950</td>\n",
       "      <td>55.880000</td>\n",
       "      <td>7.378917</td>\n",
       "    </tr>\n",
       "  </tbody>\n",
       "</table>\n",
       "</div>"
      ],
      "text/plain": [
       "           gen [kW]  Dishwasher [kW]  ...   temperature  Total Consuption\n",
       "count  29998.000000     29998.000000  ...  29998.000000      29998.000000\n",
       "mean       0.056453         0.038770  ...     27.108708          1.079720\n",
       "std        0.115127         0.212522  ...      9.414269          0.685901\n",
       "min        0.000000         0.000000  ...      4.910000          0.000033\n",
       "25%        0.003067         0.000017  ...     20.260000          0.598583\n",
       "50%        0.003350         0.000067  ...     27.540000          0.956958\n",
       "75%        0.032375         0.000233  ...     34.690000          1.434775\n",
       "max        0.554950         1.378650  ...     55.880000          7.378917\n",
       "\n",
       "[8 rows x 18 columns]"
      ]
     },
     "execution_count": 141,
     "metadata": {
      "tags": []
     },
     "output_type": "execute_result"
    }
   ],
   "source": [
    "#Summary\n",
    "energy_data.describe()"
   ]
  },
  {
   "cell_type": "code",
   "execution_count": 142,
   "metadata": {
    "colab": {
     "base_uri": "https://localhost:8080/",
     "height": 642
    },
    "executionInfo": {
     "elapsed": 47,
     "status": "ok",
     "timestamp": 1629034944862,
     "user": {
      "displayName": "Vijay Waghmare",
      "photoUrl": "",
      "userId": "02980993576388042039"
     },
     "user_tz": -600
    },
    "id": "q4hjHNkniQnO",
    "outputId": "215085c3-9531-4ef6-ad11-37fb0457f54e"
   },
   "outputs": [
    {
     "data": {
      "text/html": [
       "<style  type=\"text/css\" >\n",
       "#T_9dc445ee_fdce_11eb_8af7_0242ac1c0002row0_col0,#T_9dc445ee_fdce_11eb_8af7_0242ac1c0002row0_col15,#T_9dc445ee_fdce_11eb_8af7_0242ac1c0002row1_col1,#T_9dc445ee_fdce_11eb_8af7_0242ac1c0002row2_col2,#T_9dc445ee_fdce_11eb_8af7_0242ac1c0002row3_col3,#T_9dc445ee_fdce_11eb_8af7_0242ac1c0002row4_col4,#T_9dc445ee_fdce_11eb_8af7_0242ac1c0002row5_col5,#T_9dc445ee_fdce_11eb_8af7_0242ac1c0002row6_col6,#T_9dc445ee_fdce_11eb_8af7_0242ac1c0002row7_col7,#T_9dc445ee_fdce_11eb_8af7_0242ac1c0002row8_col8,#T_9dc445ee_fdce_11eb_8af7_0242ac1c0002row9_col9,#T_9dc445ee_fdce_11eb_8af7_0242ac1c0002row10_col10,#T_9dc445ee_fdce_11eb_8af7_0242ac1c0002row11_col11,#T_9dc445ee_fdce_11eb_8af7_0242ac1c0002row12_col12,#T_9dc445ee_fdce_11eb_8af7_0242ac1c0002row13_col13,#T_9dc445ee_fdce_11eb_8af7_0242ac1c0002row14_col14,#T_9dc445ee_fdce_11eb_8af7_0242ac1c0002row15_col0,#T_9dc445ee_fdce_11eb_8af7_0242ac1c0002row15_col15,#T_9dc445ee_fdce_11eb_8af7_0242ac1c0002row16_col16,#T_9dc445ee_fdce_11eb_8af7_0242ac1c0002row17_col17{\n",
       "            background-color:  #b40426;\n",
       "            color:  #f1f1f1;\n",
       "        }#T_9dc445ee_fdce_11eb_8af7_0242ac1c0002row0_col1,#T_9dc445ee_fdce_11eb_8af7_0242ac1c0002row9_col12,#T_9dc445ee_fdce_11eb_8af7_0242ac1c0002row12_col5,#T_9dc445ee_fdce_11eb_8af7_0242ac1c0002row14_col13,#T_9dc445ee_fdce_11eb_8af7_0242ac1c0002row15_col1,#T_9dc445ee_fdce_11eb_8af7_0242ac1c0002row16_col7,#T_9dc445ee_fdce_11eb_8af7_0242ac1c0002row17_col8{\n",
       "            background-color:  #4c66d6;\n",
       "            color:  #000000;\n",
       "        }#T_9dc445ee_fdce_11eb_8af7_0242ac1c0002row0_col2,#T_9dc445ee_fdce_11eb_8af7_0242ac1c0002row8_col0,#T_9dc445ee_fdce_11eb_8af7_0242ac1c0002row8_col15,#T_9dc445ee_fdce_11eb_8af7_0242ac1c0002row15_col2,#T_9dc445ee_fdce_11eb_8af7_0242ac1c0002row17_col6{\n",
       "            background-color:  #7ea1fa;\n",
       "            color:  #000000;\n",
       "        }#T_9dc445ee_fdce_11eb_8af7_0242ac1c0002row0_col3,#T_9dc445ee_fdce_11eb_8af7_0242ac1c0002row0_col4,#T_9dc445ee_fdce_11eb_8af7_0242ac1c0002row0_col5,#T_9dc445ee_fdce_11eb_8af7_0242ac1c0002row0_col6,#T_9dc445ee_fdce_11eb_8af7_0242ac1c0002row0_col17,#T_9dc445ee_fdce_11eb_8af7_0242ac1c0002row1_col13,#T_9dc445ee_fdce_11eb_8af7_0242ac1c0002row2_col4,#T_9dc445ee_fdce_11eb_8af7_0242ac1c0002row2_col7,#T_9dc445ee_fdce_11eb_8af7_0242ac1c0002row2_col13,#T_9dc445ee_fdce_11eb_8af7_0242ac1c0002row2_col16,#T_9dc445ee_fdce_11eb_8af7_0242ac1c0002row3_col1,#T_9dc445ee_fdce_11eb_8af7_0242ac1c0002row3_col14,#T_9dc445ee_fdce_11eb_8af7_0242ac1c0002row4_col9,#T_9dc445ee_fdce_11eb_8af7_0242ac1c0002row4_col10,#T_9dc445ee_fdce_11eb_8af7_0242ac1c0002row4_col11,#T_9dc445ee_fdce_11eb_8af7_0242ac1c0002row4_col12,#T_9dc445ee_fdce_11eb_8af7_0242ac1c0002row4_col13,#T_9dc445ee_fdce_11eb_8af7_0242ac1c0002row15_col3,#T_9dc445ee_fdce_11eb_8af7_0242ac1c0002row15_col4,#T_9dc445ee_fdce_11eb_8af7_0242ac1c0002row15_col5,#T_9dc445ee_fdce_11eb_8af7_0242ac1c0002row15_col6,#T_9dc445ee_fdce_11eb_8af7_0242ac1c0002row15_col17,#T_9dc445ee_fdce_11eb_8af7_0242ac1c0002row16_col2,#T_9dc445ee_fdce_11eb_8af7_0242ac1c0002row16_col8,#T_9dc445ee_fdce_11eb_8af7_0242ac1c0002row17_col0,#T_9dc445ee_fdce_11eb_8af7_0242ac1c0002row17_col15{\n",
       "            background-color:  #3b4cc0;\n",
       "            color:  #f1f1f1;\n",
       "        }#T_9dc445ee_fdce_11eb_8af7_0242ac1c0002row0_col7,#T_9dc445ee_fdce_11eb_8af7_0242ac1c0002row0_col11,#T_9dc445ee_fdce_11eb_8af7_0242ac1c0002row6_col9,#T_9dc445ee_fdce_11eb_8af7_0242ac1c0002row6_col14,#T_9dc445ee_fdce_11eb_8af7_0242ac1c0002row15_col7,#T_9dc445ee_fdce_11eb_8af7_0242ac1c0002row15_col11{\n",
       "            background-color:  #506bda;\n",
       "            color:  #000000;\n",
       "        }#T_9dc445ee_fdce_11eb_8af7_0242ac1c0002row0_col8,#T_9dc445ee_fdce_11eb_8af7_0242ac1c0002row0_col9,#T_9dc445ee_fdce_11eb_8af7_0242ac1c0002row1_col9,#T_9dc445ee_fdce_11eb_8af7_0242ac1c0002row1_col10,#T_9dc445ee_fdce_11eb_8af7_0242ac1c0002row1_col12,#T_9dc445ee_fdce_11eb_8af7_0242ac1c0002row3_col9,#T_9dc445ee_fdce_11eb_8af7_0242ac1c0002row3_col12,#T_9dc445ee_fdce_11eb_8af7_0242ac1c0002row4_col7,#T_9dc445ee_fdce_11eb_8af7_0242ac1c0002row7_col10,#T_9dc445ee_fdce_11eb_8af7_0242ac1c0002row8_col12,#T_9dc445ee_fdce_11eb_8af7_0242ac1c0002row9_col1,#T_9dc445ee_fdce_11eb_8af7_0242ac1c0002row13_col1,#T_9dc445ee_fdce_11eb_8af7_0242ac1c0002row15_col8,#T_9dc445ee_fdce_11eb_8af7_0242ac1c0002row15_col9,#T_9dc445ee_fdce_11eb_8af7_0242ac1c0002row16_col4,#T_9dc445ee_fdce_11eb_8af7_0242ac1c0002row17_col7{\n",
       "            background-color:  #3f53c6;\n",
       "            color:  #f1f1f1;\n",
       "        }#T_9dc445ee_fdce_11eb_8af7_0242ac1c0002row0_col10,#T_9dc445ee_fdce_11eb_8af7_0242ac1c0002row4_col2,#T_9dc445ee_fdce_11eb_8af7_0242ac1c0002row4_col14,#T_9dc445ee_fdce_11eb_8af7_0242ac1c0002row8_col5,#T_9dc445ee_fdce_11eb_8af7_0242ac1c0002row8_col9,#T_9dc445ee_fdce_11eb_8af7_0242ac1c0002row8_col11,#T_9dc445ee_fdce_11eb_8af7_0242ac1c0002row10_col1,#T_9dc445ee_fdce_11eb_8af7_0242ac1c0002row13_col8,#T_9dc445ee_fdce_11eb_8af7_0242ac1c0002row15_col10,#T_9dc445ee_fdce_11eb_8af7_0242ac1c0002row16_col14{\n",
       "            background-color:  #445acc;\n",
       "            color:  #f1f1f1;\n",
       "        }#T_9dc445ee_fdce_11eb_8af7_0242ac1c0002row0_col12,#T_9dc445ee_fdce_11eb_8af7_0242ac1c0002row1_col14,#T_9dc445ee_fdce_11eb_8af7_0242ac1c0002row2_col11,#T_9dc445ee_fdce_11eb_8af7_0242ac1c0002row5_col11,#T_9dc445ee_fdce_11eb_8af7_0242ac1c0002row6_col13,#T_9dc445ee_fdce_11eb_8af7_0242ac1c0002row10_col5,#T_9dc445ee_fdce_11eb_8af7_0242ac1c0002row10_col7,#T_9dc445ee_fdce_11eb_8af7_0242ac1c0002row13_col9,#T_9dc445ee_fdce_11eb_8af7_0242ac1c0002row15_col12,#T_9dc445ee_fdce_11eb_8af7_0242ac1c0002row16_col9{\n",
       "            background-color:  #465ecf;\n",
       "            color:  #f1f1f1;\n",
       "        }#T_9dc445ee_fdce_11eb_8af7_0242ac1c0002row0_col13,#T_9dc445ee_fdce_11eb_8af7_0242ac1c0002row1_col8,#T_9dc445ee_fdce_11eb_8af7_0242ac1c0002row2_col12,#T_9dc445ee_fdce_11eb_8af7_0242ac1c0002row3_col8,#T_9dc445ee_fdce_11eb_8af7_0242ac1c0002row11_col8,#T_9dc445ee_fdce_11eb_8af7_0242ac1c0002row11_col9,#T_9dc445ee_fdce_11eb_8af7_0242ac1c0002row12_col10,#T_9dc445ee_fdce_11eb_8af7_0242ac1c0002row12_col13,#T_9dc445ee_fdce_11eb_8af7_0242ac1c0002row13_col12,#T_9dc445ee_fdce_11eb_8af7_0242ac1c0002row15_col13,#T_9dc445ee_fdce_11eb_8af7_0242ac1c0002row16_col10{\n",
       "            background-color:  #3e51c5;\n",
       "            color:  #f1f1f1;\n",
       "        }#T_9dc445ee_fdce_11eb_8af7_0242ac1c0002row0_col14,#T_9dc445ee_fdce_11eb_8af7_0242ac1c0002row3_col5,#T_9dc445ee_fdce_11eb_8af7_0242ac1c0002row7_col9,#T_9dc445ee_fdce_11eb_8af7_0242ac1c0002row12_col8,#T_9dc445ee_fdce_11eb_8af7_0242ac1c0002row15_col14{\n",
       "            background-color:  #4358cb;\n",
       "            color:  #f1f1f1;\n",
       "        }#T_9dc445ee_fdce_11eb_8af7_0242ac1c0002row0_col16,#T_9dc445ee_fdce_11eb_8af7_0242ac1c0002row2_col8,#T_9dc445ee_fdce_11eb_8af7_0242ac1c0002row2_col9,#T_9dc445ee_fdce_11eb_8af7_0242ac1c0002row2_col10,#T_9dc445ee_fdce_11eb_8af7_0242ac1c0002row3_col11,#T_9dc445ee_fdce_11eb_8af7_0242ac1c0002row9_col7,#T_9dc445ee_fdce_11eb_8af7_0242ac1c0002row11_col1,#T_9dc445ee_fdce_11eb_8af7_0242ac1c0002row12_col1,#T_9dc445ee_fdce_11eb_8af7_0242ac1c0002row12_col7,#T_9dc445ee_fdce_11eb_8af7_0242ac1c0002row13_col7,#T_9dc445ee_fdce_11eb_8af7_0242ac1c0002row13_col11,#T_9dc445ee_fdce_11eb_8af7_0242ac1c0002row14_col7,#T_9dc445ee_fdce_11eb_8af7_0242ac1c0002row15_col16{\n",
       "            background-color:  #455cce;\n",
       "            color:  #f1f1f1;\n",
       "        }#T_9dc445ee_fdce_11eb_8af7_0242ac1c0002row1_col0,#T_9dc445ee_fdce_11eb_8af7_0242ac1c0002row1_col15,#T_9dc445ee_fdce_11eb_8af7_0242ac1c0002row11_col0,#T_9dc445ee_fdce_11eb_8af7_0242ac1c0002row11_col15,#T_9dc445ee_fdce_11eb_8af7_0242ac1c0002row12_col0,#T_9dc445ee_fdce_11eb_8af7_0242ac1c0002row12_col15{\n",
       "            background-color:  #88abfd;\n",
       "            color:  #000000;\n",
       "        }#T_9dc445ee_fdce_11eb_8af7_0242ac1c0002row1_col2,#T_9dc445ee_fdce_11eb_8af7_0242ac1c0002row1_col3,#T_9dc445ee_fdce_11eb_8af7_0242ac1c0002row13_col6{\n",
       "            background-color:  #5f7fe8;\n",
       "            color:  #000000;\n",
       "        }#T_9dc445ee_fdce_11eb_8af7_0242ac1c0002row1_col4,#T_9dc445ee_fdce_11eb_8af7_0242ac1c0002row17_col9{\n",
       "            background-color:  #7093f3;\n",
       "            color:  #000000;\n",
       "        }#T_9dc445ee_fdce_11eb_8af7_0242ac1c0002row1_col5,#T_9dc445ee_fdce_11eb_8af7_0242ac1c0002row5_col14,#T_9dc445ee_fdce_11eb_8af7_0242ac1c0002row8_col4,#T_9dc445ee_fdce_11eb_8af7_0242ac1c0002row12_col4,#T_9dc445ee_fdce_11eb_8af7_0242ac1c0002row14_col3,#T_9dc445ee_fdce_11eb_8af7_0242ac1c0002row14_col4,#T_9dc445ee_fdce_11eb_8af7_0242ac1c0002row14_col5,#T_9dc445ee_fdce_11eb_8af7_0242ac1c0002row17_col10{\n",
       "            background-color:  #5a78e4;\n",
       "            color:  #000000;\n",
       "        }#T_9dc445ee_fdce_11eb_8af7_0242ac1c0002row1_col6,#T_9dc445ee_fdce_11eb_8af7_0242ac1c0002row17_col16{\n",
       "            background-color:  #4f69d9;\n",
       "            color:  #000000;\n",
       "        }#T_9dc445ee_fdce_11eb_8af7_0242ac1c0002row1_col7,#T_9dc445ee_fdce_11eb_8af7_0242ac1c0002row3_col13,#T_9dc445ee_fdce_11eb_8af7_0242ac1c0002row5_col13,#T_9dc445ee_fdce_11eb_8af7_0242ac1c0002row6_col10,#T_9dc445ee_fdce_11eb_8af7_0242ac1c0002row8_col10,#T_9dc445ee_fdce_11eb_8af7_0242ac1c0002row8_col13,#T_9dc445ee_fdce_11eb_8af7_0242ac1c0002row9_col13,#T_9dc445ee_fdce_11eb_8af7_0242ac1c0002row14_col10,#T_9dc445ee_fdce_11eb_8af7_0242ac1c0002row16_col12{\n",
       "            background-color:  #4055c8;\n",
       "            color:  #f1f1f1;\n",
       "        }#T_9dc445ee_fdce_11eb_8af7_0242ac1c0002row1_col11,#T_9dc445ee_fdce_11eb_8af7_0242ac1c0002row3_col16,#T_9dc445ee_fdce_11eb_8af7_0242ac1c0002row7_col5,#T_9dc445ee_fdce_11eb_8af7_0242ac1c0002row10_col11,#T_9dc445ee_fdce_11eb_8af7_0242ac1c0002row11_col14,#T_9dc445ee_fdce_11eb_8af7_0242ac1c0002row16_col3{\n",
       "            background-color:  #4a63d3;\n",
       "            color:  #f1f1f1;\n",
       "        }#T_9dc445ee_fdce_11eb_8af7_0242ac1c0002row1_col16,#T_9dc445ee_fdce_11eb_8af7_0242ac1c0002row5_col6,#T_9dc445ee_fdce_11eb_8af7_0242ac1c0002row6_col0,#T_9dc445ee_fdce_11eb_8af7_0242ac1c0002row6_col15,#T_9dc445ee_fdce_11eb_8af7_0242ac1c0002row8_col3,#T_9dc445ee_fdce_11eb_8af7_0242ac1c0002row13_col2,#T_9dc445ee_fdce_11eb_8af7_0242ac1c0002row17_col13{\n",
       "            background-color:  #6485ec;\n",
       "            color:  #000000;\n",
       "        }#T_9dc445ee_fdce_11eb_8af7_0242ac1c0002row1_col17{\n",
       "            background-color:  #cad8ef;\n",
       "            color:  #000000;\n",
       "        }#T_9dc445ee_fdce_11eb_8af7_0242ac1c0002row2_col0,#T_9dc445ee_fdce_11eb_8af7_0242ac1c0002row2_col15,#T_9dc445ee_fdce_11eb_8af7_0242ac1c0002row17_col4{\n",
       "            background-color:  #94b6ff;\n",
       "            color:  #000000;\n",
       "        }#T_9dc445ee_fdce_11eb_8af7_0242ac1c0002row2_col1,#T_9dc445ee_fdce_11eb_8af7_0242ac1c0002row2_col5,#T_9dc445ee_fdce_11eb_8af7_0242ac1c0002row4_col8,#T_9dc445ee_fdce_11eb_8af7_0242ac1c0002row5_col8,#T_9dc445ee_fdce_11eb_8af7_0242ac1c0002row7_col12,#T_9dc445ee_fdce_11eb_8af7_0242ac1c0002row10_col13,#T_9dc445ee_fdce_11eb_8af7_0242ac1c0002row11_col13,#T_9dc445ee_fdce_11eb_8af7_0242ac1c0002row16_col13{\n",
       "            background-color:  #3c4ec2;\n",
       "            color:  #f1f1f1;\n",
       "        }#T_9dc445ee_fdce_11eb_8af7_0242ac1c0002row2_col3,#T_9dc445ee_fdce_11eb_8af7_0242ac1c0002row3_col2{\n",
       "            background-color:  #84a7fc;\n",
       "            color:  #000000;\n",
       "        }#T_9dc445ee_fdce_11eb_8af7_0242ac1c0002row2_col6,#T_9dc445ee_fdce_11eb_8af7_0242ac1c0002row7_col6,#T_9dc445ee_fdce_11eb_8af7_0242ac1c0002row8_col6,#T_9dc445ee_fdce_11eb_8af7_0242ac1c0002row11_col4,#T_9dc445ee_fdce_11eb_8af7_0242ac1c0002row11_col7,#T_9dc445ee_fdce_11eb_8af7_0242ac1c0002row16_col5{\n",
       "            background-color:  #516ddb;\n",
       "            color:  #000000;\n",
       "        }#T_9dc445ee_fdce_11eb_8af7_0242ac1c0002row2_col14,#T_9dc445ee_fdce_11eb_8af7_0242ac1c0002row12_col11,#T_9dc445ee_fdce_11eb_8af7_0242ac1c0002row13_col5{\n",
       "            background-color:  #4b64d5;\n",
       "            color:  #f1f1f1;\n",
       "        }#T_9dc445ee_fdce_11eb_8af7_0242ac1c0002row2_col17{\n",
       "            background-color:  #ccd9ed;\n",
       "            color:  #000000;\n",
       "        }#T_9dc445ee_fdce_11eb_8af7_0242ac1c0002row3_col0,#T_9dc445ee_fdce_11eb_8af7_0242ac1c0002row3_col15,#T_9dc445ee_fdce_11eb_8af7_0242ac1c0002row7_col11,#T_9dc445ee_fdce_11eb_8af7_0242ac1c0002row12_col9{\n",
       "            background-color:  #536edd;\n",
       "            color:  #000000;\n",
       "        }#T_9dc445ee_fdce_11eb_8af7_0242ac1c0002row3_col4,#T_9dc445ee_fdce_11eb_8af7_0242ac1c0002row6_col5,#T_9dc445ee_fdce_11eb_8af7_0242ac1c0002row6_col11,#T_9dc445ee_fdce_11eb_8af7_0242ac1c0002row7_col4,#T_9dc445ee_fdce_11eb_8af7_0242ac1c0002row14_col12{\n",
       "            background-color:  #5875e1;\n",
       "            color:  #000000;\n",
       "        }#T_9dc445ee_fdce_11eb_8af7_0242ac1c0002row3_col6,#T_9dc445ee_fdce_11eb_8af7_0242ac1c0002row4_col3,#T_9dc445ee_fdce_11eb_8af7_0242ac1c0002row8_col16,#T_9dc445ee_fdce_11eb_8af7_0242ac1c0002row10_col9{\n",
       "            background-color:  #6180e9;\n",
       "            color:  #000000;\n",
       "        }#T_9dc445ee_fdce_11eb_8af7_0242ac1c0002row3_col7,#T_9dc445ee_fdce_11eb_8af7_0242ac1c0002row5_col9,#T_9dc445ee_fdce_11eb_8af7_0242ac1c0002row5_col12,#T_9dc445ee_fdce_11eb_8af7_0242ac1c0002row6_col7,#T_9dc445ee_fdce_11eb_8af7_0242ac1c0002row7_col8,#T_9dc445ee_fdce_11eb_8af7_0242ac1c0002row8_col1,#T_9dc445ee_fdce_11eb_8af7_0242ac1c0002row9_col8,#T_9dc445ee_fdce_11eb_8af7_0242ac1c0002row9_col11,#T_9dc445ee_fdce_11eb_8af7_0242ac1c0002row10_col8,#T_9dc445ee_fdce_11eb_8af7_0242ac1c0002row11_col10,#T_9dc445ee_fdce_11eb_8af7_0242ac1c0002row11_col12,#T_9dc445ee_fdce_11eb_8af7_0242ac1c0002row14_col1,#T_9dc445ee_fdce_11eb_8af7_0242ac1c0002row16_col1{\n",
       "            background-color:  #4257c9;\n",
       "            color:  #f1f1f1;\n",
       "        }#T_9dc445ee_fdce_11eb_8af7_0242ac1c0002row3_col10{\n",
       "            background-color:  #7699f6;\n",
       "            color:  #000000;\n",
       "        }#T_9dc445ee_fdce_11eb_8af7_0242ac1c0002row3_col17{\n",
       "            background-color:  #eed0c0;\n",
       "            color:  #000000;\n",
       "        }#T_9dc445ee_fdce_11eb_8af7_0242ac1c0002row4_col0,#T_9dc445ee_fdce_11eb_8af7_0242ac1c0002row4_col15,#T_9dc445ee_fdce_11eb_8af7_0242ac1c0002row5_col2,#T_9dc445ee_fdce_11eb_8af7_0242ac1c0002row7_col2,#T_9dc445ee_fdce_11eb_8af7_0242ac1c0002row13_col4,#T_9dc445ee_fdce_11eb_8af7_0242ac1c0002row14_col8,#T_9dc445ee_fdce_11eb_8af7_0242ac1c0002row16_col6{\n",
       "            background-color:  #5b7ae5;\n",
       "            color:  #000000;\n",
       "        }#T_9dc445ee_fdce_11eb_8af7_0242ac1c0002row4_col1,#T_9dc445ee_fdce_11eb_8af7_0242ac1c0002row5_col1,#T_9dc445ee_fdce_11eb_8af7_0242ac1c0002row9_col4{\n",
       "            background-color:  #5572df;\n",
       "            color:  #000000;\n",
       "        }#T_9dc445ee_fdce_11eb_8af7_0242ac1c0002row4_col5,#T_9dc445ee_fdce_11eb_8af7_0242ac1c0002row10_col6,#T_9dc445ee_fdce_11eb_8af7_0242ac1c0002row13_col14{\n",
       "            background-color:  #5673e0;\n",
       "            color:  #000000;\n",
       "        }#T_9dc445ee_fdce_11eb_8af7_0242ac1c0002row4_col6,#T_9dc445ee_fdce_11eb_8af7_0242ac1c0002row16_col0,#T_9dc445ee_fdce_11eb_8af7_0242ac1c0002row16_col11,#T_9dc445ee_fdce_11eb_8af7_0242ac1c0002row16_col15{\n",
       "            background-color:  #5e7de7;\n",
       "            color:  #000000;\n",
       "        }#T_9dc445ee_fdce_11eb_8af7_0242ac1c0002row4_col16,#T_9dc445ee_fdce_11eb_8af7_0242ac1c0002row5_col7,#T_9dc445ee_fdce_11eb_8af7_0242ac1c0002row7_col14,#T_9dc445ee_fdce_11eb_8af7_0242ac1c0002row8_col7,#T_9dc445ee_fdce_11eb_8af7_0242ac1c0002row9_col5,#T_9dc445ee_fdce_11eb_8af7_0242ac1c0002row11_col5{\n",
       "            background-color:  #485fd1;\n",
       "            color:  #f1f1f1;\n",
       "        }#T_9dc445ee_fdce_11eb_8af7_0242ac1c0002row4_col17{\n",
       "            background-color:  #afcafc;\n",
       "            color:  #000000;\n",
       "        }#T_9dc445ee_fdce_11eb_8af7_0242ac1c0002row5_col0,#T_9dc445ee_fdce_11eb_8af7_0242ac1c0002row5_col15,#T_9dc445ee_fdce_11eb_8af7_0242ac1c0002row6_col3{\n",
       "            background-color:  #7295f4;\n",
       "            color:  #000000;\n",
       "        }#T_9dc445ee_fdce_11eb_8af7_0242ac1c0002row5_col3,#T_9dc445ee_fdce_11eb_8af7_0242ac1c0002row9_col6,#T_9dc445ee_fdce_11eb_8af7_0242ac1c0002row12_col14{\n",
       "            background-color:  #6282ea;\n",
       "            color:  #000000;\n",
       "        }#T_9dc445ee_fdce_11eb_8af7_0242ac1c0002row5_col4,#T_9dc445ee_fdce_11eb_8af7_0242ac1c0002row6_col16,#T_9dc445ee_fdce_11eb_8af7_0242ac1c0002row7_col16,#T_9dc445ee_fdce_11eb_8af7_0242ac1c0002row8_col2{\n",
       "            background-color:  #6c8ff1;\n",
       "            color:  #000000;\n",
       "        }#T_9dc445ee_fdce_11eb_8af7_0242ac1c0002row5_col10,#T_9dc445ee_fdce_11eb_8af7_0242ac1c0002row6_col1,#T_9dc445ee_fdce_11eb_8af7_0242ac1c0002row6_col8,#T_9dc445ee_fdce_11eb_8af7_0242ac1c0002row6_col12,#T_9dc445ee_fdce_11eb_8af7_0242ac1c0002row7_col1,#T_9dc445ee_fdce_11eb_8af7_0242ac1c0002row7_col13,#T_9dc445ee_fdce_11eb_8af7_0242ac1c0002row10_col12,#T_9dc445ee_fdce_11eb_8af7_0242ac1c0002row13_col10{\n",
       "            background-color:  #3d50c3;\n",
       "            color:  #f1f1f1;\n",
       "        }#T_9dc445ee_fdce_11eb_8af7_0242ac1c0002row5_col16{\n",
       "            background-color:  #6f92f3;\n",
       "            color:  #000000;\n",
       "        }#T_9dc445ee_fdce_11eb_8af7_0242ac1c0002row5_col17,#T_9dc445ee_fdce_11eb_8af7_0242ac1c0002row17_col2{\n",
       "            background-color:  #bcd2f7;\n",
       "            color:  #000000;\n",
       "        }#T_9dc445ee_fdce_11eb_8af7_0242ac1c0002row6_col2,#T_9dc445ee_fdce_11eb_8af7_0242ac1c0002row7_col3,#T_9dc445ee_fdce_11eb_8af7_0242ac1c0002row8_col14,#T_9dc445ee_fdce_11eb_8af7_0242ac1c0002row9_col3,#T_9dc445ee_fdce_11eb_8af7_0242ac1c0002row14_col16{\n",
       "            background-color:  #6384eb;\n",
       "            color:  #000000;\n",
       "        }#T_9dc445ee_fdce_11eb_8af7_0242ac1c0002row6_col4,#T_9dc445ee_fdce_11eb_8af7_0242ac1c0002row10_col16,#T_9dc445ee_fdce_11eb_8af7_0242ac1c0002row11_col2,#T_9dc445ee_fdce_11eb_8af7_0242ac1c0002row11_col3,#T_9dc445ee_fdce_11eb_8af7_0242ac1c0002row13_col16,#T_9dc445ee_fdce_11eb_8af7_0242ac1c0002row14_col9{\n",
       "            background-color:  #6687ed;\n",
       "            color:  #000000;\n",
       "        }#T_9dc445ee_fdce_11eb_8af7_0242ac1c0002row6_col17{\n",
       "            background-color:  #a5c3fe;\n",
       "            color:  #000000;\n",
       "        }#T_9dc445ee_fdce_11eb_8af7_0242ac1c0002row7_col0,#T_9dc445ee_fdce_11eb_8af7_0242ac1c0002row7_col15{\n",
       "            background-color:  #89acfd;\n",
       "            color:  #000000;\n",
       "        }#T_9dc445ee_fdce_11eb_8af7_0242ac1c0002row7_col17{\n",
       "            background-color:  #799cf8;\n",
       "            color:  #000000;\n",
       "        }#T_9dc445ee_fdce_11eb_8af7_0242ac1c0002row8_col17{\n",
       "            background-color:  #8badfd;\n",
       "            color:  #000000;\n",
       "        }#T_9dc445ee_fdce_11eb_8af7_0242ac1c0002row9_col0,#T_9dc445ee_fdce_11eb_8af7_0242ac1c0002row9_col15{\n",
       "            background-color:  #7b9ff9;\n",
       "            color:  #000000;\n",
       "        }#T_9dc445ee_fdce_11eb_8af7_0242ac1c0002row9_col2,#T_9dc445ee_fdce_11eb_8af7_0242ac1c0002row12_col2,#T_9dc445ee_fdce_11eb_8af7_0242ac1c0002row16_col17{\n",
       "            background-color:  #688aef;\n",
       "            color:  #000000;\n",
       "        }#T_9dc445ee_fdce_11eb_8af7_0242ac1c0002row9_col10,#T_9dc445ee_fdce_11eb_8af7_0242ac1c0002row14_col6{\n",
       "            background-color:  #5d7ce6;\n",
       "            color:  #000000;\n",
       "        }#T_9dc445ee_fdce_11eb_8af7_0242ac1c0002row9_col14,#T_9dc445ee_fdce_11eb_8af7_0242ac1c0002row9_col16,#T_9dc445ee_fdce_11eb_8af7_0242ac1c0002row12_col3,#T_9dc445ee_fdce_11eb_8af7_0242ac1c0002row12_col16,#T_9dc445ee_fdce_11eb_8af7_0242ac1c0002row14_col2{\n",
       "            background-color:  #6a8bef;\n",
       "            color:  #000000;\n",
       "        }#T_9dc445ee_fdce_11eb_8af7_0242ac1c0002row9_col17{\n",
       "            background-color:  #a6c4fe;\n",
       "            color:  #000000;\n",
       "        }#T_9dc445ee_fdce_11eb_8af7_0242ac1c0002row10_col0,#T_9dc445ee_fdce_11eb_8af7_0242ac1c0002row10_col15{\n",
       "            background-color:  #85a8fc;\n",
       "            color:  #000000;\n",
       "        }#T_9dc445ee_fdce_11eb_8af7_0242ac1c0002row10_col2{\n",
       "            background-color:  #6e90f2;\n",
       "            color:  #000000;\n",
       "        }#T_9dc445ee_fdce_11eb_8af7_0242ac1c0002row10_col3{\n",
       "            background-color:  #9bbcff;\n",
       "            color:  #000000;\n",
       "        }#T_9dc445ee_fdce_11eb_8af7_0242ac1c0002row10_col4{\n",
       "            background-color:  #5977e3;\n",
       "            color:  #000000;\n",
       "        }#T_9dc445ee_fdce_11eb_8af7_0242ac1c0002row10_col14,#T_9dc445ee_fdce_11eb_8af7_0242ac1c0002row14_col11{\n",
       "            background-color:  #4961d2;\n",
       "            color:  #f1f1f1;\n",
       "        }#T_9dc445ee_fdce_11eb_8af7_0242ac1c0002row10_col17{\n",
       "            background-color:  #98b9ff;\n",
       "            color:  #000000;\n",
       "        }#T_9dc445ee_fdce_11eb_8af7_0242ac1c0002row11_col6{\n",
       "            background-color:  #6788ee;\n",
       "            color:  #000000;\n",
       "        }#T_9dc445ee_fdce_11eb_8af7_0242ac1c0002row11_col16{\n",
       "            background-color:  #7da0f9;\n",
       "            color:  #000000;\n",
       "        }#T_9dc445ee_fdce_11eb_8af7_0242ac1c0002row11_col17{\n",
       "            background-color:  #c5d6f2;\n",
       "            color:  #000000;\n",
       "        }#T_9dc445ee_fdce_11eb_8af7_0242ac1c0002row12_col6{\n",
       "            background-color:  #5470de;\n",
       "            color:  #000000;\n",
       "        }#T_9dc445ee_fdce_11eb_8af7_0242ac1c0002row12_col17{\n",
       "            background-color:  #c3d5f4;\n",
       "            color:  #000000;\n",
       "        }#T_9dc445ee_fdce_11eb_8af7_0242ac1c0002row13_col0,#T_9dc445ee_fdce_11eb_8af7_0242ac1c0002row13_col15{\n",
       "            background-color:  #81a4fb;\n",
       "            color:  #000000;\n",
       "        }#T_9dc445ee_fdce_11eb_8af7_0242ac1c0002row13_col3{\n",
       "            background-color:  #6b8df0;\n",
       "            color:  #000000;\n",
       "        }#T_9dc445ee_fdce_11eb_8af7_0242ac1c0002row13_col17{\n",
       "            background-color:  #a2c1ff;\n",
       "            color:  #000000;\n",
       "        }#T_9dc445ee_fdce_11eb_8af7_0242ac1c0002row14_col0,#T_9dc445ee_fdce_11eb_8af7_0242ac1c0002row14_col15{\n",
       "            background-color:  #7a9df8;\n",
       "            color:  #000000;\n",
       "        }#T_9dc445ee_fdce_11eb_8af7_0242ac1c0002row14_col17{\n",
       "            background-color:  #d5dbe5;\n",
       "            color:  #000000;\n",
       "        }#T_9dc445ee_fdce_11eb_8af7_0242ac1c0002row17_col1{\n",
       "            background-color:  #9ebeff;\n",
       "            color:  #000000;\n",
       "        }#T_9dc445ee_fdce_11eb_8af7_0242ac1c0002row17_col3{\n",
       "            background-color:  #e6d7cf;\n",
       "            color:  #000000;\n",
       "        }#T_9dc445ee_fdce_11eb_8af7_0242ac1c0002row17_col5,#T_9dc445ee_fdce_11eb_8af7_0242ac1c0002row17_col12{\n",
       "            background-color:  #90b2fe;\n",
       "            color:  #000000;\n",
       "        }#T_9dc445ee_fdce_11eb_8af7_0242ac1c0002row17_col11{\n",
       "            background-color:  #9abbff;\n",
       "            color:  #000000;\n",
       "        }#T_9dc445ee_fdce_11eb_8af7_0242ac1c0002row17_col14{\n",
       "            background-color:  #b2ccfb;\n",
       "            color:  #000000;\n",
       "        }</style><table id=\"T_9dc445ee_fdce_11eb_8af7_0242ac1c0002\" ><thead>    <tr>        <th class=\"blank level0\" ></th>        <th class=\"col_heading level0 col0\" >gen [kW]</th>        <th class=\"col_heading level0 col1\" >Dishwasher [kW]</th>        <th class=\"col_heading level0 col2\" >Furnace 1 [kW]</th>        <th class=\"col_heading level0 col3\" >Furnace 2 [kW]</th>        <th class=\"col_heading level0 col4\" >Home office [kW]</th>        <th class=\"col_heading level0 col5\" >Fridge [kW]</th>        <th class=\"col_heading level0 col6\" >Wine cellar [kW]</th>        <th class=\"col_heading level0 col7\" >Garage door [kW]</th>        <th class=\"col_heading level0 col8\" >Kitchen 12 [kW]</th>        <th class=\"col_heading level0 col9\" >Kitchen 14 [kW]</th>        <th class=\"col_heading level0 col10\" >Kitchen 38 [kW]</th>        <th class=\"col_heading level0 col11\" >Barn [kW]</th>        <th class=\"col_heading level0 col12\" >Well [kW]</th>        <th class=\"col_heading level0 col13\" >Microwave [kW]</th>        <th class=\"col_heading level0 col14\" >Living room [kW]</th>        <th class=\"col_heading level0 col15\" >Solar [kW]</th>        <th class=\"col_heading level0 col16\" >temperature</th>        <th class=\"col_heading level0 col17\" >Total Consuption</th>    </tr></thead><tbody>\n",
       "                <tr>\n",
       "                        <th id=\"T_9dc445ee_fdce_11eb_8af7_0242ac1c0002level0_row0\" class=\"row_heading level0 row0\" >gen [kW]</th>\n",
       "                        <td id=\"T_9dc445ee_fdce_11eb_8af7_0242ac1c0002row0_col0\" class=\"data row0 col0\" >1.00</td>\n",
       "                        <td id=\"T_9dc445ee_fdce_11eb_8af7_0242ac1c0002row0_col1\" class=\"data row0 col1\" >0.03</td>\n",
       "                        <td id=\"T_9dc445ee_fdce_11eb_8af7_0242ac1c0002row0_col2\" class=\"data row0 col2\" >0.08</td>\n",
       "                        <td id=\"T_9dc445ee_fdce_11eb_8af7_0242ac1c0002row0_col3\" class=\"data row0 col3\" >-0.17</td>\n",
       "                        <td id=\"T_9dc445ee_fdce_11eb_8af7_0242ac1c0002row0_col4\" class=\"data row0 col4\" >-0.13</td>\n",
       "                        <td id=\"T_9dc445ee_fdce_11eb_8af7_0242ac1c0002row0_col5\" class=\"data row0 col5\" >-0.05</td>\n",
       "                        <td id=\"T_9dc445ee_fdce_11eb_8af7_0242ac1c0002row0_col6\" class=\"data row0 col6\" >-0.10</td>\n",
       "                        <td id=\"T_9dc445ee_fdce_11eb_8af7_0242ac1c0002row0_col7\" class=\"data row0 col7\" >0.03</td>\n",
       "                        <td id=\"T_9dc445ee_fdce_11eb_8af7_0242ac1c0002row0_col8\" class=\"data row0 col8\" >-0.00</td>\n",
       "                        <td id=\"T_9dc445ee_fdce_11eb_8af7_0242ac1c0002row0_col9\" class=\"data row0 col9\" >-0.01</td>\n",
       "                        <td id=\"T_9dc445ee_fdce_11eb_8af7_0242ac1c0002row0_col10\" class=\"data row0 col10\" >0.02</td>\n",
       "                        <td id=\"T_9dc445ee_fdce_11eb_8af7_0242ac1c0002row0_col11\" class=\"data row0 col11\" >0.03</td>\n",
       "                        <td id=\"T_9dc445ee_fdce_11eb_8af7_0242ac1c0002row0_col12\" class=\"data row0 col12\" >0.03</td>\n",
       "                        <td id=\"T_9dc445ee_fdce_11eb_8af7_0242ac1c0002row0_col13\" class=\"data row0 col13\" >0.00</td>\n",
       "                        <td id=\"T_9dc445ee_fdce_11eb_8af7_0242ac1c0002row0_col14\" class=\"data row0 col14\" >-0.02</td>\n",
       "                        <td id=\"T_9dc445ee_fdce_11eb_8af7_0242ac1c0002row0_col15\" class=\"data row0 col15\" >1.00</td>\n",
       "                        <td id=\"T_9dc445ee_fdce_11eb_8af7_0242ac1c0002row0_col16\" class=\"data row0 col16\" >-0.12</td>\n",
       "                        <td id=\"T_9dc445ee_fdce_11eb_8af7_0242ac1c0002row0_col17\" class=\"data row0 col17\" >-0.27</td>\n",
       "            </tr>\n",
       "            <tr>\n",
       "                        <th id=\"T_9dc445ee_fdce_11eb_8af7_0242ac1c0002level0_row1\" class=\"row_heading level0 row1\" >Dishwasher [kW]</th>\n",
       "                        <td id=\"T_9dc445ee_fdce_11eb_8af7_0242ac1c0002row1_col0\" class=\"data row1 col0\" >0.03</td>\n",
       "                        <td id=\"T_9dc445ee_fdce_11eb_8af7_0242ac1c0002row1_col1\" class=\"data row1 col1\" >1.00</td>\n",
       "                        <td id=\"T_9dc445ee_fdce_11eb_8af7_0242ac1c0002row1_col2\" class=\"data row1 col2\" >-0.03</td>\n",
       "                        <td id=\"T_9dc445ee_fdce_11eb_8af7_0242ac1c0002row1_col3\" class=\"data row1 col3\" >-0.03</td>\n",
       "                        <td id=\"T_9dc445ee_fdce_11eb_8af7_0242ac1c0002row1_col4\" class=\"data row1 col4\" >0.06</td>\n",
       "                        <td id=\"T_9dc445ee_fdce_11eb_8af7_0242ac1c0002row1_col5\" class=\"data row1 col5\" >0.06</td>\n",
       "                        <td id=\"T_9dc445ee_fdce_11eb_8af7_0242ac1c0002row1_col6\" class=\"data row1 col6\" >-0.02</td>\n",
       "                        <td id=\"T_9dc445ee_fdce_11eb_8af7_0242ac1c0002row1_col7\" class=\"data row1 col7\" >-0.02</td>\n",
       "                        <td id=\"T_9dc445ee_fdce_11eb_8af7_0242ac1c0002row1_col8\" class=\"data row1 col8\" >-0.01</td>\n",
       "                        <td id=\"T_9dc445ee_fdce_11eb_8af7_0242ac1c0002row1_col9\" class=\"data row1 col9\" >-0.01</td>\n",
       "                        <td id=\"T_9dc445ee_fdce_11eb_8af7_0242ac1c0002row1_col10\" class=\"data row1 col10\" >0.00</td>\n",
       "                        <td id=\"T_9dc445ee_fdce_11eb_8af7_0242ac1c0002row1_col11\" class=\"data row1 col11\" >0.01</td>\n",
       "                        <td id=\"T_9dc445ee_fdce_11eb_8af7_0242ac1c0002row1_col12\" class=\"data row1 col12\" >0.01</td>\n",
       "                        <td id=\"T_9dc445ee_fdce_11eb_8af7_0242ac1c0002row1_col13\" class=\"data row1 col13\" >-0.01</td>\n",
       "                        <td id=\"T_9dc445ee_fdce_11eb_8af7_0242ac1c0002row1_col14\" class=\"data row1 col14\" >-0.00</td>\n",
       "                        <td id=\"T_9dc445ee_fdce_11eb_8af7_0242ac1c0002row1_col15\" class=\"data row1 col15\" >0.03</td>\n",
       "                        <td id=\"T_9dc445ee_fdce_11eb_8af7_0242ac1c0002row1_col16\" class=\"data row1 col16\" >-0.01</td>\n",
       "                        <td id=\"T_9dc445ee_fdce_11eb_8af7_0242ac1c0002row1_col17\" class=\"data row1 col17\" >0.28</td>\n",
       "            </tr>\n",
       "            <tr>\n",
       "                        <th id=\"T_9dc445ee_fdce_11eb_8af7_0242ac1c0002level0_row2\" class=\"row_heading level0 row2\" >Furnace 1 [kW]</th>\n",
       "                        <td id=\"T_9dc445ee_fdce_11eb_8af7_0242ac1c0002row2_col0\" class=\"data row2 col0\" >0.08</td>\n",
       "                        <td id=\"T_9dc445ee_fdce_11eb_8af7_0242ac1c0002row2_col1\" class=\"data row2 col1\" >-0.03</td>\n",
       "                        <td id=\"T_9dc445ee_fdce_11eb_8af7_0242ac1c0002row2_col2\" class=\"data row2 col2\" >1.00</td>\n",
       "                        <td id=\"T_9dc445ee_fdce_11eb_8af7_0242ac1c0002row2_col3\" class=\"data row2 col3\" >0.09</td>\n",
       "                        <td id=\"T_9dc445ee_fdce_11eb_8af7_0242ac1c0002row2_col4\" class=\"data row2 col4\" >-0.13</td>\n",
       "                        <td id=\"T_9dc445ee_fdce_11eb_8af7_0242ac1c0002row2_col5\" class=\"data row2 col5\" >-0.04</td>\n",
       "                        <td id=\"T_9dc445ee_fdce_11eb_8af7_0242ac1c0002row2_col6\" class=\"data row2 col6\" >-0.01</td>\n",
       "                        <td id=\"T_9dc445ee_fdce_11eb_8af7_0242ac1c0002row2_col7\" class=\"data row2 col7\" >-0.04</td>\n",
       "                        <td id=\"T_9dc445ee_fdce_11eb_8af7_0242ac1c0002row2_col8\" class=\"data row2 col8\" >0.02</td>\n",
       "                        <td id=\"T_9dc445ee_fdce_11eb_8af7_0242ac1c0002row2_col9\" class=\"data row2 col9\" >0.01</td>\n",
       "                        <td id=\"T_9dc445ee_fdce_11eb_8af7_0242ac1c0002row2_col10\" class=\"data row2 col10\" >0.02</td>\n",
       "                        <td id=\"T_9dc445ee_fdce_11eb_8af7_0242ac1c0002row2_col11\" class=\"data row2 col11\" >-0.00</td>\n",
       "                        <td id=\"T_9dc445ee_fdce_11eb_8af7_0242ac1c0002row2_col12\" class=\"data row2 col12\" >0.00</td>\n",
       "                        <td id=\"T_9dc445ee_fdce_11eb_8af7_0242ac1c0002row2_col13\" class=\"data row2 col13\" >-0.01</td>\n",
       "                        <td id=\"T_9dc445ee_fdce_11eb_8af7_0242ac1c0002row2_col14\" class=\"data row2 col14\" >0.01</td>\n",
       "                        <td id=\"T_9dc445ee_fdce_11eb_8af7_0242ac1c0002row2_col15\" class=\"data row2 col15\" >0.08</td>\n",
       "                        <td id=\"T_9dc445ee_fdce_11eb_8af7_0242ac1c0002row2_col16\" class=\"data row2 col16\" >-0.17</td>\n",
       "                        <td id=\"T_9dc445ee_fdce_11eb_8af7_0242ac1c0002row2_col17\" class=\"data row2 col17\" >0.29</td>\n",
       "            </tr>\n",
       "            <tr>\n",
       "                        <th id=\"T_9dc445ee_fdce_11eb_8af7_0242ac1c0002level0_row3\" class=\"row_heading level0 row3\" >Furnace 2 [kW]</th>\n",
       "                        <td id=\"T_9dc445ee_fdce_11eb_8af7_0242ac1c0002row3_col0\" class=\"data row3 col0\" >-0.17</td>\n",
       "                        <td id=\"T_9dc445ee_fdce_11eb_8af7_0242ac1c0002row3_col1\" class=\"data row3 col1\" >-0.03</td>\n",
       "                        <td id=\"T_9dc445ee_fdce_11eb_8af7_0242ac1c0002row3_col2\" class=\"data row3 col2\" >0.09</td>\n",
       "                        <td id=\"T_9dc445ee_fdce_11eb_8af7_0242ac1c0002row3_col3\" class=\"data row3 col3\" >1.00</td>\n",
       "                        <td id=\"T_9dc445ee_fdce_11eb_8af7_0242ac1c0002row3_col4\" class=\"data row3 col4\" >-0.02</td>\n",
       "                        <td id=\"T_9dc445ee_fdce_11eb_8af7_0242ac1c0002row3_col5\" class=\"data row3 col5\" >-0.02</td>\n",
       "                        <td id=\"T_9dc445ee_fdce_11eb_8af7_0242ac1c0002row3_col6\" class=\"data row3 col6\" >0.04</td>\n",
       "                        <td id=\"T_9dc445ee_fdce_11eb_8af7_0242ac1c0002row3_col7\" class=\"data row3 col7\" >-0.02</td>\n",
       "                        <td id=\"T_9dc445ee_fdce_11eb_8af7_0242ac1c0002row3_col8\" class=\"data row3 col8\" >-0.01</td>\n",
       "                        <td id=\"T_9dc445ee_fdce_11eb_8af7_0242ac1c0002row3_col9\" class=\"data row3 col9\" >-0.01</td>\n",
       "                        <td id=\"T_9dc445ee_fdce_11eb_8af7_0242ac1c0002row3_col10\" class=\"data row3 col10\" >0.17</td>\n",
       "                        <td id=\"T_9dc445ee_fdce_11eb_8af7_0242ac1c0002row3_col11\" class=\"data row3 col11\" >-0.01</td>\n",
       "                        <td id=\"T_9dc445ee_fdce_11eb_8af7_0242ac1c0002row3_col12\" class=\"data row3 col12\" >0.01</td>\n",
       "                        <td id=\"T_9dc445ee_fdce_11eb_8af7_0242ac1c0002row3_col13\" class=\"data row3 col13\" >0.01</td>\n",
       "                        <td id=\"T_9dc445ee_fdce_11eb_8af7_0242ac1c0002row3_col14\" class=\"data row3 col14\" >-0.05</td>\n",
       "                        <td id=\"T_9dc445ee_fdce_11eb_8af7_0242ac1c0002row3_col15\" class=\"data row3 col15\" >-0.17</td>\n",
       "                        <td id=\"T_9dc445ee_fdce_11eb_8af7_0242ac1c0002row3_col16\" class=\"data row3 col16\" >-0.11</td>\n",
       "                        <td id=\"T_9dc445ee_fdce_11eb_8af7_0242ac1c0002row3_col17\" class=\"data row3 col17\" >0.46</td>\n",
       "            </tr>\n",
       "            <tr>\n",
       "                        <th id=\"T_9dc445ee_fdce_11eb_8af7_0242ac1c0002level0_row4\" class=\"row_heading level0 row4\" >Home office [kW]</th>\n",
       "                        <td id=\"T_9dc445ee_fdce_11eb_8af7_0242ac1c0002row4_col0\" class=\"data row4 col0\" >-0.13</td>\n",
       "                        <td id=\"T_9dc445ee_fdce_11eb_8af7_0242ac1c0002row4_col1\" class=\"data row4 col1\" >0.06</td>\n",
       "                        <td id=\"T_9dc445ee_fdce_11eb_8af7_0242ac1c0002row4_col2\" class=\"data row4 col2\" >-0.13</td>\n",
       "                        <td id=\"T_9dc445ee_fdce_11eb_8af7_0242ac1c0002row4_col3\" class=\"data row4 col3\" >-0.02</td>\n",
       "                        <td id=\"T_9dc445ee_fdce_11eb_8af7_0242ac1c0002row4_col4\" class=\"data row4 col4\" >1.00</td>\n",
       "                        <td id=\"T_9dc445ee_fdce_11eb_8af7_0242ac1c0002row4_col5\" class=\"data row4 col5\" >0.05</td>\n",
       "                        <td id=\"T_9dc445ee_fdce_11eb_8af7_0242ac1c0002row4_col6\" class=\"data row4 col6\" >0.03</td>\n",
       "                        <td id=\"T_9dc445ee_fdce_11eb_8af7_0242ac1c0002row4_col7\" class=\"data row4 col7\" >-0.02</td>\n",
       "                        <td id=\"T_9dc445ee_fdce_11eb_8af7_0242ac1c0002row4_col8\" class=\"data row4 col8\" >-0.01</td>\n",
       "                        <td id=\"T_9dc445ee_fdce_11eb_8af7_0242ac1c0002row4_col9\" class=\"data row4 col9\" >-0.03</td>\n",
       "                        <td id=\"T_9dc445ee_fdce_11eb_8af7_0242ac1c0002row4_col10\" class=\"data row4 col10\" >-0.02</td>\n",
       "                        <td id=\"T_9dc445ee_fdce_11eb_8af7_0242ac1c0002row4_col11\" class=\"data row4 col11\" >-0.04</td>\n",
       "                        <td id=\"T_9dc445ee_fdce_11eb_8af7_0242ac1c0002row4_col12\" class=\"data row4 col12\" >-0.01</td>\n",
       "                        <td id=\"T_9dc445ee_fdce_11eb_8af7_0242ac1c0002row4_col13\" class=\"data row4 col13\" >-0.01</td>\n",
       "                        <td id=\"T_9dc445ee_fdce_11eb_8af7_0242ac1c0002row4_col14\" class=\"data row4 col14\" >-0.01</td>\n",
       "                        <td id=\"T_9dc445ee_fdce_11eb_8af7_0242ac1c0002row4_col15\" class=\"data row4 col15\" >-0.13</td>\n",
       "                        <td id=\"T_9dc445ee_fdce_11eb_8af7_0242ac1c0002row4_col16\" class=\"data row4 col16\" >-0.11</td>\n",
       "                        <td id=\"T_9dc445ee_fdce_11eb_8af7_0242ac1c0002row4_col17\" class=\"data row4 col17\" >0.17</td>\n",
       "            </tr>\n",
       "            <tr>\n",
       "                        <th id=\"T_9dc445ee_fdce_11eb_8af7_0242ac1c0002level0_row5\" class=\"row_heading level0 row5\" >Fridge [kW]</th>\n",
       "                        <td id=\"T_9dc445ee_fdce_11eb_8af7_0242ac1c0002row5_col0\" class=\"data row5 col0\" >-0.05</td>\n",
       "                        <td id=\"T_9dc445ee_fdce_11eb_8af7_0242ac1c0002row5_col1\" class=\"data row5 col1\" >0.06</td>\n",
       "                        <td id=\"T_9dc445ee_fdce_11eb_8af7_0242ac1c0002row5_col2\" class=\"data row5 col2\" >-0.04</td>\n",
       "                        <td id=\"T_9dc445ee_fdce_11eb_8af7_0242ac1c0002row5_col3\" class=\"data row5 col3\" >-0.02</td>\n",
       "                        <td id=\"T_9dc445ee_fdce_11eb_8af7_0242ac1c0002row5_col4\" class=\"data row5 col4\" >0.05</td>\n",
       "                        <td id=\"T_9dc445ee_fdce_11eb_8af7_0242ac1c0002row5_col5\" class=\"data row5 col5\" >1.00</td>\n",
       "                        <td id=\"T_9dc445ee_fdce_11eb_8af7_0242ac1c0002row5_col6\" class=\"data row5 col6\" >0.05</td>\n",
       "                        <td id=\"T_9dc445ee_fdce_11eb_8af7_0242ac1c0002row5_col7\" class=\"data row5 col7\" >0.00</td>\n",
       "                        <td id=\"T_9dc445ee_fdce_11eb_8af7_0242ac1c0002row5_col8\" class=\"data row5 col8\" >-0.01</td>\n",
       "                        <td id=\"T_9dc445ee_fdce_11eb_8af7_0242ac1c0002row5_col9\" class=\"data row5 col9\" >-0.00</td>\n",
       "                        <td id=\"T_9dc445ee_fdce_11eb_8af7_0242ac1c0002row5_col10\" class=\"data row5 col10\" >-0.01</td>\n",
       "                        <td id=\"T_9dc445ee_fdce_11eb_8af7_0242ac1c0002row5_col11\" class=\"data row5 col11\" >-0.00</td>\n",
       "                        <td id=\"T_9dc445ee_fdce_11eb_8af7_0242ac1c0002row5_col12\" class=\"data row5 col12\" >0.01</td>\n",
       "                        <td id=\"T_9dc445ee_fdce_11eb_8af7_0242ac1c0002row5_col13\" class=\"data row5 col13\" >0.01</td>\n",
       "                        <td id=\"T_9dc445ee_fdce_11eb_8af7_0242ac1c0002row5_col14\" class=\"data row5 col14\" >0.06</td>\n",
       "                        <td id=\"T_9dc445ee_fdce_11eb_8af7_0242ac1c0002row5_col15\" class=\"data row5 col15\" >-0.05</td>\n",
       "                        <td id=\"T_9dc445ee_fdce_11eb_8af7_0242ac1c0002row5_col16\" class=\"data row5 col16\" >0.03</td>\n",
       "                        <td id=\"T_9dc445ee_fdce_11eb_8af7_0242ac1c0002row5_col17\" class=\"data row5 col17\" >0.22</td>\n",
       "            </tr>\n",
       "            <tr>\n",
       "                        <th id=\"T_9dc445ee_fdce_11eb_8af7_0242ac1c0002level0_row6\" class=\"row_heading level0 row6\" >Wine cellar [kW]</th>\n",
       "                        <td id=\"T_9dc445ee_fdce_11eb_8af7_0242ac1c0002row6_col0\" class=\"data row6 col0\" >-0.10</td>\n",
       "                        <td id=\"T_9dc445ee_fdce_11eb_8af7_0242ac1c0002row6_col1\" class=\"data row6 col1\" >-0.02</td>\n",
       "                        <td id=\"T_9dc445ee_fdce_11eb_8af7_0242ac1c0002row6_col2\" class=\"data row6 col2\" >-0.01</td>\n",
       "                        <td id=\"T_9dc445ee_fdce_11eb_8af7_0242ac1c0002row6_col3\" class=\"data row6 col3\" >0.04</td>\n",
       "                        <td id=\"T_9dc445ee_fdce_11eb_8af7_0242ac1c0002row6_col4\" class=\"data row6 col4\" >0.03</td>\n",
       "                        <td id=\"T_9dc445ee_fdce_11eb_8af7_0242ac1c0002row6_col5\" class=\"data row6 col5\" >0.05</td>\n",
       "                        <td id=\"T_9dc445ee_fdce_11eb_8af7_0242ac1c0002row6_col6\" class=\"data row6 col6\" >1.00</td>\n",
       "                        <td id=\"T_9dc445ee_fdce_11eb_8af7_0242ac1c0002row6_col7\" class=\"data row6 col7\" >-0.02</td>\n",
       "                        <td id=\"T_9dc445ee_fdce_11eb_8af7_0242ac1c0002row6_col8\" class=\"data row6 col8\" >-0.01</td>\n",
       "                        <td id=\"T_9dc445ee_fdce_11eb_8af7_0242ac1c0002row6_col9\" class=\"data row6 col9\" >0.04</td>\n",
       "                        <td id=\"T_9dc445ee_fdce_11eb_8af7_0242ac1c0002row6_col10\" class=\"data row6 col10\" >0.00</td>\n",
       "                        <td id=\"T_9dc445ee_fdce_11eb_8af7_0242ac1c0002row6_col11\" class=\"data row6 col11\" >0.06</td>\n",
       "                        <td id=\"T_9dc445ee_fdce_11eb_8af7_0242ac1c0002row6_col12\" class=\"data row6 col12\" >-0.00</td>\n",
       "                        <td id=\"T_9dc445ee_fdce_11eb_8af7_0242ac1c0002row6_col13\" class=\"data row6 col13\" >0.03</td>\n",
       "                        <td id=\"T_9dc445ee_fdce_11eb_8af7_0242ac1c0002row6_col14\" class=\"data row6 col14\" >0.03</td>\n",
       "                        <td id=\"T_9dc445ee_fdce_11eb_8af7_0242ac1c0002row6_col15\" class=\"data row6 col15\" >-0.10</td>\n",
       "                        <td id=\"T_9dc445ee_fdce_11eb_8af7_0242ac1c0002row6_col16\" class=\"data row6 col16\" >0.02</td>\n",
       "                        <td id=\"T_9dc445ee_fdce_11eb_8af7_0242ac1c0002row6_col17\" class=\"data row6 col17\" >0.13</td>\n",
       "            </tr>\n",
       "            <tr>\n",
       "                        <th id=\"T_9dc445ee_fdce_11eb_8af7_0242ac1c0002level0_row7\" class=\"row_heading level0 row7\" >Garage door [kW]</th>\n",
       "                        <td id=\"T_9dc445ee_fdce_11eb_8af7_0242ac1c0002row7_col0\" class=\"data row7 col0\" >0.03</td>\n",
       "                        <td id=\"T_9dc445ee_fdce_11eb_8af7_0242ac1c0002row7_col1\" class=\"data row7 col1\" >-0.02</td>\n",
       "                        <td id=\"T_9dc445ee_fdce_11eb_8af7_0242ac1c0002row7_col2\" class=\"data row7 col2\" >-0.04</td>\n",
       "                        <td id=\"T_9dc445ee_fdce_11eb_8af7_0242ac1c0002row7_col3\" class=\"data row7 col3\" >-0.02</td>\n",
       "                        <td id=\"T_9dc445ee_fdce_11eb_8af7_0242ac1c0002row7_col4\" class=\"data row7 col4\" >-0.02</td>\n",
       "                        <td id=\"T_9dc445ee_fdce_11eb_8af7_0242ac1c0002row7_col5\" class=\"data row7 col5\" >0.00</td>\n",
       "                        <td id=\"T_9dc445ee_fdce_11eb_8af7_0242ac1c0002row7_col6\" class=\"data row7 col6\" >-0.02</td>\n",
       "                        <td id=\"T_9dc445ee_fdce_11eb_8af7_0242ac1c0002row7_col7\" class=\"data row7 col7\" >1.00</td>\n",
       "                        <td id=\"T_9dc445ee_fdce_11eb_8af7_0242ac1c0002row7_col8\" class=\"data row7 col8\" >0.01</td>\n",
       "                        <td id=\"T_9dc445ee_fdce_11eb_8af7_0242ac1c0002row7_col9\" class=\"data row7 col9\" >-0.00</td>\n",
       "                        <td id=\"T_9dc445ee_fdce_11eb_8af7_0242ac1c0002row7_col10\" class=\"data row7 col10\" >0.00</td>\n",
       "                        <td id=\"T_9dc445ee_fdce_11eb_8af7_0242ac1c0002row7_col11\" class=\"data row7 col11\" >0.04</td>\n",
       "                        <td id=\"T_9dc445ee_fdce_11eb_8af7_0242ac1c0002row7_col12\" class=\"data row7 col12\" >-0.00</td>\n",
       "                        <td id=\"T_9dc445ee_fdce_11eb_8af7_0242ac1c0002row7_col13\" class=\"data row7 col13\" >-0.00</td>\n",
       "                        <td id=\"T_9dc445ee_fdce_11eb_8af7_0242ac1c0002row7_col14\" class=\"data row7 col14\" >-0.00</td>\n",
       "                        <td id=\"T_9dc445ee_fdce_11eb_8af7_0242ac1c0002row7_col15\" class=\"data row7 col15\" >0.03</td>\n",
       "                        <td id=\"T_9dc445ee_fdce_11eb_8af7_0242ac1c0002row7_col16\" class=\"data row7 col16\" >0.02</td>\n",
       "                        <td id=\"T_9dc445ee_fdce_11eb_8af7_0242ac1c0002row7_col17\" class=\"data row7 col17\" >-0.02</td>\n",
       "            </tr>\n",
       "            <tr>\n",
       "                        <th id=\"T_9dc445ee_fdce_11eb_8af7_0242ac1c0002level0_row8\" class=\"row_heading level0 row8\" >Kitchen 12 [kW]</th>\n",
       "                        <td id=\"T_9dc445ee_fdce_11eb_8af7_0242ac1c0002row8_col0\" class=\"data row8 col0\" >-0.00</td>\n",
       "                        <td id=\"T_9dc445ee_fdce_11eb_8af7_0242ac1c0002row8_col1\" class=\"data row8 col1\" >-0.01</td>\n",
       "                        <td id=\"T_9dc445ee_fdce_11eb_8af7_0242ac1c0002row8_col2\" class=\"data row8 col2\" >0.02</td>\n",
       "                        <td id=\"T_9dc445ee_fdce_11eb_8af7_0242ac1c0002row8_col3\" class=\"data row8 col3\" >-0.01</td>\n",
       "                        <td id=\"T_9dc445ee_fdce_11eb_8af7_0242ac1c0002row8_col4\" class=\"data row8 col4\" >-0.01</td>\n",
       "                        <td id=\"T_9dc445ee_fdce_11eb_8af7_0242ac1c0002row8_col5\" class=\"data row8 col5\" >-0.01</td>\n",
       "                        <td id=\"T_9dc445ee_fdce_11eb_8af7_0242ac1c0002row8_col6\" class=\"data row8 col6\" >-0.01</td>\n",
       "                        <td id=\"T_9dc445ee_fdce_11eb_8af7_0242ac1c0002row8_col7\" class=\"data row8 col7\" >0.01</td>\n",
       "                        <td id=\"T_9dc445ee_fdce_11eb_8af7_0242ac1c0002row8_col8\" class=\"data row8 col8\" >1.00</td>\n",
       "                        <td id=\"T_9dc445ee_fdce_11eb_8af7_0242ac1c0002row8_col9\" class=\"data row8 col9\" >0.00</td>\n",
       "                        <td id=\"T_9dc445ee_fdce_11eb_8af7_0242ac1c0002row8_col10\" class=\"data row8 col10\" >0.01</td>\n",
       "                        <td id=\"T_9dc445ee_fdce_11eb_8af7_0242ac1c0002row8_col11\" class=\"data row8 col11\" >-0.01</td>\n",
       "                        <td id=\"T_9dc445ee_fdce_11eb_8af7_0242ac1c0002row8_col12\" class=\"data row8 col12\" >0.01</td>\n",
       "                        <td id=\"T_9dc445ee_fdce_11eb_8af7_0242ac1c0002row8_col13\" class=\"data row8 col13\" >0.01</td>\n",
       "                        <td id=\"T_9dc445ee_fdce_11eb_8af7_0242ac1c0002row8_col14\" class=\"data row8 col14\" >0.09</td>\n",
       "                        <td id=\"T_9dc445ee_fdce_11eb_8af7_0242ac1c0002row8_col15\" class=\"data row8 col15\" >-0.00</td>\n",
       "                        <td id=\"T_9dc445ee_fdce_11eb_8af7_0242ac1c0002row8_col16\" class=\"data row8 col16\" >-0.02</td>\n",
       "                        <td id=\"T_9dc445ee_fdce_11eb_8af7_0242ac1c0002row8_col17\" class=\"data row8 col17\" >0.04</td>\n",
       "            </tr>\n",
       "            <tr>\n",
       "                        <th id=\"T_9dc445ee_fdce_11eb_8af7_0242ac1c0002level0_row9\" class=\"row_heading level0 row9\" >Kitchen 14 [kW]</th>\n",
       "                        <td id=\"T_9dc445ee_fdce_11eb_8af7_0242ac1c0002row9_col0\" class=\"data row9 col0\" >-0.01</td>\n",
       "                        <td id=\"T_9dc445ee_fdce_11eb_8af7_0242ac1c0002row9_col1\" class=\"data row9 col1\" >-0.01</td>\n",
       "                        <td id=\"T_9dc445ee_fdce_11eb_8af7_0242ac1c0002row9_col2\" class=\"data row9 col2\" >0.01</td>\n",
       "                        <td id=\"T_9dc445ee_fdce_11eb_8af7_0242ac1c0002row9_col3\" class=\"data row9 col3\" >-0.01</td>\n",
       "                        <td id=\"T_9dc445ee_fdce_11eb_8af7_0242ac1c0002row9_col4\" class=\"data row9 col4\" >-0.03</td>\n",
       "                        <td id=\"T_9dc445ee_fdce_11eb_8af7_0242ac1c0002row9_col5\" class=\"data row9 col5\" >-0.00</td>\n",
       "                        <td id=\"T_9dc445ee_fdce_11eb_8af7_0242ac1c0002row9_col6\" class=\"data row9 col6\" >0.04</td>\n",
       "                        <td id=\"T_9dc445ee_fdce_11eb_8af7_0242ac1c0002row9_col7\" class=\"data row9 col7\" >-0.00</td>\n",
       "                        <td id=\"T_9dc445ee_fdce_11eb_8af7_0242ac1c0002row9_col8\" class=\"data row9 col8\" >0.00</td>\n",
       "                        <td id=\"T_9dc445ee_fdce_11eb_8af7_0242ac1c0002row9_col9\" class=\"data row9 col9\" >1.00</td>\n",
       "                        <td id=\"T_9dc445ee_fdce_11eb_8af7_0242ac1c0002row9_col10\" class=\"data row9 col10\" >0.10</td>\n",
       "                        <td id=\"T_9dc445ee_fdce_11eb_8af7_0242ac1c0002row9_col11\" class=\"data row9 col11\" >-0.02</td>\n",
       "                        <td id=\"T_9dc445ee_fdce_11eb_8af7_0242ac1c0002row9_col12\" class=\"data row9 col12\" >0.05</td>\n",
       "                        <td id=\"T_9dc445ee_fdce_11eb_8af7_0242ac1c0002row9_col13\" class=\"data row9 col13\" >0.01</td>\n",
       "                        <td id=\"T_9dc445ee_fdce_11eb_8af7_0242ac1c0002row9_col14\" class=\"data row9 col14\" >0.11</td>\n",
       "                        <td id=\"T_9dc445ee_fdce_11eb_8af7_0242ac1c0002row9_col15\" class=\"data row9 col15\" >-0.01</td>\n",
       "                        <td id=\"T_9dc445ee_fdce_11eb_8af7_0242ac1c0002row9_col16\" class=\"data row9 col16\" >0.01</td>\n",
       "                        <td id=\"T_9dc445ee_fdce_11eb_8af7_0242ac1c0002row9_col17\" class=\"data row9 col17\" >0.14</td>\n",
       "            </tr>\n",
       "            <tr>\n",
       "                        <th id=\"T_9dc445ee_fdce_11eb_8af7_0242ac1c0002level0_row10\" class=\"row_heading level0 row10\" >Kitchen 38 [kW]</th>\n",
       "                        <td id=\"T_9dc445ee_fdce_11eb_8af7_0242ac1c0002row10_col0\" class=\"data row10 col0\" >0.02</td>\n",
       "                        <td id=\"T_9dc445ee_fdce_11eb_8af7_0242ac1c0002row10_col1\" class=\"data row10 col1\" >0.00</td>\n",
       "                        <td id=\"T_9dc445ee_fdce_11eb_8af7_0242ac1c0002row10_col2\" class=\"data row10 col2\" >0.02</td>\n",
       "                        <td id=\"T_9dc445ee_fdce_11eb_8af7_0242ac1c0002row10_col3\" class=\"data row10 col3\" >0.17</td>\n",
       "                        <td id=\"T_9dc445ee_fdce_11eb_8af7_0242ac1c0002row10_col4\" class=\"data row10 col4\" >-0.02</td>\n",
       "                        <td id=\"T_9dc445ee_fdce_11eb_8af7_0242ac1c0002row10_col5\" class=\"data row10 col5\" >-0.01</td>\n",
       "                        <td id=\"T_9dc445ee_fdce_11eb_8af7_0242ac1c0002row10_col6\" class=\"data row10 col6\" >0.00</td>\n",
       "                        <td id=\"T_9dc445ee_fdce_11eb_8af7_0242ac1c0002row10_col7\" class=\"data row10 col7\" >0.00</td>\n",
       "                        <td id=\"T_9dc445ee_fdce_11eb_8af7_0242ac1c0002row10_col8\" class=\"data row10 col8\" >0.01</td>\n",
       "                        <td id=\"T_9dc445ee_fdce_11eb_8af7_0242ac1c0002row10_col9\" class=\"data row10 col9\" >0.10</td>\n",
       "                        <td id=\"T_9dc445ee_fdce_11eb_8af7_0242ac1c0002row10_col10\" class=\"data row10 col10\" >1.00</td>\n",
       "                        <td id=\"T_9dc445ee_fdce_11eb_8af7_0242ac1c0002row10_col11\" class=\"data row10 col11\" >0.01</td>\n",
       "                        <td id=\"T_9dc445ee_fdce_11eb_8af7_0242ac1c0002row10_col12\" class=\"data row10 col12\" >-0.00</td>\n",
       "                        <td id=\"T_9dc445ee_fdce_11eb_8af7_0242ac1c0002row10_col13\" class=\"data row10 col13\" >-0.01</td>\n",
       "                        <td id=\"T_9dc445ee_fdce_11eb_8af7_0242ac1c0002row10_col14\" class=\"data row10 col14\" >0.00</td>\n",
       "                        <td id=\"T_9dc445ee_fdce_11eb_8af7_0242ac1c0002row10_col15\" class=\"data row10 col15\" >0.02</td>\n",
       "                        <td id=\"T_9dc445ee_fdce_11eb_8af7_0242ac1c0002row10_col16\" class=\"data row10 col16\" >-0.00</td>\n",
       "                        <td id=\"T_9dc445ee_fdce_11eb_8af7_0242ac1c0002row10_col17\" class=\"data row10 col17\" >0.09</td>\n",
       "            </tr>\n",
       "            <tr>\n",
       "                        <th id=\"T_9dc445ee_fdce_11eb_8af7_0242ac1c0002level0_row11\" class=\"row_heading level0 row11\" >Barn [kW]</th>\n",
       "                        <td id=\"T_9dc445ee_fdce_11eb_8af7_0242ac1c0002row11_col0\" class=\"data row11 col0\" >0.03</td>\n",
       "                        <td id=\"T_9dc445ee_fdce_11eb_8af7_0242ac1c0002row11_col1\" class=\"data row11 col1\" >0.01</td>\n",
       "                        <td id=\"T_9dc445ee_fdce_11eb_8af7_0242ac1c0002row11_col2\" class=\"data row11 col2\" >-0.00</td>\n",
       "                        <td id=\"T_9dc445ee_fdce_11eb_8af7_0242ac1c0002row11_col3\" class=\"data row11 col3\" >-0.01</td>\n",
       "                        <td id=\"T_9dc445ee_fdce_11eb_8af7_0242ac1c0002row11_col4\" class=\"data row11 col4\" >-0.04</td>\n",
       "                        <td id=\"T_9dc445ee_fdce_11eb_8af7_0242ac1c0002row11_col5\" class=\"data row11 col5\" >-0.00</td>\n",
       "                        <td id=\"T_9dc445ee_fdce_11eb_8af7_0242ac1c0002row11_col6\" class=\"data row11 col6\" >0.06</td>\n",
       "                        <td id=\"T_9dc445ee_fdce_11eb_8af7_0242ac1c0002row11_col7\" class=\"data row11 col7\" >0.04</td>\n",
       "                        <td id=\"T_9dc445ee_fdce_11eb_8af7_0242ac1c0002row11_col8\" class=\"data row11 col8\" >-0.01</td>\n",
       "                        <td id=\"T_9dc445ee_fdce_11eb_8af7_0242ac1c0002row11_col9\" class=\"data row11 col9\" >-0.02</td>\n",
       "                        <td id=\"T_9dc445ee_fdce_11eb_8af7_0242ac1c0002row11_col10\" class=\"data row11 col10\" >0.01</td>\n",
       "                        <td id=\"T_9dc445ee_fdce_11eb_8af7_0242ac1c0002row11_col11\" class=\"data row11 col11\" >1.00</td>\n",
       "                        <td id=\"T_9dc445ee_fdce_11eb_8af7_0242ac1c0002row11_col12\" class=\"data row11 col12\" >0.02</td>\n",
       "                        <td id=\"T_9dc445ee_fdce_11eb_8af7_0242ac1c0002row11_col13\" class=\"data row11 col13\" >-0.01</td>\n",
       "                        <td id=\"T_9dc445ee_fdce_11eb_8af7_0242ac1c0002row11_col14\" class=\"data row11 col14\" >0.01</td>\n",
       "                        <td id=\"T_9dc445ee_fdce_11eb_8af7_0242ac1c0002row11_col15\" class=\"data row11 col15\" >0.03</td>\n",
       "                        <td id=\"T_9dc445ee_fdce_11eb_8af7_0242ac1c0002row11_col16\" class=\"data row11 col16\" >0.07</td>\n",
       "                        <td id=\"T_9dc445ee_fdce_11eb_8af7_0242ac1c0002row11_col17\" class=\"data row11 col17\" >0.26</td>\n",
       "            </tr>\n",
       "            <tr>\n",
       "                        <th id=\"T_9dc445ee_fdce_11eb_8af7_0242ac1c0002level0_row12\" class=\"row_heading level0 row12\" >Well [kW]</th>\n",
       "                        <td id=\"T_9dc445ee_fdce_11eb_8af7_0242ac1c0002row12_col0\" class=\"data row12 col0\" >0.03</td>\n",
       "                        <td id=\"T_9dc445ee_fdce_11eb_8af7_0242ac1c0002row12_col1\" class=\"data row12 col1\" >0.01</td>\n",
       "                        <td id=\"T_9dc445ee_fdce_11eb_8af7_0242ac1c0002row12_col2\" class=\"data row12 col2\" >0.00</td>\n",
       "                        <td id=\"T_9dc445ee_fdce_11eb_8af7_0242ac1c0002row12_col3\" class=\"data row12 col3\" >0.01</td>\n",
       "                        <td id=\"T_9dc445ee_fdce_11eb_8af7_0242ac1c0002row12_col4\" class=\"data row12 col4\" >-0.01</td>\n",
       "                        <td id=\"T_9dc445ee_fdce_11eb_8af7_0242ac1c0002row12_col5\" class=\"data row12 col5\" >0.01</td>\n",
       "                        <td id=\"T_9dc445ee_fdce_11eb_8af7_0242ac1c0002row12_col6\" class=\"data row12 col6\" >-0.00</td>\n",
       "                        <td id=\"T_9dc445ee_fdce_11eb_8af7_0242ac1c0002row12_col7\" class=\"data row12 col7\" >-0.00</td>\n",
       "                        <td id=\"T_9dc445ee_fdce_11eb_8af7_0242ac1c0002row12_col8\" class=\"data row12 col8\" >0.01</td>\n",
       "                        <td id=\"T_9dc445ee_fdce_11eb_8af7_0242ac1c0002row12_col9\" class=\"data row12 col9\" >0.05</td>\n",
       "                        <td id=\"T_9dc445ee_fdce_11eb_8af7_0242ac1c0002row12_col10\" class=\"data row12 col10\" >-0.00</td>\n",
       "                        <td id=\"T_9dc445ee_fdce_11eb_8af7_0242ac1c0002row12_col11\" class=\"data row12 col11\" >0.02</td>\n",
       "                        <td id=\"T_9dc445ee_fdce_11eb_8af7_0242ac1c0002row12_col12\" class=\"data row12 col12\" >1.00</td>\n",
       "                        <td id=\"T_9dc445ee_fdce_11eb_8af7_0242ac1c0002row12_col13\" class=\"data row12 col13\" >0.00</td>\n",
       "                        <td id=\"T_9dc445ee_fdce_11eb_8af7_0242ac1c0002row12_col14\" class=\"data row12 col14\" >0.09</td>\n",
       "                        <td id=\"T_9dc445ee_fdce_11eb_8af7_0242ac1c0002row12_col15\" class=\"data row12 col15\" >0.03</td>\n",
       "                        <td id=\"T_9dc445ee_fdce_11eb_8af7_0242ac1c0002row12_col16\" class=\"data row12 col16\" >0.01</td>\n",
       "                        <td id=\"T_9dc445ee_fdce_11eb_8af7_0242ac1c0002row12_col17\" class=\"data row12 col17\" >0.25</td>\n",
       "            </tr>\n",
       "            <tr>\n",
       "                        <th id=\"T_9dc445ee_fdce_11eb_8af7_0242ac1c0002level0_row13\" class=\"row_heading level0 row13\" >Microwave [kW]</th>\n",
       "                        <td id=\"T_9dc445ee_fdce_11eb_8af7_0242ac1c0002row13_col0\" class=\"data row13 col0\" >0.00</td>\n",
       "                        <td id=\"T_9dc445ee_fdce_11eb_8af7_0242ac1c0002row13_col1\" class=\"data row13 col1\" >-0.01</td>\n",
       "                        <td id=\"T_9dc445ee_fdce_11eb_8af7_0242ac1c0002row13_col2\" class=\"data row13 col2\" >-0.01</td>\n",
       "                        <td id=\"T_9dc445ee_fdce_11eb_8af7_0242ac1c0002row13_col3\" class=\"data row13 col3\" >0.01</td>\n",
       "                        <td id=\"T_9dc445ee_fdce_11eb_8af7_0242ac1c0002row13_col4\" class=\"data row13 col4\" >-0.01</td>\n",
       "                        <td id=\"T_9dc445ee_fdce_11eb_8af7_0242ac1c0002row13_col5\" class=\"data row13 col5\" >0.01</td>\n",
       "                        <td id=\"T_9dc445ee_fdce_11eb_8af7_0242ac1c0002row13_col6\" class=\"data row13 col6\" >0.03</td>\n",
       "                        <td id=\"T_9dc445ee_fdce_11eb_8af7_0242ac1c0002row13_col7\" class=\"data row13 col7\" >-0.00</td>\n",
       "                        <td id=\"T_9dc445ee_fdce_11eb_8af7_0242ac1c0002row13_col8\" class=\"data row13 col8\" >0.01</td>\n",
       "                        <td id=\"T_9dc445ee_fdce_11eb_8af7_0242ac1c0002row13_col9\" class=\"data row13 col9\" >0.01</td>\n",
       "                        <td id=\"T_9dc445ee_fdce_11eb_8af7_0242ac1c0002row13_col10\" class=\"data row13 col10\" >-0.01</td>\n",
       "                        <td id=\"T_9dc445ee_fdce_11eb_8af7_0242ac1c0002row13_col11\" class=\"data row13 col11\" >-0.01</td>\n",
       "                        <td id=\"T_9dc445ee_fdce_11eb_8af7_0242ac1c0002row13_col12\" class=\"data row13 col12\" >0.00</td>\n",
       "                        <td id=\"T_9dc445ee_fdce_11eb_8af7_0242ac1c0002row13_col13\" class=\"data row13 col13\" >1.00</td>\n",
       "                        <td id=\"T_9dc445ee_fdce_11eb_8af7_0242ac1c0002row13_col14\" class=\"data row13 col14\" >0.05</td>\n",
       "                        <td id=\"T_9dc445ee_fdce_11eb_8af7_0242ac1c0002row13_col15\" class=\"data row13 col15\" >0.00</td>\n",
       "                        <td id=\"T_9dc445ee_fdce_11eb_8af7_0242ac1c0002row13_col16\" class=\"data row13 col16\" >-0.00</td>\n",
       "                        <td id=\"T_9dc445ee_fdce_11eb_8af7_0242ac1c0002row13_col17\" class=\"data row13 col17\" >0.13</td>\n",
       "            </tr>\n",
       "            <tr>\n",
       "                        <th id=\"T_9dc445ee_fdce_11eb_8af7_0242ac1c0002level0_row14\" class=\"row_heading level0 row14\" >Living room [kW]</th>\n",
       "                        <td id=\"T_9dc445ee_fdce_11eb_8af7_0242ac1c0002row14_col0\" class=\"data row14 col0\" >-0.02</td>\n",
       "                        <td id=\"T_9dc445ee_fdce_11eb_8af7_0242ac1c0002row14_col1\" class=\"data row14 col1\" >-0.00</td>\n",
       "                        <td id=\"T_9dc445ee_fdce_11eb_8af7_0242ac1c0002row14_col2\" class=\"data row14 col2\" >0.01</td>\n",
       "                        <td id=\"T_9dc445ee_fdce_11eb_8af7_0242ac1c0002row14_col3\" class=\"data row14 col3\" >-0.05</td>\n",
       "                        <td id=\"T_9dc445ee_fdce_11eb_8af7_0242ac1c0002row14_col4\" class=\"data row14 col4\" >-0.01</td>\n",
       "                        <td id=\"T_9dc445ee_fdce_11eb_8af7_0242ac1c0002row14_col5\" class=\"data row14 col5\" >0.06</td>\n",
       "                        <td id=\"T_9dc445ee_fdce_11eb_8af7_0242ac1c0002row14_col6\" class=\"data row14 col6\" >0.03</td>\n",
       "                        <td id=\"T_9dc445ee_fdce_11eb_8af7_0242ac1c0002row14_col7\" class=\"data row14 col7\" >-0.00</td>\n",
       "                        <td id=\"T_9dc445ee_fdce_11eb_8af7_0242ac1c0002row14_col8\" class=\"data row14 col8\" >0.09</td>\n",
       "                        <td id=\"T_9dc445ee_fdce_11eb_8af7_0242ac1c0002row14_col9\" class=\"data row14 col9\" >0.11</td>\n",
       "                        <td id=\"T_9dc445ee_fdce_11eb_8af7_0242ac1c0002row14_col10\" class=\"data row14 col10\" >0.00</td>\n",
       "                        <td id=\"T_9dc445ee_fdce_11eb_8af7_0242ac1c0002row14_col11\" class=\"data row14 col11\" >0.01</td>\n",
       "                        <td id=\"T_9dc445ee_fdce_11eb_8af7_0242ac1c0002row14_col12\" class=\"data row14 col12\" >0.09</td>\n",
       "                        <td id=\"T_9dc445ee_fdce_11eb_8af7_0242ac1c0002row14_col13\" class=\"data row14 col13\" >0.05</td>\n",
       "                        <td id=\"T_9dc445ee_fdce_11eb_8af7_0242ac1c0002row14_col14\" class=\"data row14 col14\" >1.00</td>\n",
       "                        <td id=\"T_9dc445ee_fdce_11eb_8af7_0242ac1c0002row14_col15\" class=\"data row14 col15\" >-0.02</td>\n",
       "                        <td id=\"T_9dc445ee_fdce_11eb_8af7_0242ac1c0002row14_col16\" class=\"data row14 col16\" >-0.01</td>\n",
       "                        <td id=\"T_9dc445ee_fdce_11eb_8af7_0242ac1c0002row14_col17\" class=\"data row14 col17\" >0.33</td>\n",
       "            </tr>\n",
       "            <tr>\n",
       "                        <th id=\"T_9dc445ee_fdce_11eb_8af7_0242ac1c0002level0_row15\" class=\"row_heading level0 row15\" >Solar [kW]</th>\n",
       "                        <td id=\"T_9dc445ee_fdce_11eb_8af7_0242ac1c0002row15_col0\" class=\"data row15 col0\" >1.00</td>\n",
       "                        <td id=\"T_9dc445ee_fdce_11eb_8af7_0242ac1c0002row15_col1\" class=\"data row15 col1\" >0.03</td>\n",
       "                        <td id=\"T_9dc445ee_fdce_11eb_8af7_0242ac1c0002row15_col2\" class=\"data row15 col2\" >0.08</td>\n",
       "                        <td id=\"T_9dc445ee_fdce_11eb_8af7_0242ac1c0002row15_col3\" class=\"data row15 col3\" >-0.17</td>\n",
       "                        <td id=\"T_9dc445ee_fdce_11eb_8af7_0242ac1c0002row15_col4\" class=\"data row15 col4\" >-0.13</td>\n",
       "                        <td id=\"T_9dc445ee_fdce_11eb_8af7_0242ac1c0002row15_col5\" class=\"data row15 col5\" >-0.05</td>\n",
       "                        <td id=\"T_9dc445ee_fdce_11eb_8af7_0242ac1c0002row15_col6\" class=\"data row15 col6\" >-0.10</td>\n",
       "                        <td id=\"T_9dc445ee_fdce_11eb_8af7_0242ac1c0002row15_col7\" class=\"data row15 col7\" >0.03</td>\n",
       "                        <td id=\"T_9dc445ee_fdce_11eb_8af7_0242ac1c0002row15_col8\" class=\"data row15 col8\" >-0.00</td>\n",
       "                        <td id=\"T_9dc445ee_fdce_11eb_8af7_0242ac1c0002row15_col9\" class=\"data row15 col9\" >-0.01</td>\n",
       "                        <td id=\"T_9dc445ee_fdce_11eb_8af7_0242ac1c0002row15_col10\" class=\"data row15 col10\" >0.02</td>\n",
       "                        <td id=\"T_9dc445ee_fdce_11eb_8af7_0242ac1c0002row15_col11\" class=\"data row15 col11\" >0.03</td>\n",
       "                        <td id=\"T_9dc445ee_fdce_11eb_8af7_0242ac1c0002row15_col12\" class=\"data row15 col12\" >0.03</td>\n",
       "                        <td id=\"T_9dc445ee_fdce_11eb_8af7_0242ac1c0002row15_col13\" class=\"data row15 col13\" >0.00</td>\n",
       "                        <td id=\"T_9dc445ee_fdce_11eb_8af7_0242ac1c0002row15_col14\" class=\"data row15 col14\" >-0.02</td>\n",
       "                        <td id=\"T_9dc445ee_fdce_11eb_8af7_0242ac1c0002row15_col15\" class=\"data row15 col15\" >1.00</td>\n",
       "                        <td id=\"T_9dc445ee_fdce_11eb_8af7_0242ac1c0002row15_col16\" class=\"data row15 col16\" >-0.12</td>\n",
       "                        <td id=\"T_9dc445ee_fdce_11eb_8af7_0242ac1c0002row15_col17\" class=\"data row15 col17\" >-0.27</td>\n",
       "            </tr>\n",
       "            <tr>\n",
       "                        <th id=\"T_9dc445ee_fdce_11eb_8af7_0242ac1c0002level0_row16\" class=\"row_heading level0 row16\" >temperature</th>\n",
       "                        <td id=\"T_9dc445ee_fdce_11eb_8af7_0242ac1c0002row16_col0\" class=\"data row16 col0\" >-0.12</td>\n",
       "                        <td id=\"T_9dc445ee_fdce_11eb_8af7_0242ac1c0002row16_col1\" class=\"data row16 col1\" >-0.01</td>\n",
       "                        <td id=\"T_9dc445ee_fdce_11eb_8af7_0242ac1c0002row16_col2\" class=\"data row16 col2\" >-0.17</td>\n",
       "                        <td id=\"T_9dc445ee_fdce_11eb_8af7_0242ac1c0002row16_col3\" class=\"data row16 col3\" >-0.11</td>\n",
       "                        <td id=\"T_9dc445ee_fdce_11eb_8af7_0242ac1c0002row16_col4\" class=\"data row16 col4\" >-0.11</td>\n",
       "                        <td id=\"T_9dc445ee_fdce_11eb_8af7_0242ac1c0002row16_col5\" class=\"data row16 col5\" >0.03</td>\n",
       "                        <td id=\"T_9dc445ee_fdce_11eb_8af7_0242ac1c0002row16_col6\" class=\"data row16 col6\" >0.02</td>\n",
       "                        <td id=\"T_9dc445ee_fdce_11eb_8af7_0242ac1c0002row16_col7\" class=\"data row16 col7\" >0.02</td>\n",
       "                        <td id=\"T_9dc445ee_fdce_11eb_8af7_0242ac1c0002row16_col8\" class=\"data row16 col8\" >-0.02</td>\n",
       "                        <td id=\"T_9dc445ee_fdce_11eb_8af7_0242ac1c0002row16_col9\" class=\"data row16 col9\" >0.01</td>\n",
       "                        <td id=\"T_9dc445ee_fdce_11eb_8af7_0242ac1c0002row16_col10\" class=\"data row16 col10\" >-0.00</td>\n",
       "                        <td id=\"T_9dc445ee_fdce_11eb_8af7_0242ac1c0002row16_col11\" class=\"data row16 col11\" >0.07</td>\n",
       "                        <td id=\"T_9dc445ee_fdce_11eb_8af7_0242ac1c0002row16_col12\" class=\"data row16 col12\" >0.01</td>\n",
       "                        <td id=\"T_9dc445ee_fdce_11eb_8af7_0242ac1c0002row16_col13\" class=\"data row16 col13\" >-0.00</td>\n",
       "                        <td id=\"T_9dc445ee_fdce_11eb_8af7_0242ac1c0002row16_col14\" class=\"data row16 col14\" >-0.01</td>\n",
       "                        <td id=\"T_9dc445ee_fdce_11eb_8af7_0242ac1c0002row16_col15\" class=\"data row16 col15\" >-0.12</td>\n",
       "                        <td id=\"T_9dc445ee_fdce_11eb_8af7_0242ac1c0002row16_col16\" class=\"data row16 col16\" >1.00</td>\n",
       "                        <td id=\"T_9dc445ee_fdce_11eb_8af7_0242ac1c0002row16_col17\" class=\"data row16 col17\" >-0.08</td>\n",
       "            </tr>\n",
       "            <tr>\n",
       "                        <th id=\"T_9dc445ee_fdce_11eb_8af7_0242ac1c0002level0_row17\" class=\"row_heading level0 row17\" >Total Consuption</th>\n",
       "                        <td id=\"T_9dc445ee_fdce_11eb_8af7_0242ac1c0002row17_col0\" class=\"data row17 col0\" >-0.27</td>\n",
       "                        <td id=\"T_9dc445ee_fdce_11eb_8af7_0242ac1c0002row17_col1\" class=\"data row17 col1\" >0.28</td>\n",
       "                        <td id=\"T_9dc445ee_fdce_11eb_8af7_0242ac1c0002row17_col2\" class=\"data row17 col2\" >0.29</td>\n",
       "                        <td id=\"T_9dc445ee_fdce_11eb_8af7_0242ac1c0002row17_col3\" class=\"data row17 col3\" >0.46</td>\n",
       "                        <td id=\"T_9dc445ee_fdce_11eb_8af7_0242ac1c0002row17_col4\" class=\"data row17 col4\" >0.17</td>\n",
       "                        <td id=\"T_9dc445ee_fdce_11eb_8af7_0242ac1c0002row17_col5\" class=\"data row17 col5\" >0.22</td>\n",
       "                        <td id=\"T_9dc445ee_fdce_11eb_8af7_0242ac1c0002row17_col6\" class=\"data row17 col6\" >0.13</td>\n",
       "                        <td id=\"T_9dc445ee_fdce_11eb_8af7_0242ac1c0002row17_col7\" class=\"data row17 col7\" >-0.02</td>\n",
       "                        <td id=\"T_9dc445ee_fdce_11eb_8af7_0242ac1c0002row17_col8\" class=\"data row17 col8\" >0.04</td>\n",
       "                        <td id=\"T_9dc445ee_fdce_11eb_8af7_0242ac1c0002row17_col9\" class=\"data row17 col9\" >0.14</td>\n",
       "                        <td id=\"T_9dc445ee_fdce_11eb_8af7_0242ac1c0002row17_col10\" class=\"data row17 col10\" >0.09</td>\n",
       "                        <td id=\"T_9dc445ee_fdce_11eb_8af7_0242ac1c0002row17_col11\" class=\"data row17 col11\" >0.26</td>\n",
       "                        <td id=\"T_9dc445ee_fdce_11eb_8af7_0242ac1c0002row17_col12\" class=\"data row17 col12\" >0.25</td>\n",
       "                        <td id=\"T_9dc445ee_fdce_11eb_8af7_0242ac1c0002row17_col13\" class=\"data row17 col13\" >0.13</td>\n",
       "                        <td id=\"T_9dc445ee_fdce_11eb_8af7_0242ac1c0002row17_col14\" class=\"data row17 col14\" >0.33</td>\n",
       "                        <td id=\"T_9dc445ee_fdce_11eb_8af7_0242ac1c0002row17_col15\" class=\"data row17 col15\" >-0.27</td>\n",
       "                        <td id=\"T_9dc445ee_fdce_11eb_8af7_0242ac1c0002row17_col16\" class=\"data row17 col16\" >-0.08</td>\n",
       "                        <td id=\"T_9dc445ee_fdce_11eb_8af7_0242ac1c0002row17_col17\" class=\"data row17 col17\" >1.00</td>\n",
       "            </tr>\n",
       "    </tbody></table>"
      ],
      "text/plain": [
       "<pandas.io.formats.style.Styler at 0x7fb420564b10>"
      ]
     },
     "execution_count": 142,
     "metadata": {
      "tags": []
     },
     "output_type": "execute_result"
    }
   ],
   "source": [
    "#Correlation matrix\n",
    "corr = energy_data.corr()\n",
    "corr.style.background_gradient(cmap='coolwarm').set_precision(2)"
   ]
  },
  {
   "cell_type": "markdown",
   "metadata": {
    "id": "nqPl5gh_YzhX"
   },
   "source": [
    "<a id = \"cell_Preprocessing\"></a>\n",
    "## 2. Data Preprocessing"
   ]
  },
  {
   "cell_type": "code",
   "execution_count": 79,
   "metadata": {
    "executionInfo": {
     "elapsed": 301,
     "status": "ok",
     "timestamp": 1629075580484,
     "user": {
      "displayName": "Vijay Waghmare",
      "photoUrl": "",
      "userId": "02980993576388042039"
     },
     "user_tz": -600
    },
    "id": "ZZphLXD5vpn9"
   },
   "outputs": [],
   "source": [
    "def scheduler(epoch, lr):\n",
    "  if epoch < 10:\n",
    "    return lr\n",
    "  else:\n",
    "    return lr * tf.math.exp(-0.1)\n",
    "  \n",
    "callback = tf.keras.callbacks.LearningRateScheduler(scheduler)"
   ]
  },
  {
   "cell_type": "markdown",
   "metadata": {
    "id": "afzjwf-AYzha"
   },
   "source": [
    "*Split data for training and validation (e.g. 0.7/0.3).*"
   ]
  },
  {
   "cell_type": "code",
   "execution_count": 80,
   "metadata": {
    "colab": {
     "base_uri": "https://localhost:8080/"
    },
    "executionInfo": {
     "elapsed": 2,
     "status": "ok",
     "timestamp": 1629075581440,
     "user": {
      "displayName": "Vijay Waghmare",
      "photoUrl": "",
      "userId": "02980993576388042039"
     },
     "user_tz": -600
    },
    "id": "E0YyJJTorQIV",
    "outputId": "1e22fca6-1292-4d0f-db22-626699ee8012"
   },
   "outputs": [
    {
     "name": "stdout",
     "output_type": "stream",
     "text": [
      "Shape of:\n",
      "X_Train:(20998, 17)\n",
      "Y_train:(20998, 1)\n",
      "X_test:(9000, 17)\n",
      "Y_test:(9000, 1)\n"
     ]
    }
   ],
   "source": [
    "#Splitting data: As data is not a timeseries, we have shuffle the splits\n",
    "X_train, X_test, y_train, y_test = train_test_split(energy_data.iloc[:,:-1], \\\n",
    "                                                    energy_data.iloc[:,-1:], test_size=0.30, random_state=42,shuffle=True)\n",
    "print('Shape of:\\nX_Train:{}\\nY_train:{}\\nX_test:{}\\nY_test:{}' \\\n",
    "     .format(X_train.shape,y_train.shape,X_test.shape,y_test.shape))"
   ]
  },
  {
   "cell_type": "markdown",
   "metadata": {
    "id": "lY3RPGcKYzhc"
   },
   "source": [
    "<a id = \"cell_model\"></a>\n",
    "## 3. Model Construction"
   ]
  },
  {
   "cell_type": "markdown",
   "metadata": {
    "id": "Ec1t33UdYzhc"
   },
   "source": [
    "*Provide code to create your deep learning models in this section. Create at least 5 Sequential models with varied settings (e.g. layers, types of layer,  number of nodes, activation functions, optimizers). Note: Your models should not be exactly the same as the models, which were already included in the weekly practical contents.*\n",
    "\n",
    "*For all models, use mean_squared_error as the loss function, and set the number of epochs to be 500.*\n",
    "\n",
    "*Once the models are defined, create executable models and visualize their architecture. Hint: use model.summary() function*."
   ]
  },
  {
   "cell_type": "code",
   "execution_count": 81,
   "metadata": {
    "colab": {
     "base_uri": "https://localhost:8080/"
    },
    "executionInfo": {
     "elapsed": 350,
     "status": "ok",
     "timestamp": 1629075583020,
     "user": {
      "displayName": "Vijay Waghmare",
      "photoUrl": "",
      "userId": "02980993576388042039"
     },
     "user_tz": -600
    },
    "id": "YRSO49oTYzhc",
    "outputId": "fb2bfee5-3d38-4f54-90e7-5cc2899f4ded"
   },
   "outputs": [
    {
     "name": "stdout",
     "output_type": "stream",
     "text": [
      "Model: \"sequential_16\"\n",
      "_________________________________________________________________\n",
      "Layer (type)                 Output Shape              Param #   \n",
      "=================================================================\n",
      "dense_72 (Dense)             (None, 300)               5400      \n",
      "_________________________________________________________________\n",
      "dense_73 (Dense)             (None, 200)               60200     \n",
      "_________________________________________________________________\n",
      "dense_74 (Dense)             (None, 1)                 201       \n",
      "=================================================================\n",
      "Total params: 65,801\n",
      "Trainable params: 65,801\n",
      "Non-trainable params: 0\n",
      "_________________________________________________________________\n"
     ]
    }
   ],
   "source": [
    "#Model 1\n",
    "def mod1():\n",
    "    mod1 = Sequential()\n",
    "    mod1.add(Dense(300, activation='relu', kernel_initializer='he_uniform',input_shape=(X_train.shape[1],)))\n",
    "    mod1.add(Dense(200, activation='relu'))    \n",
    "    mod1.add(Dense(y_train.shape[1]))\n",
    "    mod1.compile(loss='mse',optimizer=optimizers.RMSprop(learning_rate=0.001),\n",
    "                      metrics=['mae'])\n",
    "    return mod1\n",
    "model_1 = mod1()\n",
    "model_1.summary()"
   ]
  },
  {
   "cell_type": "code",
   "execution_count": 112,
   "metadata": {
    "colab": {
     "base_uri": "https://localhost:8080/"
    },
    "executionInfo": {
     "elapsed": 264,
     "status": "ok",
     "timestamp": 1629078750691,
     "user": {
      "displayName": "Vijay Waghmare",
      "photoUrl": "",
      "userId": "02980993576388042039"
     },
     "user_tz": -600
    },
    "id": "5cyLokEnuNBA",
    "outputId": "a6e66974-a3eb-4c1c-efcc-09ebfed5e7f4"
   },
   "outputs": [
    {
     "name": "stdout",
     "output_type": "stream",
     "text": [
      "Model: \"sequential_21\"\n",
      "_________________________________________________________________\n",
      "Layer (type)                 Output Shape              Param #   \n",
      "=================================================================\n",
      "dense_90 (Dense)             (None, 150)               2700      \n",
      "_________________________________________________________________\n",
      "dense_91 (Dense)             (None, 100)               15100     \n",
      "_________________________________________________________________\n",
      "dense_92 (Dense)             (None, 1)                 101       \n",
      "=================================================================\n",
      "Total params: 17,901\n",
      "Trainable params: 17,901\n",
      "Non-trainable params: 0\n",
      "_________________________________________________________________\n"
     ]
    }
   ],
   "source": [
    "#Model 2\n",
    "def mod2():\n",
    "    mod2 = Sequential()\n",
    "    mod2.add(Dense(150, activation='relu', kernel_initializer='he_uniform',input_shape=(X_train.shape[1],)))\n",
    "    mod2.add(Dense(100, activation='relu'))      \n",
    "    mod2.add(Dense(y_train.shape[1]))\n",
    "    mod2.compile(loss='mse',optimizer=optimizers.RMSprop(learning_rate=0.001),\n",
    "                      metrics=['mae'])\n",
    "    return mod2\n",
    "model_2 = mod2()\n",
    "model_2.summary()"
   ]
  },
  {
   "cell_type": "code",
   "execution_count": 83,
   "metadata": {
    "colab": {
     "base_uri": "https://localhost:8080/"
    },
    "executionInfo": {
     "elapsed": 282,
     "status": "ok",
     "timestamp": 1629075587753,
     "user": {
      "displayName": "Vijay Waghmare",
      "photoUrl": "",
      "userId": "02980993576388042039"
     },
     "user_tz": -600
    },
    "id": "ebh49kq8uNDi",
    "outputId": "c7f011ea-32ff-4c95-e68a-e08b4696dbdd"
   },
   "outputs": [
    {
     "name": "stdout",
     "output_type": "stream",
     "text": [
      "Model: \"sequential_18\"\n",
      "_________________________________________________________________\n",
      "Layer (type)                 Output Shape              Param #   \n",
      "=================================================================\n",
      "dense_78 (Dense)             (None, 150)               2700      \n",
      "_________________________________________________________________\n",
      "dense_79 (Dense)             (None, 100)               15100     \n",
      "_________________________________________________________________\n",
      "dense_80 (Dense)             (None, 50)                5050      \n",
      "_________________________________________________________________\n",
      "dense_81 (Dense)             (None, 1)                 51        \n",
      "=================================================================\n",
      "Total params: 22,901\n",
      "Trainable params: 22,901\n",
      "Non-trainable params: 0\n",
      "_________________________________________________________________\n"
     ]
    }
   ],
   "source": [
    "#Model 3\n",
    "def mod3():\n",
    "    mod3 = Sequential()\n",
    "    mod3.add(Dense(150, activation='relu', kernel_initializer='he_uniform',input_shape=(X_train.shape[1],)))\n",
    "    mod3.add(Dense(100, activation='relu'))\n",
    "    mod3.add(Dense(50, activation='relu'))      \n",
    "    mod3.add(Dense(y_train.shape[1]))\n",
    "    mod3.compile(loss='mse',optimizer=optimizers.RMSprop(learning_rate=0.001),\n",
    "                      metrics=['mae'])\n",
    "    return mod3\n",
    "model_3 = mod3()\n",
    "model_3.summary()"
   ]
  },
  {
   "cell_type": "code",
   "execution_count": 84,
   "metadata": {
    "colab": {
     "base_uri": "https://localhost:8080/"
    },
    "executionInfo": {
     "elapsed": 279,
     "status": "ok",
     "timestamp": 1629075590080,
     "user": {
      "displayName": "Vijay Waghmare",
      "photoUrl": "",
      "userId": "02980993576388042039"
     },
     "user_tz": -600
    },
    "id": "Zh7RjZ32uNGJ",
    "outputId": "46c90f48-c018-41f6-c124-348a34f4d4df"
   },
   "outputs": [
    {
     "name": "stdout",
     "output_type": "stream",
     "text": [
      "Model: \"sequential_19\"\n",
      "_________________________________________________________________\n",
      "Layer (type)                 Output Shape              Param #   \n",
      "=================================================================\n",
      "dense_82 (Dense)             (None, 150)               2700      \n",
      "_________________________________________________________________\n",
      "dense_83 (Dense)             (None, 100)               15100     \n",
      "_________________________________________________________________\n",
      "dense_84 (Dense)             (None, 50)                5050      \n",
      "_________________________________________________________________\n",
      "dense_85 (Dense)             (None, 1)                 51        \n",
      "=================================================================\n",
      "Total params: 22,901\n",
      "Trainable params: 22,901\n",
      "Non-trainable params: 0\n",
      "_________________________________________________________________\n"
     ]
    }
   ],
   "source": [
    "#Model 4\n",
    "def mod4():\n",
    "    mod4 = Sequential()\n",
    "    mod4.add(Dense(150, activation='relu', kernel_initializer='he_uniform',input_shape=(X_train.shape[1],)))\n",
    "    mod4.add(Dense(100, activation='relu'))\n",
    "    mod4.add(Dense(50, activation='relu'))         \n",
    "    mod4.add(Dense(y_train.shape[1]))\n",
    "    mod4.compile(loss='mse',optimizer=optimizers.Adamax(learning_rate=0.001),\n",
    "                      metrics=['mae'])\n",
    "    return mod4\n",
    "model_4 = mod4()\n",
    "model_4.summary()\n"
   ]
  },
  {
   "cell_type": "code",
   "execution_count": 85,
   "metadata": {
    "colab": {
     "base_uri": "https://localhost:8080/"
    },
    "executionInfo": {
     "elapsed": 270,
     "status": "ok",
     "timestamp": 1629075593085,
     "user": {
      "displayName": "Vijay Waghmare",
      "photoUrl": "",
      "userId": "02980993576388042039"
     },
     "user_tz": -600
    },
    "id": "zg2EXul9uNKB",
    "outputId": "da10bab3-3cac-4295-d69f-47ef17ac0c4b"
   },
   "outputs": [
    {
     "name": "stdout",
     "output_type": "stream",
     "text": [
      "Model: \"sequential_20\"\n",
      "_________________________________________________________________\n",
      "Layer (type)                 Output Shape              Param #   \n",
      "=================================================================\n",
      "dense_86 (Dense)             (None, 150)               2700      \n",
      "_________________________________________________________________\n",
      "dense_87 (Dense)             (None, 100)               15100     \n",
      "_________________________________________________________________\n",
      "dense_88 (Dense)             (None, 50)                5050      \n",
      "_________________________________________________________________\n",
      "dense_89 (Dense)             (None, 1)                 51        \n",
      "=================================================================\n",
      "Total params: 22,901\n",
      "Trainable params: 22,901\n",
      "Non-trainable params: 0\n",
      "_________________________________________________________________\n"
     ]
    }
   ],
   "source": [
    "#Model 5\n",
    "def mod5():\n",
    "    mod5 = Sequential()\n",
    "    mod5.add(Dense(150, activation='relu', kernel_initializer='he_uniform',input_shape=(X_train.shape[1],)))\n",
    "    mod5.add(Dense(100, activation='relu'))\n",
    "    mod5.add(Dense(50, activation='relu'))                \n",
    "    mod5.add(Dense(y_train.shape[1]))\n",
    "    mod5.compile(loss='mse',optimizer=optimizers.Adam(learning_rate=0.001),\n",
    "                      metrics=['mae'])\n",
    "    \n",
    "\n",
    "    return mod5\n",
    "model_5 = mod5()\n",
    "model_5.summary()"
   ]
  },
  {
   "cell_type": "markdown",
   "metadata": {
    "id": "B0h_o6nnufjg"
   },
   "source": [
    "<a id = \"cell_execution\"></a>\n",
    "## 4. Model Execution"
   ]
  },
  {
   "cell_type": "markdown",
   "metadata": {
    "id": "mJnESaxsYzhf"
   },
   "source": [
    "*This section is to provide code to fit the models. Record and plot the history of training and validation. Report the performance of the trained model on the both the training and the test sets.*<br>"
   ]
  },
  {
   "cell_type": "markdown",
   "metadata": {
    "id": "rOYMgMnGvxvC"
   },
   "source": [
    "**Model 1**"
   ]
  },
  {
   "cell_type": "code",
   "execution_count": 86,
   "metadata": {
    "colab": {
     "base_uri": "https://localhost:8080/"
    },
    "executionInfo": {
     "elapsed": 142951,
     "status": "ok",
     "timestamp": 1629075755804,
     "user": {
      "displayName": "Vijay Waghmare",
      "photoUrl": "",
      "userId": "02980993576388042039"
     },
     "user_tz": -600
    },
    "id": "NEw93RseYzhf",
    "outputId": "3110a6e8-ba5e-4fb6-d5b8-2f988ca63759",
    "scrolled": true
   },
   "outputs": [
    {
     "name": "stdout",
     "output_type": "stream",
     "text": [
      "Epoch 1/150\n",
      "164/164 [==============================] - 1s 5ms/step - loss: 16.7592 - mae: 3.2379 - val_loss: 8.4540 - val_mae: 2.6620\n",
      "Epoch 2/150\n",
      "164/164 [==============================] - 1s 4ms/step - loss: 6.5953 - mae: 2.2209 - val_loss: 5.3725 - val_mae: 2.1391\n",
      "Epoch 3/150\n",
      "164/164 [==============================] - 1s 4ms/step - loss: 3.1408 - mae: 1.4623 - val_loss: 0.2826 - val_mae: 0.3807\n",
      "Epoch 4/150\n",
      "164/164 [==============================] - 1s 4ms/step - loss: 1.7751 - mae: 1.0763 - val_loss: 1.1698 - val_mae: 0.9804\n",
      "Epoch 5/150\n",
      "164/164 [==============================] - 1s 4ms/step - loss: 1.1183 - mae: 0.8516 - val_loss: 0.4031 - val_mae: 0.5299\n",
      "Epoch 6/150\n",
      "164/164 [==============================] - 1s 4ms/step - loss: 0.5523 - mae: 0.5785 - val_loss: 0.3993 - val_mae: 0.5450\n",
      "Epoch 7/150\n",
      "164/164 [==============================] - 1s 4ms/step - loss: 0.3925 - mae: 0.4593 - val_loss: 0.2569 - val_mae: 0.3142\n",
      "Epoch 8/150\n",
      "164/164 [==============================] - 1s 4ms/step - loss: 0.3013 - mae: 0.3970 - val_loss: 0.2229 - val_mae: 0.2666\n",
      "Epoch 9/150\n",
      "164/164 [==============================] - 1s 4ms/step - loss: 0.2327 - mae: 0.3346 - val_loss: 0.1525 - val_mae: 0.1906\n",
      "Epoch 10/150\n",
      "164/164 [==============================] - 1s 4ms/step - loss: 0.2033 - mae: 0.2944 - val_loss: 0.2044 - val_mae: 0.2321\n",
      "Epoch 11/150\n",
      "164/164 [==============================] - 1s 4ms/step - loss: 0.1822 - mae: 0.2727 - val_loss: 0.1698 - val_mae: 0.2802\n",
      "Epoch 12/150\n",
      "164/164 [==============================] - 1s 4ms/step - loss: 0.1678 - mae: 0.2507 - val_loss: 0.1426 - val_mae: 0.1612\n",
      "Epoch 13/150\n",
      "164/164 [==============================] - 1s 4ms/step - loss: 0.1448 - mae: 0.2206 - val_loss: 0.1550 - val_mae: 0.2634\n",
      "Epoch 14/150\n",
      "164/164 [==============================] - 1s 4ms/step - loss: 0.1525 - mae: 0.2315 - val_loss: 0.2202 - val_mae: 0.3727\n",
      "Epoch 15/150\n",
      "164/164 [==============================] - 1s 4ms/step - loss: 0.1421 - mae: 0.2167 - val_loss: 0.1441 - val_mae: 0.2350\n",
      "Epoch 16/150\n",
      "164/164 [==============================] - 1s 5ms/step - loss: 0.1326 - mae: 0.2013 - val_loss: 0.1378 - val_mae: 0.1564\n",
      "Epoch 17/150\n",
      "164/164 [==============================] - 1s 5ms/step - loss: 0.1297 - mae: 0.1967 - val_loss: 0.1550 - val_mae: 0.1858\n",
      "Epoch 18/150\n",
      "164/164 [==============================] - 1s 4ms/step - loss: 0.1282 - mae: 0.1945 - val_loss: 0.1432 - val_mae: 0.2228\n",
      "Epoch 19/150\n",
      "164/164 [==============================] - 1s 4ms/step - loss: 0.1242 - mae: 0.1903 - val_loss: 0.1310 - val_mae: 0.1887\n",
      "Epoch 20/150\n",
      "164/164 [==============================] - 1s 4ms/step - loss: 0.1238 - mae: 0.1892 - val_loss: 0.1483 - val_mae: 0.2517\n",
      "Epoch 21/150\n",
      "164/164 [==============================] - 1s 4ms/step - loss: 0.1237 - mae: 0.1878 - val_loss: 0.1415 - val_mae: 0.1626\n",
      "Epoch 22/150\n",
      "164/164 [==============================] - 1s 4ms/step - loss: 0.1212 - mae: 0.1830 - val_loss: 0.1349 - val_mae: 0.1509\n",
      "Epoch 23/150\n",
      "164/164 [==============================] - 1s 5ms/step - loss: 0.1207 - mae: 0.1862 - val_loss: 0.1346 - val_mae: 0.1496\n",
      "Epoch 24/150\n",
      "164/164 [==============================] - 1s 4ms/step - loss: 0.1177 - mae: 0.1808 - val_loss: 0.1615 - val_mae: 0.2051\n",
      "Epoch 25/150\n",
      "164/164 [==============================] - 1s 4ms/step - loss: 0.1178 - mae: 0.1768 - val_loss: 0.1280 - val_mae: 0.1610\n",
      "Epoch 26/150\n",
      "164/164 [==============================] - 1s 4ms/step - loss: 0.1190 - mae: 0.1812 - val_loss: 0.2267 - val_mae: 0.3821\n",
      "Epoch 27/150\n",
      "164/164 [==============================] - 1s 4ms/step - loss: 0.1176 - mae: 0.1770 - val_loss: 0.1401 - val_mae: 0.1651\n",
      "Epoch 28/150\n",
      "164/164 [==============================] - 1s 4ms/step - loss: 0.1160 - mae: 0.1748 - val_loss: 0.1411 - val_mae: 0.1684\n",
      "Epoch 29/150\n",
      "164/164 [==============================] - 1s 4ms/step - loss: 0.1150 - mae: 0.1743 - val_loss: 0.1270 - val_mae: 0.1817\n",
      "Epoch 30/150\n",
      "164/164 [==============================] - 1s 4ms/step - loss: 0.1153 - mae: 0.1740 - val_loss: 0.1403 - val_mae: 0.2281\n",
      "Epoch 31/150\n",
      "164/164 [==============================] - 1s 4ms/step - loss: 0.1138 - mae: 0.1741 - val_loss: 0.1256 - val_mae: 0.1726\n",
      "Epoch 32/150\n",
      "164/164 [==============================] - 1s 4ms/step - loss: 0.1145 - mae: 0.1725 - val_loss: 0.1266 - val_mae: 0.1544\n",
      "Epoch 33/150\n",
      "164/164 [==============================] - 1s 4ms/step - loss: 0.1132 - mae: 0.1707 - val_loss: 0.1400 - val_mae: 0.2349\n",
      "Epoch 34/150\n",
      "164/164 [==============================] - 1s 4ms/step - loss: 0.1131 - mae: 0.1710 - val_loss: 0.1324 - val_mae: 0.1508\n",
      "Epoch 35/150\n",
      "164/164 [==============================] - 1s 5ms/step - loss: 0.1121 - mae: 0.1714 - val_loss: 0.1353 - val_mae: 0.2242\n",
      "Epoch 36/150\n",
      "164/164 [==============================] - 1s 4ms/step - loss: 0.1113 - mae: 0.1675 - val_loss: 0.1479 - val_mae: 0.2575\n",
      "Epoch 37/150\n",
      "164/164 [==============================] - 1s 4ms/step - loss: 0.1114 - mae: 0.1677 - val_loss: 0.1400 - val_mae: 0.1681\n",
      "Epoch 38/150\n",
      "164/164 [==============================] - 1s 4ms/step - loss: 0.1114 - mae: 0.1688 - val_loss: 0.1594 - val_mae: 0.2840\n",
      "Epoch 39/150\n",
      "164/164 [==============================] - 1s 4ms/step - loss: 0.1120 - mae: 0.1692 - val_loss: 0.1226 - val_mae: 0.1701\n",
      "Epoch 40/150\n",
      "164/164 [==============================] - 1s 4ms/step - loss: 0.1117 - mae: 0.1712 - val_loss: 0.1276 - val_mae: 0.1479\n",
      "Epoch 41/150\n",
      "164/164 [==============================] - 1s 4ms/step - loss: 0.1093 - mae: 0.1659 - val_loss: 0.1220 - val_mae: 0.1534\n",
      "Epoch 42/150\n",
      "164/164 [==============================] - 1s 4ms/step - loss: 0.1098 - mae: 0.1661 - val_loss: 0.1281 - val_mae: 0.1943\n",
      "Epoch 43/150\n",
      "164/164 [==============================] - 1s 4ms/step - loss: 0.1101 - mae: 0.1678 - val_loss: 0.1250 - val_mae: 0.1933\n",
      "Epoch 44/150\n",
      "164/164 [==============================] - 1s 4ms/step - loss: 0.1088 - mae: 0.1633 - val_loss: 0.1217 - val_mae: 0.1659\n",
      "Epoch 45/150\n",
      "164/164 [==============================] - 1s 4ms/step - loss: 0.1095 - mae: 0.1676 - val_loss: 0.1204 - val_mae: 0.1606\n",
      "Epoch 46/150\n",
      "164/164 [==============================] - 1s 4ms/step - loss: 0.1085 - mae: 0.1657 - val_loss: 0.1216 - val_mae: 0.1774\n",
      "Epoch 47/150\n",
      "164/164 [==============================] - 1s 4ms/step - loss: 0.1079 - mae: 0.1662 - val_loss: 0.1580 - val_mae: 0.2125\n",
      "Epoch 48/150\n",
      "164/164 [==============================] - 1s 5ms/step - loss: 0.1074 - mae: 0.1621 - val_loss: 0.1484 - val_mae: 0.2654\n",
      "Epoch 49/150\n",
      "164/164 [==============================] - 1s 4ms/step - loss: 0.1098 - mae: 0.1692 - val_loss: 0.1420 - val_mae: 0.2528\n",
      "Epoch 50/150\n",
      "164/164 [==============================] - 1s 4ms/step - loss: 0.1055 - mae: 0.1619 - val_loss: 0.1361 - val_mae: 0.1664\n",
      "Epoch 51/150\n",
      "164/164 [==============================] - 1s 4ms/step - loss: 0.1064 - mae: 0.1633 - val_loss: 0.1499 - val_mae: 0.1965\n",
      "Epoch 52/150\n",
      "164/164 [==============================] - 1s 4ms/step - loss: 0.1054 - mae: 0.1624 - val_loss: 0.1276 - val_mae: 0.1535\n",
      "Epoch 53/150\n",
      "164/164 [==============================] - 1s 4ms/step - loss: 0.1053 - mae: 0.1615 - val_loss: 0.1336 - val_mae: 0.2113\n",
      "Epoch 54/150\n",
      "164/164 [==============================] - 1s 4ms/step - loss: 0.1049 - mae: 0.1606 - val_loss: 0.1233 - val_mae: 0.1920\n",
      "Epoch 55/150\n",
      "164/164 [==============================] - 1s 4ms/step - loss: 0.1050 - mae: 0.1632 - val_loss: 0.1549 - val_mae: 0.2024\n",
      "Epoch 56/150\n",
      "164/164 [==============================] - 1s 4ms/step - loss: 0.1043 - mae: 0.1619 - val_loss: 0.1321 - val_mae: 0.2246\n",
      "Epoch 57/150\n",
      "164/164 [==============================] - 1s 4ms/step - loss: 0.1035 - mae: 0.1596 - val_loss: 0.1485 - val_mae: 0.1807\n",
      "Epoch 58/150\n",
      "164/164 [==============================] - 1s 4ms/step - loss: 0.1039 - mae: 0.1601 - val_loss: 0.1197 - val_mae: 0.1782\n",
      "Epoch 59/150\n",
      "164/164 [==============================] - 1s 4ms/step - loss: 0.1036 - mae: 0.1582 - val_loss: 0.1217 - val_mae: 0.1951\n",
      "Epoch 60/150\n",
      "164/164 [==============================] - 1s 4ms/step - loss: 0.1015 - mae: 0.1588 - val_loss: 0.1243 - val_mae: 0.1422\n",
      "Epoch 61/150\n",
      "164/164 [==============================] - 1s 4ms/step - loss: 0.1020 - mae: 0.1564 - val_loss: 0.1201 - val_mae: 0.1474\n",
      "Epoch 62/150\n",
      "164/164 [==============================] - 1s 4ms/step - loss: 0.1009 - mae: 0.1578 - val_loss: 0.1171 - val_mae: 0.1490\n",
      "Epoch 63/150\n",
      "164/164 [==============================] - 1s 4ms/step - loss: 0.1026 - mae: 0.1582 - val_loss: 0.1233 - val_mae: 0.1982\n",
      "Epoch 64/150\n",
      "164/164 [==============================] - 1s 4ms/step - loss: 0.1023 - mae: 0.1590 - val_loss: 0.1246 - val_mae: 0.1491\n",
      "Epoch 65/150\n",
      "164/164 [==============================] - 1s 5ms/step - loss: 0.1017 - mae: 0.1574 - val_loss: 0.1497 - val_mae: 0.2740\n",
      "Epoch 66/150\n",
      "164/164 [==============================] - 1s 4ms/step - loss: 0.1004 - mae: 0.1557 - val_loss: 0.1184 - val_mae: 0.1598\n",
      "Epoch 67/150\n",
      "164/164 [==============================] - 1s 4ms/step - loss: 0.1006 - mae: 0.1561 - val_loss: 0.1147 - val_mae: 0.1507\n",
      "Epoch 68/150\n",
      "164/164 [==============================] - 1s 4ms/step - loss: 0.1011 - mae: 0.1554 - val_loss: 0.1157 - val_mae: 0.1712\n",
      "Epoch 69/150\n",
      "164/164 [==============================] - 1s 4ms/step - loss: 0.1007 - mae: 0.1561 - val_loss: 0.1390 - val_mae: 0.1780\n",
      "Epoch 70/150\n",
      "164/164 [==============================] - 1s 4ms/step - loss: 0.1004 - mae: 0.1544 - val_loss: 0.1181 - val_mae: 0.1863\n",
      "Epoch 71/150\n",
      "164/164 [==============================] - 1s 4ms/step - loss: 0.1006 - mae: 0.1544 - val_loss: 0.1211 - val_mae: 0.1991\n",
      "Epoch 72/150\n",
      "164/164 [==============================] - 1s 4ms/step - loss: 0.0990 - mae: 0.1555 - val_loss: 0.1317 - val_mae: 0.1629\n",
      "Epoch 73/150\n",
      "164/164 [==============================] - 1s 5ms/step - loss: 0.0999 - mae: 0.1535 - val_loss: 0.1506 - val_mae: 0.2770\n",
      "Epoch 74/150\n",
      "164/164 [==============================] - 1s 4ms/step - loss: 0.0997 - mae: 0.1537 - val_loss: 0.1145 - val_mae: 0.1519\n",
      "Epoch 75/150\n",
      "164/164 [==============================] - 1s 4ms/step - loss: 0.0987 - mae: 0.1531 - val_loss: 0.1316 - val_mae: 0.1598\n",
      "Epoch 76/150\n",
      "164/164 [==============================] - 1s 4ms/step - loss: 0.0989 - mae: 0.1526 - val_loss: 0.1225 - val_mae: 0.2068\n",
      "Epoch 77/150\n",
      "164/164 [==============================] - 1s 4ms/step - loss: 0.1010 - mae: 0.1591 - val_loss: 0.1202 - val_mae: 0.1474\n",
      "Epoch 78/150\n",
      "164/164 [==============================] - 1s 4ms/step - loss: 0.0989 - mae: 0.1542 - val_loss: 0.1130 - val_mae: 0.1517\n",
      "Epoch 79/150\n",
      "164/164 [==============================] - 1s 4ms/step - loss: 0.0979 - mae: 0.1530 - val_loss: 0.1187 - val_mae: 0.1435\n",
      "Epoch 80/150\n",
      "164/164 [==============================] - 1s 4ms/step - loss: 0.0988 - mae: 0.1533 - val_loss: 0.1199 - val_mae: 0.1957\n",
      "Epoch 81/150\n",
      "164/164 [==============================] - 1s 4ms/step - loss: 0.0970 - mae: 0.1518 - val_loss: 0.1286 - val_mae: 0.2155\n",
      "Epoch 82/150\n",
      "164/164 [==============================] - 1s 4ms/step - loss: 0.0979 - mae: 0.1522 - val_loss: 0.1393 - val_mae: 0.1781\n",
      "Epoch 83/150\n",
      "164/164 [==============================] - 1s 4ms/step - loss: 0.0974 - mae: 0.1516 - val_loss: 0.1392 - val_mae: 0.1829\n",
      "Epoch 84/150\n",
      "164/164 [==============================] - 1s 4ms/step - loss: 0.0975 - mae: 0.1513 - val_loss: 0.1254 - val_mae: 0.1540\n",
      "Epoch 85/150\n",
      "164/164 [==============================] - 1s 4ms/step - loss: 0.0960 - mae: 0.1511 - val_loss: 0.1185 - val_mae: 0.1755\n",
      "Epoch 86/150\n",
      "164/164 [==============================] - 1s 4ms/step - loss: 0.0968 - mae: 0.1525 - val_loss: 0.1175 - val_mae: 0.1424\n",
      "Epoch 87/150\n",
      "164/164 [==============================] - 1s 5ms/step - loss: 0.0968 - mae: 0.1516 - val_loss: 0.1165 - val_mae: 0.1352\n",
      "Epoch 88/150\n",
      "164/164 [==============================] - 1s 4ms/step - loss: 0.0966 - mae: 0.1507 - val_loss: 0.1118 - val_mae: 0.1441\n",
      "Epoch 89/150\n",
      "164/164 [==============================] - 1s 4ms/step - loss: 0.0981 - mae: 0.1531 - val_loss: 0.1215 - val_mae: 0.1548\n",
      "Epoch 90/150\n",
      "164/164 [==============================] - 1s 5ms/step - loss: 0.0959 - mae: 0.1511 - val_loss: 0.1328 - val_mae: 0.1839\n",
      "Epoch 91/150\n",
      "164/164 [==============================] - 1s 4ms/step - loss: 0.0971 - mae: 0.1523 - val_loss: 0.1268 - val_mae: 0.1678\n",
      "Epoch 92/150\n",
      "164/164 [==============================] - 1s 5ms/step - loss: 0.0958 - mae: 0.1513 - val_loss: 0.1330 - val_mae: 0.1596\n",
      "Epoch 93/150\n",
      "164/164 [==============================] - 1s 4ms/step - loss: 0.0975 - mae: 0.1521 - val_loss: 0.1178 - val_mae: 0.1878\n",
      "Epoch 94/150\n",
      "164/164 [==============================] - 1s 4ms/step - loss: 0.0958 - mae: 0.1504 - val_loss: 0.1250 - val_mae: 0.1529\n",
      "Epoch 95/150\n",
      "164/164 [==============================] - 1s 4ms/step - loss: 0.0959 - mae: 0.1510 - val_loss: 0.1186 - val_mae: 0.1428\n",
      "Epoch 96/150\n",
      "164/164 [==============================] - 1s 4ms/step - loss: 0.0956 - mae: 0.1491 - val_loss: 0.1192 - val_mae: 0.1508\n",
      "Epoch 97/150\n",
      "164/164 [==============================] - 1s 4ms/step - loss: 0.0964 - mae: 0.1527 - val_loss: 0.1167 - val_mae: 0.1454\n",
      "Epoch 98/150\n",
      "164/164 [==============================] - 1s 4ms/step - loss: 0.0960 - mae: 0.1524 - val_loss: 0.1137 - val_mae: 0.1379\n",
      "Epoch 99/150\n",
      "164/164 [==============================] - 1s 4ms/step - loss: 0.0958 - mae: 0.1504 - val_loss: 0.1113 - val_mae: 0.1414\n",
      "Epoch 100/150\n",
      "164/164 [==============================] - 1s 4ms/step - loss: 0.0962 - mae: 0.1506 - val_loss: 0.1255 - val_mae: 0.1548\n",
      "Epoch 101/150\n",
      "164/164 [==============================] - 1s 4ms/step - loss: 0.0950 - mae: 0.1494 - val_loss: 0.1152 - val_mae: 0.1448\n",
      "Epoch 102/150\n",
      "164/164 [==============================] - 1s 4ms/step - loss: 0.0947 - mae: 0.1502 - val_loss: 0.1163 - val_mae: 0.1629\n",
      "Epoch 103/150\n",
      "164/164 [==============================] - 1s 4ms/step - loss: 0.0954 - mae: 0.1490 - val_loss: 0.1258 - val_mae: 0.1635\n",
      "Epoch 104/150\n",
      "164/164 [==============================] - 1s 5ms/step - loss: 0.0948 - mae: 0.1495 - val_loss: 0.1631 - val_mae: 0.2989\n",
      "Epoch 105/150\n",
      "164/164 [==============================] - 1s 5ms/step - loss: 0.0950 - mae: 0.1504 - val_loss: 0.1109 - val_mae: 0.1370\n",
      "Epoch 106/150\n",
      "164/164 [==============================] - 1s 4ms/step - loss: 0.0944 - mae: 0.1493 - val_loss: 0.1109 - val_mae: 0.1439\n",
      "Epoch 107/150\n",
      "164/164 [==============================] - 1s 4ms/step - loss: 0.0938 - mae: 0.1487 - val_loss: 0.1757 - val_mae: 0.3230\n",
      "Epoch 108/150\n",
      "164/164 [==============================] - 1s 5ms/step - loss: 0.0945 - mae: 0.1508 - val_loss: 0.1118 - val_mae: 0.1447\n",
      "Epoch 109/150\n",
      "164/164 [==============================] - 1s 4ms/step - loss: 0.0939 - mae: 0.1493 - val_loss: 0.1080 - val_mae: 0.1458\n",
      "Epoch 110/150\n",
      "164/164 [==============================] - 1s 4ms/step - loss: 0.0944 - mae: 0.1487 - val_loss: 0.1411 - val_mae: 0.2618\n",
      "Epoch 111/150\n",
      "164/164 [==============================] - 1s 4ms/step - loss: 0.0948 - mae: 0.1495 - val_loss: 0.1084 - val_mae: 0.1385\n",
      "Epoch 112/150\n",
      "164/164 [==============================] - 1s 4ms/step - loss: 0.0934 - mae: 0.1466 - val_loss: 0.1191 - val_mae: 0.2095\n",
      "Epoch 113/150\n",
      "164/164 [==============================] - 1s 4ms/step - loss: 0.0937 - mae: 0.1481 - val_loss: 0.1121 - val_mae: 0.1426\n",
      "Epoch 114/150\n",
      "164/164 [==============================] - 1s 5ms/step - loss: 0.0938 - mae: 0.1488 - val_loss: 0.1092 - val_mae: 0.1429\n",
      "Epoch 115/150\n",
      "164/164 [==============================] - 1s 4ms/step - loss: 0.0934 - mae: 0.1473 - val_loss: 0.1583 - val_mae: 0.2962\n",
      "Epoch 116/150\n",
      "164/164 [==============================] - 1s 4ms/step - loss: 0.0939 - mae: 0.1501 - val_loss: 0.1197 - val_mae: 0.1358\n",
      "Epoch 117/150\n",
      "164/164 [==============================] - 1s 5ms/step - loss: 0.0932 - mae: 0.1477 - val_loss: 0.1083 - val_mae: 0.1441\n",
      "Epoch 118/150\n",
      "164/164 [==============================] - 1s 4ms/step - loss: 0.0933 - mae: 0.1479 - val_loss: 0.1085 - val_mae: 0.1478\n",
      "Epoch 119/150\n",
      "164/164 [==============================] - 1s 4ms/step - loss: 0.0928 - mae: 0.1488 - val_loss: 0.1177 - val_mae: 0.1363\n",
      "Epoch 120/150\n",
      "164/164 [==============================] - 1s 4ms/step - loss: 0.0930 - mae: 0.1461 - val_loss: 0.1376 - val_mae: 0.2414\n",
      "Epoch 121/150\n",
      "164/164 [==============================] - 1s 4ms/step - loss: 0.0929 - mae: 0.1474 - val_loss: 0.1144 - val_mae: 0.1425\n",
      "Epoch 122/150\n",
      "164/164 [==============================] - 1s 4ms/step - loss: 0.0927 - mae: 0.1469 - val_loss: 0.1321 - val_mae: 0.2448\n",
      "Epoch 123/150\n",
      "164/164 [==============================] - 1s 5ms/step - loss: 0.0920 - mae: 0.1479 - val_loss: 0.1074 - val_mae: 0.1366\n",
      "Epoch 124/150\n",
      "164/164 [==============================] - 1s 5ms/step - loss: 0.0914 - mae: 0.1472 - val_loss: 0.1083 - val_mae: 0.1451\n",
      "Epoch 125/150\n",
      "164/164 [==============================] - 1s 4ms/step - loss: 0.0923 - mae: 0.1473 - val_loss: 0.1137 - val_mae: 0.1448\n",
      "Epoch 126/150\n",
      "164/164 [==============================] - 1s 4ms/step - loss: 0.0934 - mae: 0.1486 - val_loss: 0.1203 - val_mae: 0.1590\n",
      "Epoch 127/150\n",
      "164/164 [==============================] - 1s 4ms/step - loss: 0.0914 - mae: 0.1455 - val_loss: 0.1128 - val_mae: 0.1422\n",
      "Epoch 128/150\n",
      "164/164 [==============================] - 1s 4ms/step - loss: 0.0922 - mae: 0.1475 - val_loss: 0.1203 - val_mae: 0.1756\n",
      "Epoch 129/150\n",
      "164/164 [==============================] - 1s 4ms/step - loss: 0.0918 - mae: 0.1459 - val_loss: 0.1121 - val_mae: 0.1822\n",
      "Epoch 130/150\n",
      "164/164 [==============================] - 1s 4ms/step - loss: 0.0914 - mae: 0.1479 - val_loss: 0.1156 - val_mae: 0.1956\n",
      "Epoch 131/150\n",
      "164/164 [==============================] - 1s 5ms/step - loss: 0.0918 - mae: 0.1456 - val_loss: 0.1084 - val_mae: 0.1397\n",
      "Epoch 132/150\n",
      "164/164 [==============================] - 1s 5ms/step - loss: 0.0901 - mae: 0.1460 - val_loss: 0.1115 - val_mae: 0.1595\n",
      "Epoch 133/150\n",
      "164/164 [==============================] - 1s 5ms/step - loss: 0.0915 - mae: 0.1466 - val_loss: 0.1114 - val_mae: 0.1699\n",
      "Epoch 134/150\n",
      "164/164 [==============================] - 1s 5ms/step - loss: 0.0915 - mae: 0.1470 - val_loss: 0.1151 - val_mae: 0.1467\n",
      "Epoch 135/150\n",
      "164/164 [==============================] - 1s 5ms/step - loss: 0.0911 - mae: 0.1463 - val_loss: 0.1154 - val_mae: 0.1394\n",
      "Epoch 136/150\n",
      "164/164 [==============================] - 1s 4ms/step - loss: 0.0916 - mae: 0.1461 - val_loss: 0.1123 - val_mae: 0.1515\n",
      "Epoch 137/150\n",
      "164/164 [==============================] - 1s 4ms/step - loss: 0.0910 - mae: 0.1469 - val_loss: 0.1137 - val_mae: 0.1897\n",
      "Epoch 138/150\n",
      "164/164 [==============================] - 1s 4ms/step - loss: 0.0909 - mae: 0.1462 - val_loss: 0.1082 - val_mae: 0.1398\n",
      "Epoch 139/150\n",
      "164/164 [==============================] - 1s 4ms/step - loss: 0.0919 - mae: 0.1466 - val_loss: 0.1063 - val_mae: 0.1529\n",
      "Epoch 140/150\n",
      "164/164 [==============================] - 1s 4ms/step - loss: 0.0917 - mae: 0.1469 - val_loss: 0.1186 - val_mae: 0.1979\n",
      "Epoch 141/150\n",
      "164/164 [==============================] - 1s 4ms/step - loss: 0.0910 - mae: 0.1458 - val_loss: 0.1599 - val_mae: 0.2885\n",
      "Epoch 142/150\n",
      "164/164 [==============================] - 1s 4ms/step - loss: 0.0919 - mae: 0.1464 - val_loss: 0.1130 - val_mae: 0.1860\n",
      "Epoch 143/150\n",
      "164/164 [==============================] - 1s 4ms/step - loss: 0.0906 - mae: 0.1465 - val_loss: 0.1063 - val_mae: 0.1380\n",
      "Epoch 144/150\n",
      "164/164 [==============================] - 1s 4ms/step - loss: 0.0896 - mae: 0.1451 - val_loss: 0.1984 - val_mae: 0.3558\n",
      "Epoch 145/150\n",
      "164/164 [==============================] - 1s 4ms/step - loss: 0.0898 - mae: 0.1451 - val_loss: 0.1098 - val_mae: 0.1450\n",
      "Epoch 146/150\n",
      "164/164 [==============================] - 1s 4ms/step - loss: 0.0893 - mae: 0.1439 - val_loss: 0.1132 - val_mae: 0.1397\n",
      "Epoch 147/150\n",
      "164/164 [==============================] - 1s 4ms/step - loss: 0.0908 - mae: 0.1452 - val_loss: 0.1054 - val_mae: 0.1353\n",
      "Epoch 148/150\n",
      "164/164 [==============================] - 1s 4ms/step - loss: 0.0902 - mae: 0.1455 - val_loss: 0.1099 - val_mae: 0.1419\n",
      "Epoch 149/150\n",
      "164/164 [==============================] - 1s 5ms/step - loss: 0.0899 - mae: 0.1465 - val_loss: 0.1087 - val_mae: 0.1418\n",
      "Epoch 150/150\n",
      "164/164 [==============================] - 1s 4ms/step - loss: 0.0886 - mae: 0.1446 - val_loss: 0.1049 - val_mae: 0.1512\n"
     ]
    }
   ],
   "source": [
    "#Fitting NN model\n",
    "history = model_1.fit(X_train,y_train,epochs=150, validation_split = 0.30,\n",
    "                        batch_size=90,shuffle=True,verbose=True)"
   ]
  },
  {
   "cell_type": "code",
   "execution_count": 87,
   "metadata": {
    "colab": {
     "base_uri": "https://localhost:8080/",
     "height": 350
    },
    "executionInfo": {
     "elapsed": 396,
     "status": "ok",
     "timestamp": 1629075828399,
     "user": {
      "displayName": "Vijay Waghmare",
      "photoUrl": "",
      "userId": "02980993576388042039"
     },
     "user_tz": -600
    },
    "id": "LynBW1_ZiQnY",
    "outputId": "b59e3e88-12a2-4af4-c776-0d1a9f57fbfc"
   },
   "outputs": [
    {
     "data": {
      "image/png": "[encoded data removed]",
      "text/plain": [
       "<Figure size 720x360 with 1 Axes>"
      ]
     },
     "metadata": {
      "needs_background": "light",
      "tags": []
     },
     "output_type": "display_data"
    }
   ],
   "source": [
    "#Evaluating model over training and validation dataset\n",
    "loss = history.history['mae']\n",
    "val_loss = history.history['val_mae']\n",
    "\n",
    "\n",
    "#Plotting training and validation loss with number of epochs\n",
    "plt.figure(figsize=(10, 5))\n",
    "epochs = range(1, len(loss) + 1)\n",
    "plt.plot(epochs, loss, 'bo', label='Training loss')\n",
    "plt.plot(epochs, val_loss, 'b', label='Validation loss', color = 'red')\n",
    "plt.title('Training and validation loss')\n",
    "plt.xlabel('Epochs')\n",
    "plt.ylabel('Loss')\n",
    "plt.legend()\n",
    "plt.show()"
   ]
  },
  {
   "cell_type": "code",
   "execution_count": 88,
   "metadata": {
    "executionInfo": {
     "elapsed": 1526,
     "status": "ok",
     "timestamp": 1629075834062,
     "user": {
      "displayName": "Vijay Waghmare",
      "photoUrl": "",
      "userId": "02980993576388042039"
     },
     "user_tz": -600
    },
    "id": "HO6kOvaViQnb"
   },
   "outputs": [],
   "source": [
    "#Training and test data prediction\n",
    "model_1_train = model_1.predict(X_train)\n",
    "model_1_test = model_1.predict(X_test)"
   ]
  },
  {
   "cell_type": "code",
   "execution_count": 89,
   "metadata": {
    "colab": {
     "base_uri": "https://localhost:8080/"
    },
    "executionInfo": {
     "elapsed": 267,
     "status": "ok",
     "timestamp": 1629075836699,
     "user": {
      "displayName": "Vijay Waghmare",
      "photoUrl": "",
      "userId": "02980993576388042039"
     },
     "user_tz": -600
    },
    "id": "6Sfi9ZJ_qfAp",
    "outputId": "5f15270e-2f9d-4b24-bd40-40db85a46bbd"
   },
   "outputs": [
    {
     "name": "stdout",
     "output_type": "stream",
     "text": [
      "Train MAE:0.143\n",
      "Test MAE:0.145\n",
      "\n"
     ]
    }
   ],
   "source": [
    "#Train and test MAE\n",
    "train_mae_1 = round(mean_absolute_error(y_train,model_1_train),3)\n",
    "test_mae_1 = round(mean_absolute_error(y_test,model_1_test),3)\n",
    "print(\"Train MAE:{}\\nTest MAE:{}\\n\".format(train_mae_1,test_mae_1))"
   ]
  },
  {
   "cell_type": "code",
   "execution_count": 90,
   "metadata": {
    "colab": {
     "base_uri": "https://localhost:8080/",
     "height": 295
    },
    "executionInfo": {
     "elapsed": 945,
     "status": "ok",
     "timestamp": 1629075840913,
     "user": {
      "displayName": "Vijay Waghmare",
      "photoUrl": "",
      "userId": "02980993576388042039"
     },
     "user_tz": -600
    },
    "id": "i9QPjSQSh9vp",
    "outputId": "442c967b-bd35-4130-a7b4-45cd5b603e53"
   },
   "outputs": [
    {
     "data": {
      "image/png": "[encoded data removed]",
      "text/plain": [
       "<Figure size 432x288 with 1 Axes>"
      ]
     },
     "metadata": {
      "needs_background": "light",
      "tags": []
     },
     "output_type": "display_data"
    }
   ],
   "source": [
    "#Plotting training prediction\n",
    "pred_train_1 = pd.DataFrame(model_1_train,columns=['pred'])\n",
    "pred_train_1['actual'] = y_train\n",
    "\n",
    "pred_train_1.plot(xlabel='observations',ylabel='Total consumption')\n",
    "plt.title('Training data prediction')\n",
    "plt.show()"
   ]
  },
  {
   "cell_type": "code",
   "execution_count": 91,
   "metadata": {
    "colab": {
     "base_uri": "https://localhost:8080/",
     "height": 295
    },
    "executionInfo": {
     "elapsed": 517,
     "status": "ok",
     "timestamp": 1629075844929,
     "user": {
      "displayName": "Vijay Waghmare",
      "photoUrl": "",
      "userId": "02980993576388042039"
     },
     "user_tz": -600
    },
    "id": "zYbFljk-h937",
    "outputId": "1b6120a8-3025-4aa5-a14d-d35be333b811"
   },
   "outputs": [
    {
     "data": {
      "image/png": "[encoded data removed]",
      "text/plain": [
       "<Figure size 432x288 with 1 Axes>"
      ]
     },
     "metadata": {
      "needs_background": "light",
      "tags": []
     },
     "output_type": "display_data"
    }
   ],
   "source": [
    "#Plotting test data prediction\n",
    "pred_test_1 = pd.DataFrame(model_1_test,columns=['pred'])\n",
    "pred_test_1['actual'] = y_test\n",
    "\n",
    "pred_test_1.plot(xlabel='observations',ylabel='Total consumption')\n",
    "plt.title('Test data prediction')\n",
    "plt.show()"
   ]
  },
  {
   "cell_type": "markdown",
   "metadata": {
    "id": "mQRp1uRBv1re"
   },
   "source": [
    "**Model 2**"
   ]
  },
  {
   "cell_type": "code",
   "execution_count": 113,
   "metadata": {
    "colab": {
     "base_uri": "https://localhost:8080/"
    },
    "executionInfo": {
     "elapsed": 59116,
     "status": "ok",
     "timestamp": 1629078815158,
     "user": {
      "displayName": "Vijay Waghmare",
      "photoUrl": "",
      "userId": "02980993576388042039"
     },
     "user_tz": -600
    },
    "id": "yyb5kdmYiQnd",
    "outputId": "864cc47c-1fa2-4e5b-8b3d-a2f6ed936e30"
   },
   "outputs": [
    {
     "name": "stdout",
     "output_type": "stream",
     "text": [
      "Epoch 1/150\n",
      "164/164 [==============================] - 1s 4ms/step - loss: 3.9740 - mae: 1.5335 - val_loss: 0.7699 - val_mae: 0.7012\n",
      "Epoch 2/150\n",
      "164/164 [==============================] - 0s 2ms/step - loss: 2.1912 - mae: 1.1866 - val_loss: 6.0790 - val_mae: 2.3182\n",
      "Epoch 3/150\n",
      "164/164 [==============================] - 0s 3ms/step - loss: 1.6497 - mae: 1.0357 - val_loss: 0.6424 - val_mae: 0.6887\n",
      "Epoch 4/150\n",
      "164/164 [==============================] - 0s 3ms/step - loss: 1.1831 - mae: 0.8974 - val_loss: 1.3217 - val_mae: 1.0531\n",
      "Epoch 5/150\n",
      "164/164 [==============================] - 0s 2ms/step - loss: 0.9205 - mae: 0.8075 - val_loss: 0.4878 - val_mae: 0.6030\n",
      "Epoch 6/150\n",
      "164/164 [==============================] - 0s 3ms/step - loss: 0.6705 - mae: 0.6887 - val_loss: 1.2078 - val_mae: 1.0168\n",
      "Epoch 7/150\n",
      "164/164 [==============================] - 0s 3ms/step - loss: 0.5013 - mae: 0.5281 - val_loss: 0.8459 - val_mae: 0.7964\n",
      "Epoch 8/150\n",
      "164/164 [==============================] - 0s 3ms/step - loss: 0.3927 - mae: 0.4639 - val_loss: 0.7187 - val_mae: 0.7770\n",
      "Epoch 9/150\n",
      "164/164 [==============================] - 0s 3ms/step - loss: 0.3523 - mae: 0.4353 - val_loss: 0.2019 - val_mae: 0.3321\n",
      "Epoch 10/150\n",
      "164/164 [==============================] - 0s 2ms/step - loss: 0.3017 - mae: 0.4094 - val_loss: 0.2412 - val_mae: 0.3962\n",
      "Epoch 11/150\n",
      "164/164 [==============================] - 0s 3ms/step - loss: 0.2578 - mae: 0.3701 - val_loss: 0.2278 - val_mae: 0.3786\n",
      "Epoch 12/150\n",
      "164/164 [==============================] - 0s 2ms/step - loss: 0.2339 - mae: 0.3348 - val_loss: 0.3576 - val_mae: 0.5175\n",
      "Epoch 13/150\n",
      "164/164 [==============================] - 0s 2ms/step - loss: 0.2010 - mae: 0.3021 - val_loss: 0.1365 - val_mae: 0.1801\n",
      "Epoch 14/150\n",
      "164/164 [==============================] - 0s 2ms/step - loss: 0.1805 - mae: 0.2700 - val_loss: 0.1687 - val_mae: 0.2042\n",
      "Epoch 15/150\n",
      "164/164 [==============================] - 0s 2ms/step - loss: 0.1853 - mae: 0.2867 - val_loss: 0.4057 - val_mae: 0.5030\n",
      "Epoch 16/150\n",
      "164/164 [==============================] - 0s 2ms/step - loss: 0.1811 - mae: 0.2745 - val_loss: 0.2482 - val_mae: 0.3340\n",
      "Epoch 17/150\n",
      "164/164 [==============================] - 0s 2ms/step - loss: 0.1560 - mae: 0.2464 - val_loss: 0.1879 - val_mae: 0.3225\n",
      "Epoch 18/150\n",
      "164/164 [==============================] - 0s 2ms/step - loss: 0.1524 - mae: 0.2426 - val_loss: 0.1364 - val_mae: 0.1541\n",
      "Epoch 19/150\n",
      "164/164 [==============================] - 0s 3ms/step - loss: 0.1482 - mae: 0.2313 - val_loss: 0.1382 - val_mae: 0.2177\n",
      "Epoch 20/150\n",
      "164/164 [==============================] - 0s 2ms/step - loss: 0.1417 - mae: 0.2253 - val_loss: 0.2794 - val_mae: 0.4388\n",
      "Epoch 21/150\n",
      "164/164 [==============================] - 0s 3ms/step - loss: 0.1379 - mae: 0.2133 - val_loss: 0.1331 - val_mae: 0.2007\n",
      "Epoch 22/150\n",
      "164/164 [==============================] - 0s 2ms/step - loss: 0.1340 - mae: 0.2108 - val_loss: 0.1918 - val_mae: 0.2554\n",
      "Epoch 23/150\n",
      "164/164 [==============================] - 0s 3ms/step - loss: 0.1300 - mae: 0.2049 - val_loss: 0.1818 - val_mae: 0.2405\n",
      "Epoch 24/150\n",
      "164/164 [==============================] - 0s 2ms/step - loss: 0.1288 - mae: 0.1980 - val_loss: 0.1538 - val_mae: 0.2584\n",
      "Epoch 25/150\n",
      "164/164 [==============================] - 0s 2ms/step - loss: 0.1270 - mae: 0.1995 - val_loss: 0.1288 - val_mae: 0.1784\n",
      "Epoch 26/150\n",
      "164/164 [==============================] - 0s 2ms/step - loss: 0.1284 - mae: 0.1972 - val_loss: 0.1402 - val_mae: 0.1596\n",
      "Epoch 27/150\n",
      "164/164 [==============================] - 0s 2ms/step - loss: 0.1252 - mae: 0.1910 - val_loss: 0.1307 - val_mae: 0.1640\n",
      "Epoch 28/150\n",
      "164/164 [==============================] - 0s 2ms/step - loss: 0.1246 - mae: 0.1882 - val_loss: 0.1451 - val_mae: 0.2398\n",
      "Epoch 29/150\n",
      "164/164 [==============================] - 0s 2ms/step - loss: 0.1222 - mae: 0.1868 - val_loss: 0.1581 - val_mae: 0.2748\n",
      "Epoch 30/150\n",
      "164/164 [==============================] - 0s 2ms/step - loss: 0.1200 - mae: 0.1826 - val_loss: 0.1423 - val_mae: 0.1640\n",
      "Epoch 31/150\n",
      "164/164 [==============================] - 0s 2ms/step - loss: 0.1190 - mae: 0.1821 - val_loss: 0.1483 - val_mae: 0.2480\n",
      "Epoch 32/150\n",
      "164/164 [==============================] - 0s 2ms/step - loss: 0.1185 - mae: 0.1810 - val_loss: 0.1400 - val_mae: 0.2340\n",
      "Epoch 33/150\n",
      "164/164 [==============================] - 0s 2ms/step - loss: 0.1186 - mae: 0.1828 - val_loss: 0.1378 - val_mae: 0.1556\n",
      "Epoch 34/150\n",
      "164/164 [==============================] - 0s 2ms/step - loss: 0.1180 - mae: 0.1801 - val_loss: 0.1453 - val_mae: 0.1753\n",
      "Epoch 35/150\n",
      "164/164 [==============================] - 0s 2ms/step - loss: 0.1170 - mae: 0.1766 - val_loss: 0.1881 - val_mae: 0.3307\n",
      "Epoch 36/150\n",
      "164/164 [==============================] - 0s 2ms/step - loss: 0.1165 - mae: 0.1772 - val_loss: 0.1340 - val_mae: 0.1510\n",
      "Epoch 37/150\n",
      "164/164 [==============================] - 0s 3ms/step - loss: 0.1161 - mae: 0.1774 - val_loss: 0.1339 - val_mae: 0.2017\n",
      "Epoch 38/150\n",
      "164/164 [==============================] - 0s 2ms/step - loss: 0.1146 - mae: 0.1748 - val_loss: 0.1864 - val_mae: 0.2580\n",
      "Epoch 39/150\n",
      "164/164 [==============================] - 0s 2ms/step - loss: 0.1149 - mae: 0.1755 - val_loss: 0.1264 - val_mae: 0.1624\n",
      "Epoch 40/150\n",
      "164/164 [==============================] - 0s 2ms/step - loss: 0.1138 - mae: 0.1733 - val_loss: 0.1244 - val_mae: 0.1606\n",
      "Epoch 41/150\n",
      "164/164 [==============================] - 0s 2ms/step - loss: 0.1130 - mae: 0.1714 - val_loss: 0.1375 - val_mae: 0.1644\n",
      "Epoch 42/150\n",
      "164/164 [==============================] - 0s 2ms/step - loss: 0.1130 - mae: 0.1726 - val_loss: 0.1437 - val_mae: 0.2480\n",
      "Epoch 43/150\n",
      "164/164 [==============================] - 0s 2ms/step - loss: 0.1118 - mae: 0.1700 - val_loss: 0.1585 - val_mae: 0.2783\n",
      "Epoch 44/150\n",
      "164/164 [==============================] - 0s 2ms/step - loss: 0.1122 - mae: 0.1705 - val_loss: 0.1713 - val_mae: 0.3051\n",
      "Epoch 45/150\n",
      "164/164 [==============================] - 0s 2ms/step - loss: 0.1110 - mae: 0.1691 - val_loss: 0.1252 - val_mae: 0.1723\n",
      "Epoch 46/150\n",
      "164/164 [==============================] - 0s 3ms/step - loss: 0.1109 - mae: 0.1681 - val_loss: 0.1284 - val_mae: 0.2013\n",
      "Epoch 47/150\n",
      "164/164 [==============================] - 0s 3ms/step - loss: 0.1102 - mae: 0.1687 - val_loss: 0.1425 - val_mae: 0.2434\n",
      "Epoch 48/150\n",
      "164/164 [==============================] - 0s 2ms/step - loss: 0.1100 - mae: 0.1675 - val_loss: 0.1236 - val_mae: 0.1476\n",
      "Epoch 49/150\n",
      "164/164 [==============================] - 0s 2ms/step - loss: 0.1088 - mae: 0.1660 - val_loss: 0.1366 - val_mae: 0.1677\n",
      "Epoch 50/150\n",
      "164/164 [==============================] - 0s 2ms/step - loss: 0.1078 - mae: 0.1662 - val_loss: 0.1331 - val_mae: 0.2196\n",
      "Epoch 51/150\n",
      "164/164 [==============================] - 0s 2ms/step - loss: 0.1084 - mae: 0.1661 - val_loss: 0.1599 - val_mae: 0.2177\n",
      "Epoch 52/150\n",
      "164/164 [==============================] - 0s 2ms/step - loss: 0.1085 - mae: 0.1647 - val_loss: 0.1664 - val_mae: 0.2301\n",
      "Epoch 53/150\n",
      "164/164 [==============================] - 0s 2ms/step - loss: 0.1085 - mae: 0.1642 - val_loss: 0.1346 - val_mae: 0.1669\n",
      "Epoch 54/150\n",
      "164/164 [==============================] - 0s 3ms/step - loss: 0.1082 - mae: 0.1647 - val_loss: 0.1270 - val_mae: 0.1521\n",
      "Epoch 55/150\n",
      "164/164 [==============================] - 0s 3ms/step - loss: 0.1073 - mae: 0.1636 - val_loss: 0.1229 - val_mae: 0.1442\n",
      "Epoch 56/150\n",
      "164/164 [==============================] - 0s 3ms/step - loss: 0.1054 - mae: 0.1626 - val_loss: 0.1206 - val_mae: 0.1519\n",
      "Epoch 57/150\n",
      "164/164 [==============================] - 0s 2ms/step - loss: 0.1066 - mae: 0.1623 - val_loss: 0.2006 - val_mae: 0.3482\n",
      "Epoch 58/150\n",
      "164/164 [==============================] - 0s 3ms/step - loss: 0.1065 - mae: 0.1623 - val_loss: 0.1200 - val_mae: 0.1583\n",
      "Epoch 59/150\n",
      "164/164 [==============================] - 0s 2ms/step - loss: 0.1058 - mae: 0.1625 - val_loss: 0.1246 - val_mae: 0.1565\n",
      "Epoch 60/150\n",
      "164/164 [==============================] - 0s 2ms/step - loss: 0.1061 - mae: 0.1618 - val_loss: 0.1437 - val_mae: 0.1905\n",
      "Epoch 61/150\n",
      "164/164 [==============================] - 0s 2ms/step - loss: 0.1046 - mae: 0.1607 - val_loss: 0.1189 - val_mae: 0.1533\n",
      "Epoch 62/150\n",
      "164/164 [==============================] - 0s 3ms/step - loss: 0.1052 - mae: 0.1618 - val_loss: 0.1280 - val_mae: 0.1514\n",
      "Epoch 63/150\n",
      "164/164 [==============================] - 0s 3ms/step - loss: 0.1036 - mae: 0.1601 - val_loss: 0.1390 - val_mae: 0.2458\n",
      "Epoch 64/150\n",
      "164/164 [==============================] - 0s 2ms/step - loss: 0.1039 - mae: 0.1613 - val_loss: 0.1520 - val_mae: 0.2744\n",
      "Epoch 65/150\n",
      "164/164 [==============================] - 0s 2ms/step - loss: 0.1040 - mae: 0.1594 - val_loss: 0.1497 - val_mae: 0.2717\n",
      "Epoch 66/150\n",
      "164/164 [==============================] - 0s 3ms/step - loss: 0.1035 - mae: 0.1600 - val_loss: 0.1294 - val_mae: 0.1678\n",
      "Epoch 67/150\n",
      "164/164 [==============================] - 0s 3ms/step - loss: 0.1039 - mae: 0.1580 - val_loss: 0.1394 - val_mae: 0.1813\n",
      "Epoch 68/150\n",
      "164/164 [==============================] - 0s 2ms/step - loss: 0.1023 - mae: 0.1583 - val_loss: 0.1395 - val_mae: 0.1819\n",
      "Epoch 69/150\n",
      "164/164 [==============================] - 0s 3ms/step - loss: 0.1023 - mae: 0.1587 - val_loss: 0.1209 - val_mae: 0.1847\n",
      "Epoch 70/150\n",
      "164/164 [==============================] - 0s 2ms/step - loss: 0.1017 - mae: 0.1580 - val_loss: 0.1176 - val_mae: 0.1447\n",
      "Epoch 71/150\n",
      "164/164 [==============================] - 0s 2ms/step - loss: 0.1015 - mae: 0.1571 - val_loss: 0.1507 - val_mae: 0.1972\n",
      "Epoch 72/150\n",
      "164/164 [==============================] - 0s 2ms/step - loss: 0.1011 - mae: 0.1581 - val_loss: 0.1211 - val_mae: 0.1509\n",
      "Epoch 73/150\n",
      "164/164 [==============================] - 0s 2ms/step - loss: 0.1010 - mae: 0.1562 - val_loss: 0.1172 - val_mae: 0.1653\n",
      "Epoch 74/150\n",
      "164/164 [==============================] - 0s 2ms/step - loss: 0.0999 - mae: 0.1552 - val_loss: 0.1507 - val_mae: 0.2001\n",
      "Epoch 75/150\n",
      "164/164 [==============================] - 0s 3ms/step - loss: 0.1001 - mae: 0.1556 - val_loss: 0.1217 - val_mae: 0.2012\n",
      "Epoch 76/150\n",
      "164/164 [==============================] - 0s 3ms/step - loss: 0.0999 - mae: 0.1555 - val_loss: 0.1152 - val_mae: 0.1499\n",
      "Epoch 77/150\n",
      "164/164 [==============================] - 0s 3ms/step - loss: 0.0997 - mae: 0.1551 - val_loss: 0.1156 - val_mae: 0.1494\n",
      "Epoch 78/150\n",
      "164/164 [==============================] - 0s 2ms/step - loss: 0.0992 - mae: 0.1558 - val_loss: 0.1168 - val_mae: 0.1580\n",
      "Epoch 79/150\n",
      "164/164 [==============================] - 0s 2ms/step - loss: 0.0999 - mae: 0.1563 - val_loss: 0.1170 - val_mae: 0.1782\n",
      "Epoch 80/150\n",
      "164/164 [==============================] - 0s 2ms/step - loss: 0.0984 - mae: 0.1544 - val_loss: 0.1231 - val_mae: 0.2025\n",
      "Epoch 81/150\n",
      "164/164 [==============================] - 0s 2ms/step - loss: 0.0992 - mae: 0.1557 - val_loss: 0.1278 - val_mae: 0.1719\n",
      "Epoch 82/150\n",
      "164/164 [==============================] - 0s 2ms/step - loss: 0.0980 - mae: 0.1545 - val_loss: 0.1227 - val_mae: 0.1986\n",
      "Epoch 83/150\n",
      "164/164 [==============================] - 0s 2ms/step - loss: 0.0989 - mae: 0.1548 - val_loss: 0.1172 - val_mae: 0.1830\n",
      "Epoch 84/150\n",
      "164/164 [==============================] - 0s 2ms/step - loss: 0.0986 - mae: 0.1543 - val_loss: 0.1137 - val_mae: 0.1456\n",
      "Epoch 85/150\n",
      "164/164 [==============================] - 0s 2ms/step - loss: 0.0971 - mae: 0.1542 - val_loss: 0.1228 - val_mae: 0.1457\n",
      "Epoch 86/150\n",
      "164/164 [==============================] - 0s 2ms/step - loss: 0.0982 - mae: 0.1531 - val_loss: 0.1418 - val_mae: 0.2563\n",
      "Epoch 87/150\n",
      "164/164 [==============================] - 0s 2ms/step - loss: 0.0971 - mae: 0.1523 - val_loss: 0.1136 - val_mae: 0.1684\n",
      "Epoch 88/150\n",
      "164/164 [==============================] - 0s 3ms/step - loss: 0.0977 - mae: 0.1535 - val_loss: 0.1212 - val_mae: 0.1422\n",
      "Epoch 89/150\n",
      "164/164 [==============================] - 0s 2ms/step - loss: 0.0974 - mae: 0.1535 - val_loss: 0.1147 - val_mae: 0.1555\n",
      "Epoch 90/150\n",
      "164/164 [==============================] - 0s 2ms/step - loss: 0.0969 - mae: 0.1525 - val_loss: 0.1148 - val_mae: 0.1487\n",
      "Epoch 91/150\n",
      "164/164 [==============================] - 0s 2ms/step - loss: 0.0970 - mae: 0.1535 - val_loss: 0.1241 - val_mae: 0.1519\n",
      "Epoch 92/150\n",
      "164/164 [==============================] - 0s 3ms/step - loss: 0.0968 - mae: 0.1524 - val_loss: 0.1120 - val_mae: 0.1450\n",
      "Epoch 93/150\n",
      "164/164 [==============================] - 0s 2ms/step - loss: 0.0969 - mae: 0.1527 - val_loss: 0.1390 - val_mae: 0.2538\n",
      "Epoch 94/150\n",
      "164/164 [==============================] - 0s 2ms/step - loss: 0.0967 - mae: 0.1523 - val_loss: 0.1317 - val_mae: 0.1629\n",
      "Epoch 95/150\n",
      "164/164 [==============================] - 0s 3ms/step - loss: 0.0973 - mae: 0.1523 - val_loss: 0.1173 - val_mae: 0.1465\n",
      "Epoch 96/150\n",
      "164/164 [==============================] - 0s 2ms/step - loss: 0.0972 - mae: 0.1512 - val_loss: 0.1265 - val_mae: 0.1648\n",
      "Epoch 97/150\n",
      "164/164 [==============================] - 0s 2ms/step - loss: 0.0950 - mae: 0.1513 - val_loss: 0.1204 - val_mae: 0.1482\n",
      "Epoch 98/150\n",
      "164/164 [==============================] - 0s 3ms/step - loss: 0.0956 - mae: 0.1496 - val_loss: 0.1212 - val_mae: 0.1604\n",
      "Epoch 99/150\n",
      "164/164 [==============================] - 0s 3ms/step - loss: 0.0954 - mae: 0.1505 - val_loss: 0.1424 - val_mae: 0.2525\n",
      "Epoch 100/150\n",
      "164/164 [==============================] - 0s 2ms/step - loss: 0.0957 - mae: 0.1516 - val_loss: 0.1164 - val_mae: 0.1786\n",
      "Epoch 101/150\n",
      "164/164 [==============================] - 0s 3ms/step - loss: 0.0962 - mae: 0.1513 - val_loss: 0.1183 - val_mae: 0.1366\n",
      "Epoch 102/150\n",
      "164/164 [==============================] - 0s 2ms/step - loss: 0.0948 - mae: 0.1499 - val_loss: 0.1125 - val_mae: 0.1479\n",
      "Epoch 103/150\n",
      "164/164 [==============================] - 0s 2ms/step - loss: 0.0953 - mae: 0.1499 - val_loss: 0.1310 - val_mae: 0.1759\n",
      "Epoch 104/150\n",
      "164/164 [==============================] - 0s 3ms/step - loss: 0.0947 - mae: 0.1492 - val_loss: 0.1333 - val_mae: 0.1795\n",
      "Epoch 105/150\n",
      "164/164 [==============================] - 0s 2ms/step - loss: 0.0951 - mae: 0.1494 - val_loss: 0.1126 - val_mae: 0.1752\n",
      "Epoch 106/150\n",
      "164/164 [==============================] - 0s 3ms/step - loss: 0.0949 - mae: 0.1494 - val_loss: 0.1194 - val_mae: 0.1953\n",
      "Epoch 107/150\n",
      "164/164 [==============================] - 0s 3ms/step - loss: 0.0948 - mae: 0.1495 - val_loss: 0.1138 - val_mae: 0.1446\n",
      "Epoch 108/150\n",
      "164/164 [==============================] - 0s 2ms/step - loss: 0.0940 - mae: 0.1488 - val_loss: 0.1109 - val_mae: 0.1437\n",
      "Epoch 109/150\n",
      "164/164 [==============================] - 0s 2ms/step - loss: 0.0948 - mae: 0.1502 - val_loss: 0.1341 - val_mae: 0.1815\n",
      "Epoch 110/150\n",
      "164/164 [==============================] - 0s 2ms/step - loss: 0.0940 - mae: 0.1483 - val_loss: 0.1194 - val_mae: 0.1578\n",
      "Epoch 111/150\n",
      "164/164 [==============================] - 0s 3ms/step - loss: 0.0944 - mae: 0.1480 - val_loss: 0.1221 - val_mae: 0.2124\n",
      "Epoch 112/150\n",
      "164/164 [==============================] - 0s 3ms/step - loss: 0.0947 - mae: 0.1491 - val_loss: 0.1158 - val_mae: 0.1421\n",
      "Epoch 113/150\n",
      "164/164 [==============================] - 0s 2ms/step - loss: 0.0940 - mae: 0.1482 - val_loss: 0.1114 - val_mae: 0.1583\n",
      "Epoch 114/150\n",
      "164/164 [==============================] - 0s 2ms/step - loss: 0.0936 - mae: 0.1467 - val_loss: 0.1253 - val_mae: 0.1620\n",
      "Epoch 115/150\n",
      "164/164 [==============================] - 0s 3ms/step - loss: 0.0931 - mae: 0.1477 - val_loss: 0.1214 - val_mae: 0.2119\n",
      "Epoch 116/150\n",
      "164/164 [==============================] - 0s 2ms/step - loss: 0.0944 - mae: 0.1482 - val_loss: 0.1131 - val_mae: 0.1427\n",
      "Epoch 117/150\n",
      "164/164 [==============================] - 0s 2ms/step - loss: 0.0935 - mae: 0.1475 - val_loss: 0.1078 - val_mae: 0.1520\n",
      "Epoch 118/150\n",
      "164/164 [==============================] - 0s 2ms/step - loss: 0.0931 - mae: 0.1476 - val_loss: 0.1409 - val_mae: 0.2611\n",
      "Epoch 119/150\n",
      "164/164 [==============================] - 0s 2ms/step - loss: 0.0934 - mae: 0.1477 - val_loss: 0.1121 - val_mae: 0.1588\n",
      "Epoch 120/150\n",
      "164/164 [==============================] - 0s 3ms/step - loss: 0.0937 - mae: 0.1487 - val_loss: 0.1138 - val_mae: 0.1780\n",
      "Epoch 121/150\n",
      "164/164 [==============================] - 0s 2ms/step - loss: 0.0929 - mae: 0.1476 - val_loss: 0.1095 - val_mae: 0.1410\n",
      "Epoch 122/150\n",
      "164/164 [==============================] - 0s 2ms/step - loss: 0.0929 - mae: 0.1482 - val_loss: 0.1123 - val_mae: 0.1483\n",
      "Epoch 123/150\n",
      "164/164 [==============================] - 0s 2ms/step - loss: 0.0919 - mae: 0.1463 - val_loss: 0.1174 - val_mae: 0.1362\n",
      "Epoch 124/150\n",
      "164/164 [==============================] - 0s 3ms/step - loss: 0.0922 - mae: 0.1456 - val_loss: 0.1167 - val_mae: 0.1389\n",
      "Epoch 125/150\n",
      "164/164 [==============================] - 0s 2ms/step - loss: 0.0922 - mae: 0.1465 - val_loss: 0.1304 - val_mae: 0.2307\n",
      "Epoch 126/150\n",
      "164/164 [==============================] - 0s 2ms/step - loss: 0.0917 - mae: 0.1460 - val_loss: 0.1081 - val_mae: 0.1429\n",
      "Epoch 127/150\n",
      "164/164 [==============================] - 0s 2ms/step - loss: 0.0915 - mae: 0.1457 - val_loss: 0.1236 - val_mae: 0.1973\n",
      "Epoch 128/150\n",
      "164/164 [==============================] - 0s 2ms/step - loss: 0.0912 - mae: 0.1461 - val_loss: 0.1261 - val_mae: 0.2169\n",
      "Epoch 129/150\n",
      "164/164 [==============================] - 0s 2ms/step - loss: 0.0909 - mae: 0.1463 - val_loss: 0.1109 - val_mae: 0.1475\n",
      "Epoch 130/150\n",
      "164/164 [==============================] - 0s 2ms/step - loss: 0.0908 - mae: 0.1447 - val_loss: 0.1202 - val_mae: 0.2090\n",
      "Epoch 131/150\n",
      "164/164 [==============================] - 0s 2ms/step - loss: 0.0912 - mae: 0.1449 - val_loss: 0.1101 - val_mae: 0.1638\n",
      "Epoch 132/150\n",
      "164/164 [==============================] - 0s 3ms/step - loss: 0.0909 - mae: 0.1443 - val_loss: 0.1273 - val_mae: 0.1706\n",
      "Epoch 133/150\n",
      "164/164 [==============================] - 0s 2ms/step - loss: 0.0911 - mae: 0.1460 - val_loss: 0.1128 - val_mae: 0.1451\n",
      "Epoch 134/150\n",
      "164/164 [==============================] - 0s 3ms/step - loss: 0.0906 - mae: 0.1439 - val_loss: 0.1078 - val_mae: 0.1511\n",
      "Epoch 135/150\n",
      "164/164 [==============================] - 0s 2ms/step - loss: 0.0901 - mae: 0.1438 - val_loss: 0.1499 - val_mae: 0.2151\n",
      "Epoch 136/150\n",
      "164/164 [==============================] - 0s 2ms/step - loss: 0.0908 - mae: 0.1433 - val_loss: 0.1137 - val_mae: 0.1912\n",
      "Epoch 137/150\n",
      "164/164 [==============================] - 0s 2ms/step - loss: 0.0905 - mae: 0.1452 - val_loss: 0.1148 - val_mae: 0.1432\n",
      "Epoch 138/150\n",
      "164/164 [==============================] - 0s 3ms/step - loss: 0.0897 - mae: 0.1444 - val_loss: 0.1169 - val_mae: 0.1541\n",
      "Epoch 139/150\n",
      "164/164 [==============================] - 0s 3ms/step - loss: 0.0900 - mae: 0.1451 - val_loss: 0.1096 - val_mae: 0.1780\n",
      "Epoch 140/150\n",
      "164/164 [==============================] - 0s 3ms/step - loss: 0.0887 - mae: 0.1428 - val_loss: 0.1280 - val_mae: 0.1716\n",
      "Epoch 141/150\n",
      "164/164 [==============================] - 0s 3ms/step - loss: 0.0902 - mae: 0.1440 - val_loss: 0.1140 - val_mae: 0.1893\n",
      "Epoch 142/150\n",
      "164/164 [==============================] - 0s 2ms/step - loss: 0.0891 - mae: 0.1433 - val_loss: 0.1053 - val_mae: 0.1520\n",
      "Epoch 143/150\n",
      "164/164 [==============================] - 0s 2ms/step - loss: 0.0889 - mae: 0.1444 - val_loss: 0.1222 - val_mae: 0.1451\n",
      "Epoch 144/150\n",
      "164/164 [==============================] - 0s 2ms/step - loss: 0.0889 - mae: 0.1431 - val_loss: 0.1149 - val_mae: 0.1676\n",
      "Epoch 145/150\n",
      "164/164 [==============================] - 0s 2ms/step - loss: 0.0906 - mae: 0.1443 - val_loss: 0.1065 - val_mae: 0.1619\n",
      "Epoch 146/150\n",
      "164/164 [==============================] - 0s 3ms/step - loss: 0.0887 - mae: 0.1426 - val_loss: 0.1330 - val_mae: 0.2117\n",
      "Epoch 147/150\n",
      "164/164 [==============================] - 0s 2ms/step - loss: 0.0890 - mae: 0.1447 - val_loss: 0.1129 - val_mae: 0.1491\n",
      "Epoch 148/150\n",
      "164/164 [==============================] - 0s 2ms/step - loss: 0.0887 - mae: 0.1434 - val_loss: 0.1127 - val_mae: 0.1365\n",
      "Epoch 149/150\n",
      "164/164 [==============================] - 0s 2ms/step - loss: 0.0887 - mae: 0.1424 - val_loss: 0.1247 - val_mae: 0.1553\n",
      "Epoch 150/150\n",
      "164/164 [==============================] - 0s 3ms/step - loss: 0.0880 - mae: 0.1433 - val_loss: 0.1069 - val_mae: 0.1419\n"
     ]
    }
   ],
   "source": [
    "#Fitting NN model\n",
    "history_2 = model_2.fit(X_train,y_train,epochs=150, validation_split = 0.30,\n",
    "                        batch_size=90,shuffle=True,verbose=True)"
   ]
  },
  {
   "cell_type": "code",
   "execution_count": 114,
   "metadata": {
    "colab": {
     "base_uri": "https://localhost:8080/",
     "height": 350
    },
    "executionInfo": {
     "elapsed": 358,
     "status": "ok",
     "timestamp": 1629078821021,
     "user": {
      "displayName": "Vijay Waghmare",
      "photoUrl": "",
      "userId": "02980993576388042039"
     },
     "user_tz": -600
    },
    "id": "ZDGIh6PniQnd",
    "outputId": "531cbac5-b7c7-4f8e-ec2d-20bc48419895"
   },
   "outputs": [
    {
     "data": {
      "image/png": "[encoded data removed]",
      "text/plain": [
       "<Figure size 720x360 with 1 Axes>"
      ]
     },
     "metadata": {
      "needs_background": "light",
      "tags": []
     },
     "output_type": "display_data"
    }
   ],
   "source": [
    "#Evaluating model over training and validation dataset\n",
    "loss_2 = history_2.history['mae']\n",
    "val_loss_2 = history_2.history['val_mae']\n",
    "\n",
    "\n",
    "#Plotting training and validation loss with number of epochs\n",
    "plt.figure(figsize=(10, 5))\n",
    "epochs_2 = range(1, len(loss_2) + 1)\n",
    "plt.plot(epochs_2, loss_2, 'bo', label='Training loss')\n",
    "plt.plot(epochs_2, val_loss_2, 'b', label='Validation loss', color = 'red')\n",
    "plt.title('Training and validation loss')\n",
    "plt.xlabel('Epochs')\n",
    "plt.ylabel('Loss')\n",
    "plt.legend()\n",
    "plt.show()"
   ]
  },
  {
   "cell_type": "code",
   "execution_count": 115,
   "metadata": {
    "executionInfo": {
     "elapsed": 1470,
     "status": "ok",
     "timestamp": 1629078826276,
     "user": {
      "displayName": "Vijay Waghmare",
      "photoUrl": "",
      "userId": "02980993576388042039"
     },
     "user_tz": -600
    },
    "id": "RVs21kbniQne"
   },
   "outputs": [],
   "source": [
    "#Training and test data prediction\n",
    "model_2_train = model_2.predict(X_train)\n",
    "model_2_test = model_2.predict(X_test)"
   ]
  },
  {
   "cell_type": "code",
   "execution_count": 116,
   "metadata": {
    "colab": {
     "base_uri": "https://localhost:8080/"
    },
    "executionInfo": {
     "elapsed": 268,
     "status": "ok",
     "timestamp": 1629078827658,
     "user": {
      "displayName": "Vijay Waghmare",
      "photoUrl": "",
      "userId": "02980993576388042039"
     },
     "user_tz": -600
    },
    "id": "xJAWV0AfrC9R",
    "outputId": "eeebe6b8-8533-40a6-8e81-94a8f939c520"
   },
   "outputs": [
    {
     "name": "stdout",
     "output_type": "stream",
     "text": [
      "Train MAE:0.133\n",
      "Test MAE:0.135\n",
      "\n"
     ]
    }
   ],
   "source": [
    "#Train and test MAE\n",
    "train_mae_2 = round(mean_absolute_error(y_train,model_2_train),3)\n",
    "test_mae_2 = round(mean_absolute_error(y_test,model_2_test),3)\n",
    "print(\"Train MAE:{}\\nTest MAE:{}\\n\".format(train_mae_2,test_mae_2))"
   ]
  },
  {
   "cell_type": "code",
   "execution_count": 117,
   "metadata": {
    "colab": {
     "base_uri": "https://localhost:8080/",
     "height": 295
    },
    "executionInfo": {
     "elapsed": 1016,
     "status": "ok",
     "timestamp": 1629078832622,
     "user": {
      "displayName": "Vijay Waghmare",
      "photoUrl": "",
      "userId": "02980993576388042039"
     },
     "user_tz": -600
    },
    "id": "gVfPnTNskwlc",
    "outputId": "d5456925-8ff3-4477-f06c-763db9701e1e"
   },
   "outputs": [
    {
     "data": {
      "image/png": "[encoded data removed]",
      "text/plain": [
       "<Figure size 432x288 with 1 Axes>"
      ]
     },
     "metadata": {
      "needs_background": "light",
      "tags": []
     },
     "output_type": "display_data"
    }
   ],
   "source": [
    "#Plotting training prediction\n",
    "pred_train_2 = pd.DataFrame(model_2_train,columns=['pred'])\n",
    "pred_train_2['actual'] = y_train\n",
    "\n",
    "pred_train_2.plot(xlabel='observations',ylabel='Total consumption')\n",
    "plt.title('Training data prediction')\n",
    "plt.show()"
   ]
  },
  {
   "cell_type": "code",
   "execution_count": 118,
   "metadata": {
    "colab": {
     "base_uri": "https://localhost:8080/",
     "height": 295
    },
    "executionInfo": {
     "elapsed": 1088,
     "status": "ok",
     "timestamp": 1629078836460,
     "user": {
      "displayName": "Vijay Waghmare",
      "photoUrl": "",
      "userId": "02980993576388042039"
     },
     "user_tz": -600
    },
    "id": "KWZqtviikxZD",
    "outputId": "ee77644f-0a57-4ddd-972e-df26d74ad6ec"
   },
   "outputs": [
    {
     "data": {
      "image/png": "[encoded data removed]",
      "text/plain": [
       "<Figure size 432x288 with 1 Axes>"
      ]
     },
     "metadata": {
      "needs_background": "light",
      "tags": []
     },
     "output_type": "display_data"
    }
   ],
   "source": [
    "#Plotting test data prediction\n",
    "pred_test_2 = pd.DataFrame(model_2_test,columns=['pred'])\n",
    "pred_test_2['actual'] = y_test\n",
    "\n",
    "pred_test_2.plot(xlabel='observations',ylabel='Total consumption')\n",
    "plt.title('Test data prediction')\n",
    "plt.show()"
   ]
  },
  {
   "cell_type": "markdown",
   "metadata": {
    "id": "mOKecx7Fv1wd"
   },
   "source": [
    "**Model 3**"
   ]
  },
  {
   "cell_type": "code",
   "execution_count": 99,
   "metadata": {
    "colab": {
     "base_uri": "https://localhost:8080/"
    },
    "executionInfo": {
     "elapsed": 82857,
     "status": "ok",
     "timestamp": 1629076156357,
     "user": {
      "displayName": "Vijay Waghmare",
      "photoUrl": "",
      "userId": "02980993576388042039"
     },
     "user_tz": -600
    },
    "id": "Ns7CEKudiQnf",
    "outputId": "7729fc70-7b63-40cb-de64-100b3399b885"
   },
   "outputs": [
    {
     "name": "stdout",
     "output_type": "stream",
     "text": [
      "Epoch 1/150\n",
      "164/164 [==============================] - 1s 3ms/step - loss: 5.4174 - mae: 1.7588 - val_loss: 1.8000 - val_mae: 1.1566\n",
      "Epoch 2/150\n",
      "164/164 [==============================] - 0s 3ms/step - loss: 1.5523 - mae: 1.0097 - val_loss: 0.3942 - val_mae: 0.4108\n",
      "Epoch 3/150\n",
      "164/164 [==============================] - 0s 3ms/step - loss: 0.5369 - mae: 0.5456 - val_loss: 0.3791 - val_mae: 0.4018\n",
      "Epoch 4/150\n",
      "164/164 [==============================] - 0s 2ms/step - loss: 0.3497 - mae: 0.4191 - val_loss: 0.2559 - val_mae: 0.3030\n",
      "Epoch 5/150\n",
      "164/164 [==============================] - 0s 3ms/step - loss: 0.2549 - mae: 0.3415 - val_loss: 0.2062 - val_mae: 0.2394\n",
      "Epoch 6/150\n",
      "164/164 [==============================] - 0s 3ms/step - loss: 0.2101 - mae: 0.3005 - val_loss: 0.1470 - val_mae: 0.1946\n",
      "Epoch 7/150\n",
      "164/164 [==============================] - 0s 3ms/step - loss: 0.1749 - mae: 0.2615 - val_loss: 0.1467 - val_mae: 0.2228\n",
      "Epoch 8/150\n",
      "164/164 [==============================] - 0s 3ms/step - loss: 0.1656 - mae: 0.2484 - val_loss: 0.1443 - val_mae: 0.2140\n",
      "Epoch 9/150\n",
      "164/164 [==============================] - 0s 2ms/step - loss: 0.1548 - mae: 0.2366 - val_loss: 0.2327 - val_mae: 0.2892\n",
      "Epoch 10/150\n",
      "164/164 [==============================] - 0s 3ms/step - loss: 0.1517 - mae: 0.2297 - val_loss: 0.1703 - val_mae: 0.2931\n",
      "Epoch 11/150\n",
      "164/164 [==============================] - 0s 2ms/step - loss: 0.1478 - mae: 0.2256 - val_loss: 0.3242 - val_mae: 0.3979\n",
      "Epoch 12/150\n",
      "164/164 [==============================] - 0s 2ms/step - loss: 0.1439 - mae: 0.2169 - val_loss: 0.1380 - val_mae: 0.1893\n",
      "Epoch 13/150\n",
      "164/164 [==============================] - 0s 3ms/step - loss: 0.1418 - mae: 0.2141 - val_loss: 0.1521 - val_mae: 0.1719\n",
      "Epoch 14/150\n",
      "164/164 [==============================] - 0s 3ms/step - loss: 0.1391 - mae: 0.2084 - val_loss: 0.1454 - val_mae: 0.2345\n",
      "Epoch 15/150\n",
      "164/164 [==============================] - 0s 2ms/step - loss: 0.1360 - mae: 0.2070 - val_loss: 0.1632 - val_mae: 0.1891\n",
      "Epoch 16/150\n",
      "164/164 [==============================] - 0s 3ms/step - loss: 0.1377 - mae: 0.2112 - val_loss: 0.1458 - val_mae: 0.1653\n",
      "Epoch 17/150\n",
      "164/164 [==============================] - 0s 2ms/step - loss: 0.1345 - mae: 0.2045 - val_loss: 0.2565 - val_mae: 0.4204\n",
      "Epoch 18/150\n",
      "164/164 [==============================] - 0s 3ms/step - loss: 0.1314 - mae: 0.1991 - val_loss: 0.1872 - val_mae: 0.3245\n",
      "Epoch 19/150\n",
      "164/164 [==============================] - 0s 3ms/step - loss: 0.1313 - mae: 0.1999 - val_loss: 0.1432 - val_mae: 0.2285\n",
      "Epoch 20/150\n",
      "164/164 [==============================] - 0s 3ms/step - loss: 0.1283 - mae: 0.1949 - val_loss: 0.2881 - val_mae: 0.4561\n",
      "Epoch 21/150\n",
      "164/164 [==============================] - 0s 3ms/step - loss: 0.1277 - mae: 0.1926 - val_loss: 0.1662 - val_mae: 0.2013\n",
      "Epoch 22/150\n",
      "164/164 [==============================] - 0s 2ms/step - loss: 0.1272 - mae: 0.1947 - val_loss: 0.1332 - val_mae: 0.1675\n",
      "Epoch 23/150\n",
      "164/164 [==============================] - 0s 2ms/step - loss: 0.1261 - mae: 0.1904 - val_loss: 0.1419 - val_mae: 0.1630\n",
      "Epoch 24/150\n",
      "164/164 [==============================] - 0s 2ms/step - loss: 0.1258 - mae: 0.1921 - val_loss: 0.1695 - val_mae: 0.2110\n",
      "Epoch 25/150\n",
      "164/164 [==============================] - 0s 3ms/step - loss: 0.1242 - mae: 0.1894 - val_loss: 0.1309 - val_mae: 0.1724\n",
      "Epoch 26/150\n",
      "164/164 [==============================] - 0s 2ms/step - loss: 0.1235 - mae: 0.1883 - val_loss: 0.1313 - val_mae: 0.1601\n",
      "Epoch 27/150\n",
      "164/164 [==============================] - 0s 2ms/step - loss: 0.1228 - mae: 0.1846 - val_loss: 0.1305 - val_mae: 0.1640\n",
      "Epoch 28/150\n",
      "164/164 [==============================] - 0s 3ms/step - loss: 0.1232 - mae: 0.1873 - val_loss: 0.1455 - val_mae: 0.1676\n",
      "Epoch 29/150\n",
      "164/164 [==============================] - 0s 2ms/step - loss: 0.1215 - mae: 0.1839 - val_loss: 0.1315 - val_mae: 0.1799\n",
      "Epoch 30/150\n",
      "164/164 [==============================] - 0s 3ms/step - loss: 0.1209 - mae: 0.1833 - val_loss: 0.1564 - val_mae: 0.1899\n",
      "Epoch 31/150\n",
      "164/164 [==============================] - 0s 2ms/step - loss: 0.1208 - mae: 0.1827 - val_loss: 0.1417 - val_mae: 0.2346\n",
      "Epoch 32/150\n",
      "164/164 [==============================] - 0s 2ms/step - loss: 0.1204 - mae: 0.1817 - val_loss: 0.1395 - val_mae: 0.1592\n",
      "Epoch 33/150\n",
      "164/164 [==============================] - 0s 3ms/step - loss: 0.1203 - mae: 0.1818 - val_loss: 0.1358 - val_mae: 0.2148\n",
      "Epoch 34/150\n",
      "164/164 [==============================] - 0s 3ms/step - loss: 0.1201 - mae: 0.1803 - val_loss: 0.1287 - val_mae: 0.1732\n",
      "Epoch 35/150\n",
      "164/164 [==============================] - 0s 2ms/step - loss: 0.1183 - mae: 0.1791 - val_loss: 0.2538 - val_mae: 0.4194\n",
      "Epoch 36/150\n",
      "164/164 [==============================] - 0s 2ms/step - loss: 0.1207 - mae: 0.1793 - val_loss: 0.1308 - val_mae: 0.1573\n",
      "Epoch 37/150\n",
      "164/164 [==============================] - 0s 3ms/step - loss: 0.1182 - mae: 0.1776 - val_loss: 0.1322 - val_mae: 0.1743\n",
      "Epoch 38/150\n",
      "164/164 [==============================] - 0s 3ms/step - loss: 0.1192 - mae: 0.1789 - val_loss: 0.1409 - val_mae: 0.2251\n",
      "Epoch 39/150\n",
      "164/164 [==============================] - 0s 3ms/step - loss: 0.1191 - mae: 0.1767 - val_loss: 0.1797 - val_mae: 0.3148\n",
      "Epoch 40/150\n",
      "164/164 [==============================] - 0s 2ms/step - loss: 0.1175 - mae: 0.1766 - val_loss: 0.1390 - val_mae: 0.1640\n",
      "Epoch 41/150\n",
      "164/164 [==============================] - 0s 3ms/step - loss: 0.1170 - mae: 0.1768 - val_loss: 0.1306 - val_mae: 0.1544\n",
      "Epoch 42/150\n",
      "164/164 [==============================] - 0s 3ms/step - loss: 0.1164 - mae: 0.1747 - val_loss: 0.1545 - val_mae: 0.2670\n",
      "Epoch 43/150\n",
      "164/164 [==============================] - 0s 3ms/step - loss: 0.1166 - mae: 0.1743 - val_loss: 0.1406 - val_mae: 0.1700\n",
      "Epoch 44/150\n",
      "164/164 [==============================] - 0s 3ms/step - loss: 0.1164 - mae: 0.1742 - val_loss: 0.1297 - val_mae: 0.1773\n",
      "Epoch 45/150\n",
      "164/164 [==============================] - 0s 3ms/step - loss: 0.1152 - mae: 0.1733 - val_loss: 0.1346 - val_mae: 0.1539\n",
      "Epoch 46/150\n",
      "164/164 [==============================] - 0s 3ms/step - loss: 0.1166 - mae: 0.1744 - val_loss: 0.1293 - val_mae: 0.1886\n",
      "Epoch 47/150\n",
      "164/164 [==============================] - 0s 3ms/step - loss: 0.1161 - mae: 0.1723 - val_loss: 0.1345 - val_mae: 0.2135\n",
      "Epoch 48/150\n",
      "164/164 [==============================] - 0s 2ms/step - loss: 0.1148 - mae: 0.1731 - val_loss: 0.1280 - val_mae: 0.1563\n",
      "Epoch 49/150\n",
      "164/164 [==============================] - 0s 2ms/step - loss: 0.1152 - mae: 0.1731 - val_loss: 0.1507 - val_mae: 0.1786\n",
      "Epoch 50/150\n",
      "164/164 [==============================] - 0s 3ms/step - loss: 0.1153 - mae: 0.1713 - val_loss: 0.1273 - val_mae: 0.1713\n",
      "Epoch 51/150\n",
      "164/164 [==============================] - 0s 2ms/step - loss: 0.1149 - mae: 0.1713 - val_loss: 0.1517 - val_mae: 0.1836\n",
      "Epoch 52/150\n",
      "164/164 [==============================] - 0s 2ms/step - loss: 0.1136 - mae: 0.1702 - val_loss: 0.1272 - val_mae: 0.1818\n",
      "Epoch 53/150\n",
      "164/164 [==============================] - 0s 2ms/step - loss: 0.1140 - mae: 0.1709 - val_loss: 0.1324 - val_mae: 0.1531\n",
      "Epoch 54/150\n",
      "164/164 [==============================] - 0s 2ms/step - loss: 0.1132 - mae: 0.1694 - val_loss: 0.1283 - val_mae: 0.1531\n",
      "Epoch 55/150\n",
      "164/164 [==============================] - 0s 3ms/step - loss: 0.1144 - mae: 0.1698 - val_loss: 0.1325 - val_mae: 0.1547\n",
      "Epoch 56/150\n",
      "164/164 [==============================] - 0s 2ms/step - loss: 0.1124 - mae: 0.1683 - val_loss: 0.1274 - val_mae: 0.1881\n",
      "Epoch 57/150\n",
      "164/164 [==============================] - 0s 3ms/step - loss: 0.1129 - mae: 0.1680 - val_loss: 0.1328 - val_mae: 0.2072\n",
      "Epoch 58/150\n",
      "164/164 [==============================] - 0s 3ms/step - loss: 0.1130 - mae: 0.1690 - val_loss: 0.1422 - val_mae: 0.1693\n",
      "Epoch 59/150\n",
      "164/164 [==============================] - 0s 2ms/step - loss: 0.1136 - mae: 0.1692 - val_loss: 0.1791 - val_mae: 0.3148\n",
      "Epoch 60/150\n",
      "164/164 [==============================] - 0s 3ms/step - loss: 0.1123 - mae: 0.1672 - val_loss: 0.1467 - val_mae: 0.1803\n",
      "Epoch 61/150\n",
      "164/164 [==============================] - 0s 2ms/step - loss: 0.1115 - mae: 0.1675 - val_loss: 0.1402 - val_mae: 0.1673\n",
      "Epoch 62/150\n",
      "164/164 [==============================] - 0s 3ms/step - loss: 0.1119 - mae: 0.1680 - val_loss: 0.1497 - val_mae: 0.1809\n",
      "Epoch 63/150\n",
      "164/164 [==============================] - 0s 3ms/step - loss: 0.1100 - mae: 0.1672 - val_loss: 0.1436 - val_mae: 0.1722\n",
      "Epoch 64/150\n",
      "164/164 [==============================] - 0s 3ms/step - loss: 0.1114 - mae: 0.1669 - val_loss: 0.1334 - val_mae: 0.1559\n",
      "Epoch 65/150\n",
      "164/164 [==============================] - 0s 3ms/step - loss: 0.1110 - mae: 0.1673 - val_loss: 0.1275 - val_mae: 0.1911\n",
      "Epoch 66/150\n",
      "164/164 [==============================] - 0s 3ms/step - loss: 0.1106 - mae: 0.1660 - val_loss: 0.1253 - val_mae: 0.1825\n",
      "Epoch 67/150\n",
      "164/164 [==============================] - 0s 2ms/step - loss: 0.1105 - mae: 0.1678 - val_loss: 0.1663 - val_mae: 0.2945\n",
      "Epoch 68/150\n",
      "164/164 [==============================] - 0s 2ms/step - loss: 0.1103 - mae: 0.1650 - val_loss: 0.1230 - val_mae: 0.1675\n",
      "Epoch 69/150\n",
      "164/164 [==============================] - 0s 2ms/step - loss: 0.1093 - mae: 0.1649 - val_loss: 0.1263 - val_mae: 0.1532\n",
      "Epoch 70/150\n",
      "164/164 [==============================] - 0s 2ms/step - loss: 0.1106 - mae: 0.1652 - val_loss: 0.1389 - val_mae: 0.1673\n",
      "Epoch 71/150\n",
      "164/164 [==============================] - 0s 3ms/step - loss: 0.1093 - mae: 0.1644 - val_loss: 0.1663 - val_mae: 0.2898\n",
      "Epoch 72/150\n",
      "164/164 [==============================] - 0s 2ms/step - loss: 0.1089 - mae: 0.1659 - val_loss: 0.1466 - val_mae: 0.2407\n",
      "Epoch 73/150\n",
      "164/164 [==============================] - 0s 2ms/step - loss: 0.1096 - mae: 0.1660 - val_loss: 0.1216 - val_mae: 0.1566\n",
      "Epoch 74/150\n",
      "164/164 [==============================] - 0s 2ms/step - loss: 0.1081 - mae: 0.1633 - val_loss: 0.1618 - val_mae: 0.2830\n",
      "Epoch 75/150\n",
      "164/164 [==============================] - 0s 3ms/step - loss: 0.1081 - mae: 0.1633 - val_loss: 0.1273 - val_mae: 0.1495\n",
      "Epoch 76/150\n",
      "164/164 [==============================] - 0s 2ms/step - loss: 0.1087 - mae: 0.1623 - val_loss: 0.1352 - val_mae: 0.1585\n",
      "Epoch 77/150\n",
      "164/164 [==============================] - 0s 3ms/step - loss: 0.1079 - mae: 0.1618 - val_loss: 0.1237 - val_mae: 0.1740\n",
      "Epoch 78/150\n",
      "164/164 [==============================] - 0s 3ms/step - loss: 0.1070 - mae: 0.1610 - val_loss: 0.1500 - val_mae: 0.2574\n",
      "Epoch 79/150\n",
      "164/164 [==============================] - 0s 2ms/step - loss: 0.1072 - mae: 0.1625 - val_loss: 0.1270 - val_mae: 0.1990\n",
      "Epoch 80/150\n",
      "164/164 [==============================] - 0s 3ms/step - loss: 0.1068 - mae: 0.1610 - val_loss: 0.1214 - val_mae: 0.1504\n",
      "Epoch 81/150\n",
      "164/164 [==============================] - 0s 3ms/step - loss: 0.1064 - mae: 0.1630 - val_loss: 0.1256 - val_mae: 0.1854\n",
      "Epoch 82/150\n",
      "164/164 [==============================] - 0s 3ms/step - loss: 0.1059 - mae: 0.1624 - val_loss: 0.1288 - val_mae: 0.2081\n",
      "Epoch 83/150\n",
      "164/164 [==============================] - 0s 2ms/step - loss: 0.1062 - mae: 0.1613 - val_loss: 0.1538 - val_mae: 0.2675\n",
      "Epoch 84/150\n",
      "164/164 [==============================] - 0s 2ms/step - loss: 0.1065 - mae: 0.1618 - val_loss: 0.1238 - val_mae: 0.1928\n",
      "Epoch 85/150\n",
      "164/164 [==============================] - 0s 2ms/step - loss: 0.1052 - mae: 0.1599 - val_loss: 0.1348 - val_mae: 0.2290\n",
      "Epoch 86/150\n",
      "164/164 [==============================] - 0s 3ms/step - loss: 0.1052 - mae: 0.1598 - val_loss: 0.1401 - val_mae: 0.1735\n",
      "Epoch 87/150\n",
      "164/164 [==============================] - 0s 3ms/step - loss: 0.1054 - mae: 0.1595 - val_loss: 0.1195 - val_mae: 0.1728\n",
      "Epoch 88/150\n",
      "164/164 [==============================] - 0s 3ms/step - loss: 0.1041 - mae: 0.1593 - val_loss: 0.1186 - val_mae: 0.1660\n",
      "Epoch 89/150\n",
      "164/164 [==============================] - 0s 2ms/step - loss: 0.1048 - mae: 0.1598 - val_loss: 0.1196 - val_mae: 0.1503\n",
      "Epoch 90/150\n",
      "164/164 [==============================] - 0s 2ms/step - loss: 0.1050 - mae: 0.1612 - val_loss: 0.1295 - val_mae: 0.1531\n",
      "Epoch 91/150\n",
      "164/164 [==============================] - 0s 3ms/step - loss: 0.1040 - mae: 0.1596 - val_loss: 0.1173 - val_mae: 0.1497\n",
      "Epoch 92/150\n",
      "164/164 [==============================] - 0s 2ms/step - loss: 0.1040 - mae: 0.1588 - val_loss: 0.1252 - val_mae: 0.1517\n",
      "Epoch 93/150\n",
      "164/164 [==============================] - 0s 2ms/step - loss: 0.1035 - mae: 0.1580 - val_loss: 0.1175 - val_mae: 0.1671\n",
      "Epoch 94/150\n",
      "164/164 [==============================] - 0s 2ms/step - loss: 0.1039 - mae: 0.1586 - val_loss: 0.1254 - val_mae: 0.1867\n",
      "Epoch 95/150\n",
      "164/164 [==============================] - 0s 2ms/step - loss: 0.1026 - mae: 0.1581 - val_loss: 0.1166 - val_mae: 0.1570\n",
      "Epoch 96/150\n",
      "164/164 [==============================] - 0s 2ms/step - loss: 0.1027 - mae: 0.1580 - val_loss: 0.1452 - val_mae: 0.2574\n",
      "Epoch 97/150\n",
      "164/164 [==============================] - 0s 2ms/step - loss: 0.1021 - mae: 0.1569 - val_loss: 0.1584 - val_mae: 0.2876\n",
      "Epoch 98/150\n",
      "164/164 [==============================] - 0s 2ms/step - loss: 0.1026 - mae: 0.1590 - val_loss: 0.1172 - val_mae: 0.1741\n",
      "Epoch 99/150\n",
      "164/164 [==============================] - 0s 3ms/step - loss: 0.1016 - mae: 0.1561 - val_loss: 0.1709 - val_mae: 0.2304\n",
      "Epoch 100/150\n",
      "164/164 [==============================] - 0s 3ms/step - loss: 0.1016 - mae: 0.1571 - val_loss: 0.1201 - val_mae: 0.1749\n",
      "Epoch 101/150\n",
      "164/164 [==============================] - 0s 3ms/step - loss: 0.1018 - mae: 0.1572 - val_loss: 0.1196 - val_mae: 0.1422\n",
      "Epoch 102/150\n",
      "164/164 [==============================] - 0s 3ms/step - loss: 0.1020 - mae: 0.1572 - val_loss: 0.1307 - val_mae: 0.1561\n",
      "Epoch 103/150\n",
      "164/164 [==============================] - 1s 3ms/step - loss: 0.1020 - mae: 0.1565 - val_loss: 0.1203 - val_mae: 0.1447\n",
      "Epoch 104/150\n",
      "164/164 [==============================] - 0s 3ms/step - loss: 0.1010 - mae: 0.1565 - val_loss: 0.1184 - val_mae: 0.1797\n",
      "Epoch 105/150\n",
      "164/164 [==============================] - 0s 3ms/step - loss: 0.1003 - mae: 0.1553 - val_loss: 0.1169 - val_mae: 0.1459\n",
      "Epoch 106/150\n",
      "164/164 [==============================] - 0s 3ms/step - loss: 0.1008 - mae: 0.1557 - val_loss: 0.1223 - val_mae: 0.1488\n",
      "Epoch 107/150\n",
      "164/164 [==============================] - 0s 3ms/step - loss: 0.1011 - mae: 0.1582 - val_loss: 0.1245 - val_mae: 0.1474\n",
      "Epoch 108/150\n",
      "164/164 [==============================] - 0s 2ms/step - loss: 0.1002 - mae: 0.1542 - val_loss: 0.1205 - val_mae: 0.1423\n",
      "Epoch 109/150\n",
      "164/164 [==============================] - 1s 3ms/step - loss: 0.1008 - mae: 0.1562 - val_loss: 0.1238 - val_mae: 0.1511\n",
      "Epoch 110/150\n",
      "164/164 [==============================] - 0s 3ms/step - loss: 0.0990 - mae: 0.1545 - val_loss: 0.1435 - val_mae: 0.2563\n",
      "Epoch 111/150\n",
      "164/164 [==============================] - 0s 3ms/step - loss: 0.0992 - mae: 0.1549 - val_loss: 0.1178 - val_mae: 0.1436\n",
      "Epoch 112/150\n",
      "164/164 [==============================] - 0s 3ms/step - loss: 0.0996 - mae: 0.1554 - val_loss: 0.1135 - val_mae: 0.1560\n",
      "Epoch 113/150\n",
      "164/164 [==============================] - 0s 3ms/step - loss: 0.0996 - mae: 0.1539 - val_loss: 0.1180 - val_mae: 0.1403\n",
      "Epoch 114/150\n",
      "164/164 [==============================] - 0s 2ms/step - loss: 0.0995 - mae: 0.1540 - val_loss: 0.1125 - val_mae: 0.1569\n",
      "Epoch 115/150\n",
      "164/164 [==============================] - 0s 3ms/step - loss: 0.0993 - mae: 0.1547 - val_loss: 0.1159 - val_mae: 0.1454\n",
      "Epoch 116/150\n",
      "164/164 [==============================] - 0s 3ms/step - loss: 0.0980 - mae: 0.1538 - val_loss: 0.1145 - val_mae: 0.1446\n",
      "Epoch 117/150\n",
      "164/164 [==============================] - 0s 3ms/step - loss: 0.0989 - mae: 0.1551 - val_loss: 0.1162 - val_mae: 0.1544\n",
      "Epoch 118/150\n",
      "164/164 [==============================] - 0s 3ms/step - loss: 0.0988 - mae: 0.1538 - val_loss: 0.1219 - val_mae: 0.1497\n",
      "Epoch 119/150\n",
      "164/164 [==============================] - 0s 3ms/step - loss: 0.0985 - mae: 0.1538 - val_loss: 0.1231 - val_mae: 0.1915\n",
      "Epoch 120/150\n",
      "164/164 [==============================] - 0s 3ms/step - loss: 0.0980 - mae: 0.1530 - val_loss: 0.1531 - val_mae: 0.2152\n",
      "Epoch 121/150\n",
      "164/164 [==============================] - 0s 3ms/step - loss: 0.0972 - mae: 0.1524 - val_loss: 0.1167 - val_mae: 0.1435\n",
      "Epoch 122/150\n",
      "164/164 [==============================] - 0s 3ms/step - loss: 0.0965 - mae: 0.1525 - val_loss: 0.1235 - val_mae: 0.2089\n",
      "Epoch 123/150\n",
      "164/164 [==============================] - 0s 2ms/step - loss: 0.0987 - mae: 0.1539 - val_loss: 0.1126 - val_mae: 0.1588\n",
      "Epoch 124/150\n",
      "164/164 [==============================] - 0s 2ms/step - loss: 0.0976 - mae: 0.1522 - val_loss: 0.1167 - val_mae: 0.1482\n",
      "Epoch 125/150\n",
      "164/164 [==============================] - 0s 2ms/step - loss: 0.0977 - mae: 0.1512 - val_loss: 0.1142 - val_mae: 0.1459\n",
      "Epoch 126/150\n",
      "164/164 [==============================] - 0s 3ms/step - loss: 0.0973 - mae: 0.1525 - val_loss: 0.1187 - val_mae: 0.1507\n",
      "Epoch 127/150\n",
      "164/164 [==============================] - 0s 3ms/step - loss: 0.0970 - mae: 0.1517 - val_loss: 0.2134 - val_mae: 0.3720\n",
      "Epoch 128/150\n",
      "164/164 [==============================] - 0s 3ms/step - loss: 0.0977 - mae: 0.1530 - val_loss: 0.1176 - val_mae: 0.1482\n",
      "Epoch 129/150\n",
      "164/164 [==============================] - 0s 2ms/step - loss: 0.0969 - mae: 0.1504 - val_loss: 0.1418 - val_mae: 0.2568\n",
      "Epoch 130/150\n",
      "164/164 [==============================] - 0s 2ms/step - loss: 0.0967 - mae: 0.1522 - val_loss: 0.1170 - val_mae: 0.1440\n",
      "Epoch 131/150\n",
      "164/164 [==============================] - 0s 3ms/step - loss: 0.0964 - mae: 0.1512 - val_loss: 0.1423 - val_mae: 0.1916\n",
      "Epoch 132/150\n",
      "164/164 [==============================] - 1s 3ms/step - loss: 0.0969 - mae: 0.1516 - val_loss: 0.1150 - val_mae: 0.1518\n",
      "Epoch 133/150\n",
      "164/164 [==============================] - 0s 3ms/step - loss: 0.0959 - mae: 0.1507 - val_loss: 0.1306 - val_mae: 0.2350\n",
      "Epoch 134/150\n",
      "164/164 [==============================] - 0s 3ms/step - loss: 0.0964 - mae: 0.1502 - val_loss: 0.1118 - val_mae: 0.1487\n",
      "Epoch 135/150\n",
      "164/164 [==============================] - 0s 3ms/step - loss: 0.0969 - mae: 0.1509 - val_loss: 0.1147 - val_mae: 0.1847\n",
      "Epoch 136/150\n",
      "164/164 [==============================] - 0s 3ms/step - loss: 0.0970 - mae: 0.1518 - val_loss: 0.1133 - val_mae: 0.1435\n",
      "Epoch 137/150\n",
      "164/164 [==============================] - 0s 3ms/step - loss: 0.0961 - mae: 0.1502 - val_loss: 0.1195 - val_mae: 0.1423\n",
      "Epoch 138/150\n",
      "164/164 [==============================] - 0s 2ms/step - loss: 0.0954 - mae: 0.1498 - val_loss: 0.1100 - val_mae: 0.1439\n",
      "Epoch 139/150\n",
      "164/164 [==============================] - 0s 3ms/step - loss: 0.0955 - mae: 0.1507 - val_loss: 0.1215 - val_mae: 0.2087\n",
      "Epoch 140/150\n",
      "164/164 [==============================] - 0s 2ms/step - loss: 0.0959 - mae: 0.1502 - val_loss: 0.1163 - val_mae: 0.1415\n",
      "Epoch 141/150\n",
      "164/164 [==============================] - 0s 3ms/step - loss: 0.0948 - mae: 0.1490 - val_loss: 0.1127 - val_mae: 0.1500\n",
      "Epoch 142/150\n",
      "164/164 [==============================] - 0s 3ms/step - loss: 0.0944 - mae: 0.1493 - val_loss: 0.1264 - val_mae: 0.1519\n",
      "Epoch 143/150\n",
      "164/164 [==============================] - 0s 3ms/step - loss: 0.0954 - mae: 0.1497 - val_loss: 0.1115 - val_mae: 0.1426\n",
      "Epoch 144/150\n",
      "164/164 [==============================] - 0s 3ms/step - loss: 0.0946 - mae: 0.1488 - val_loss: 0.1168 - val_mae: 0.1609\n",
      "Epoch 145/150\n",
      "164/164 [==============================] - 0s 3ms/step - loss: 0.0947 - mae: 0.1507 - val_loss: 0.1136 - val_mae: 0.1741\n",
      "Epoch 146/150\n",
      "164/164 [==============================] - 0s 3ms/step - loss: 0.0941 - mae: 0.1483 - val_loss: 0.1165 - val_mae: 0.1480\n",
      "Epoch 147/150\n",
      "164/164 [==============================] - 0s 3ms/step - loss: 0.0940 - mae: 0.1497 - val_loss: 0.1606 - val_mae: 0.2302\n",
      "Epoch 148/150\n",
      "164/164 [==============================] - 0s 2ms/step - loss: 0.0951 - mae: 0.1500 - val_loss: 0.1206 - val_mae: 0.1467\n",
      "Epoch 149/150\n",
      "164/164 [==============================] - 0s 3ms/step - loss: 0.0947 - mae: 0.1491 - val_loss: 0.1089 - val_mae: 0.1543\n",
      "Epoch 150/150\n",
      "164/164 [==============================] - 0s 3ms/step - loss: 0.0936 - mae: 0.1478 - val_loss: 0.1298 - val_mae: 0.1585\n"
     ]
    }
   ],
   "source": [
    "#Fitting NN model\n",
    "history_3 = model_3.fit(X_train,y_train,epochs=150, validation_split = 0.30,\n",
    "                        batch_size=90,shuffle=True,verbose=True)"
   ]
  },
  {
   "cell_type": "code",
   "execution_count": 100,
   "metadata": {
    "colab": {
     "base_uri": "https://localhost:8080/",
     "height": 350
    },
    "executionInfo": {
     "elapsed": 380,
     "status": "ok",
     "timestamp": 1629076184758,
     "user": {
      "displayName": "Vijay Waghmare",
      "photoUrl": "",
      "userId": "02980993576388042039"
     },
     "user_tz": -600
    },
    "id": "_XP8Ss8xiQnf",
    "outputId": "cb6378a0-1ac1-404f-f81a-6a572c0adcb3"
   },
   "outputs": [
    {
     "data": {
      "image/png": "[encoded data removed]",
      "text/plain": [
       "<Figure size 720x360 with 1 Axes>"
      ]
     },
     "metadata": {
      "needs_background": "light",
      "tags": []
     },
     "output_type": "display_data"
    }
   ],
   "source": [
    "#Evaluating model over training and validation dataset\n",
    "loss_3 = history_3.history['mae']\n",
    "val_loss_3 = history_3.history['val_mae']\n",
    "\n",
    "\n",
    "#Plotting training and validation loss with number of epochs\n",
    "plt.figure(figsize=(10, 5))\n",
    "epochs_3 = range(1, len(loss_3) + 1)\n",
    "plt.plot(epochs_3, loss_3, 'bo', label='Training loss')\n",
    "plt.plot(epochs_3, val_loss_3, 'b', label='Validation loss', color = 'red')\n",
    "plt.title('Training and validation loss')\n",
    "plt.xlabel('Epochs')\n",
    "plt.ylabel('Loss')\n",
    "plt.legend()\n",
    "plt.show()"
   ]
  },
  {
   "cell_type": "code",
   "execution_count": 101,
   "metadata": {
    "executionInfo": {
     "elapsed": 1169,
     "status": "ok",
     "timestamp": 1629076189244,
     "user": {
      "displayName": "Vijay Waghmare",
      "photoUrl": "",
      "userId": "02980993576388042039"
     },
     "user_tz": -600
    },
    "id": "nxOBmSAeiQng"
   },
   "outputs": [],
   "source": [
    "#Training and test data prediction\n",
    "model_3_train = model_3.predict(X_train)\n",
    "model_3_test = model_3.predict(X_test)"
   ]
  },
  {
   "cell_type": "code",
   "execution_count": 102,
   "metadata": {
    "colab": {
     "base_uri": "https://localhost:8080/"
    },
    "executionInfo": {
     "elapsed": 274,
     "status": "ok",
     "timestamp": 1629076190494,
     "user": {
      "displayName": "Vijay Waghmare",
      "photoUrl": "",
      "userId": "02980993576388042039"
     },
     "user_tz": -600
    },
    "id": "gff_jLLmyDIb",
    "outputId": "67fd4b12-a388-49cc-b1e1-034424d8595c"
   },
   "outputs": [
    {
     "name": "stdout",
     "output_type": "stream",
     "text": [
      "Train MAE:0.151\n",
      "Test MAE:0.151\n",
      "\n"
     ]
    }
   ],
   "source": [
    "#Train and test MAE\n",
    "train_mae_3 = round(mean_absolute_error(y_train,model_3_train),3)\n",
    "test_mae_3 = round(mean_absolute_error(y_test,model_3_test),3)\n",
    "print(\"Train MAE:{}\\nTest MAE:{}\\n\".format(train_mae_3,test_mae_3))"
   ]
  },
  {
   "cell_type": "code",
   "execution_count": 103,
   "metadata": {
    "colab": {
     "base_uri": "https://localhost:8080/",
     "height": 295
    },
    "executionInfo": {
     "elapsed": 1011,
     "status": "ok",
     "timestamp": 1629076194115,
     "user": {
      "displayName": "Vijay Waghmare",
      "photoUrl": "",
      "userId": "02980993576388042039"
     },
     "user_tz": -600
    },
    "id": "hYXwlgF5yEua",
    "outputId": "14a6fca1-1412-48c0-e778-eea4cc19f873"
   },
   "outputs": [
    {
     "data": {
      "image/png": "[encoded data removed]",
      "text/plain": [
       "<Figure size 432x288 with 1 Axes>"
      ]
     },
     "metadata": {
      "needs_background": "light",
      "tags": []
     },
     "output_type": "display_data"
    }
   ],
   "source": [
    "#Plotting training prediction\n",
    "pred_train_3 = pd.DataFrame(model_3_train,columns=['pred'])\n",
    "pred_train_3['actual'] = y_train\n",
    "\n",
    "pred_train_3.plot(xlabel='observations',ylabel='Total consumption')\n",
    "plt.title('Training data prediction')\n",
    "plt.show()"
   ]
  },
  {
   "cell_type": "code",
   "execution_count": 104,
   "metadata": {
    "colab": {
     "base_uri": "https://localhost:8080/",
     "height": 295
    },
    "executionInfo": {
     "elapsed": 492,
     "status": "ok",
     "timestamp": 1629076196924,
     "user": {
      "displayName": "Vijay Waghmare",
      "photoUrl": "",
      "userId": "02980993576388042039"
     },
     "user_tz": -600
    },
    "id": "s2-zuVL0yFZE",
    "outputId": "fad6d9d7-d781-4d82-ed7a-6fe7539e1bd2"
   },
   "outputs": [
    {
     "data": {
      "image/png": "[encoded data removed]",
      "text/plain": [
       "<Figure size 432x288 with 1 Axes>"
      ]
     },
     "metadata": {
      "needs_background": "light",
      "tags": []
     },
     "output_type": "display_data"
    }
   ],
   "source": [
    "#Plotting test data prediction\n",
    "pred_test_3 = pd.DataFrame(model_3_test,columns=['pred'])\n",
    "pred_test_3['actual'] = y_test\n",
    "\n",
    "pred_test_3.plot(xlabel='observations',ylabel='Total consumption')\n",
    "plt.title('Test data prediction')\n",
    "plt.show()"
   ]
  },
  {
   "cell_type": "markdown",
   "metadata": {
    "id": "mRaYGZklv1z9"
   },
   "source": [
    "**Model 4**"
   ]
  },
  {
   "cell_type": "code",
   "execution_count": 105,
   "metadata": {
    "colab": {
     "base_uri": "https://localhost:8080/"
    },
    "executionInfo": {
     "elapsed": 65578,
     "status": "ok",
     "timestamp": 1629076288484,
     "user": {
      "displayName": "Vijay Waghmare",
      "photoUrl": "",
      "userId": "02980993576388042039"
     },
     "user_tz": -600
    },
    "id": "E4AtRKdliQnh",
    "outputId": "441fc3b4-888c-4f40-c1b3-397835e2b520"
   },
   "outputs": [
    {
     "name": "stdout",
     "output_type": "stream",
     "text": [
      "Epoch 1/150\n",
      "164/164 [==============================] - 1s 3ms/step - loss: 2.3257 - mae: 0.8482 - val_loss: 0.5489 - val_mae: 0.5433\n",
      "Epoch 2/150\n",
      "164/164 [==============================] - 0s 3ms/step - loss: 0.4553 - mae: 0.4922 - val_loss: 0.3958 - val_mae: 0.4485\n",
      "Epoch 3/150\n",
      "164/164 [==============================] - 0s 3ms/step - loss: 0.3059 - mae: 0.3877 - val_loss: 0.2599 - val_mae: 0.3371\n",
      "Epoch 4/150\n",
      "164/164 [==============================] - 0s 3ms/step - loss: 0.2011 - mae: 0.2941 - val_loss: 0.1881 - val_mae: 0.2625\n",
      "Epoch 5/150\n",
      "164/164 [==============================] - 0s 2ms/step - loss: 0.1443 - mae: 0.2143 - val_loss: 0.1498 - val_mae: 0.2115\n",
      "Epoch 6/150\n",
      "164/164 [==============================] - 0s 2ms/step - loss: 0.1302 - mae: 0.1931 - val_loss: 0.1487 - val_mae: 0.1717\n",
      "Epoch 7/150\n",
      "164/164 [==============================] - 0s 3ms/step - loss: 0.1259 - mae: 0.1876 - val_loss: 0.1504 - val_mae: 0.1674\n",
      "Epoch 8/150\n",
      "164/164 [==============================] - 0s 3ms/step - loss: 0.1197 - mae: 0.1753 - val_loss: 0.1369 - val_mae: 0.1684\n",
      "Epoch 9/150\n",
      "164/164 [==============================] - 0s 2ms/step - loss: 0.1189 - mae: 0.1732 - val_loss: 0.1353 - val_mae: 0.1865\n",
      "Epoch 10/150\n",
      "164/164 [==============================] - 0s 3ms/step - loss: 0.1190 - mae: 0.1745 - val_loss: 0.1416 - val_mae: 0.2223\n",
      "Epoch 11/150\n",
      "164/164 [==============================] - 0s 3ms/step - loss: 0.1175 - mae: 0.1744 - val_loss: 0.1338 - val_mae: 0.1824\n",
      "Epoch 12/150\n",
      "164/164 [==============================] - 0s 2ms/step - loss: 0.1209 - mae: 0.1792 - val_loss: 0.1402 - val_mae: 0.2148\n",
      "Epoch 13/150\n",
      "164/164 [==============================] - 0s 2ms/step - loss: 0.1209 - mae: 0.1811 - val_loss: 0.1367 - val_mae: 0.2052\n",
      "Epoch 14/150\n",
      "164/164 [==============================] - 0s 3ms/step - loss: 0.1174 - mae: 0.1727 - val_loss: 0.1378 - val_mae: 0.1574\n",
      "Epoch 15/150\n",
      "164/164 [==============================] - 0s 3ms/step - loss: 0.1227 - mae: 0.1849 - val_loss: 0.1339 - val_mae: 0.1838\n",
      "Epoch 16/150\n",
      "164/164 [==============================] - 0s 2ms/step - loss: 0.1179 - mae: 0.1734 - val_loss: 0.1627 - val_mae: 0.2044\n",
      "Epoch 17/150\n",
      "164/164 [==============================] - 0s 3ms/step - loss: 0.1212 - mae: 0.1792 - val_loss: 0.1346 - val_mae: 0.1916\n",
      "Epoch 18/150\n",
      "164/164 [==============================] - 0s 2ms/step - loss: 0.1213 - mae: 0.1812 - val_loss: 0.1444 - val_mae: 0.2350\n",
      "Epoch 19/150\n",
      "164/164 [==============================] - 0s 3ms/step - loss: 0.1210 - mae: 0.1817 - val_loss: 0.1399 - val_mae: 0.1560\n",
      "Epoch 20/150\n",
      "164/164 [==============================] - 0s 3ms/step - loss: 0.1202 - mae: 0.1786 - val_loss: 0.1536 - val_mae: 0.1889\n",
      "Epoch 21/150\n",
      "164/164 [==============================] - 0s 2ms/step - loss: 0.1194 - mae: 0.1787 - val_loss: 0.1318 - val_mae: 0.1642\n",
      "Epoch 22/150\n",
      "164/164 [==============================] - 0s 2ms/step - loss: 0.1356 - mae: 0.2093 - val_loss: 0.1608 - val_mae: 0.1982\n",
      "Epoch 23/150\n",
      "164/164 [==============================] - 0s 3ms/step - loss: 0.1229 - mae: 0.1844 - val_loss: 0.1868 - val_mae: 0.3234\n",
      "Epoch 24/150\n",
      "164/164 [==============================] - 0s 3ms/step - loss: 0.1245 - mae: 0.1871 - val_loss: 0.1408 - val_mae: 0.2217\n",
      "Epoch 25/150\n",
      "164/164 [==============================] - 0s 3ms/step - loss: 0.1256 - mae: 0.1896 - val_loss: 0.1356 - val_mae: 0.1569\n",
      "Epoch 26/150\n",
      "164/164 [==============================] - 0s 2ms/step - loss: 0.1279 - mae: 0.1956 - val_loss: 0.1349 - val_mae: 0.1547\n",
      "Epoch 27/150\n",
      "164/164 [==============================] - 0s 2ms/step - loss: 0.1248 - mae: 0.1896 - val_loss: 0.1582 - val_mae: 0.1953\n",
      "Epoch 28/150\n",
      "164/164 [==============================] - 0s 2ms/step - loss: 0.1274 - mae: 0.1956 - val_loss: 0.1312 - val_mae: 0.1698\n",
      "Epoch 29/150\n",
      "164/164 [==============================] - 0s 3ms/step - loss: 0.1270 - mae: 0.1946 - val_loss: 0.2933 - val_mae: 0.4602\n",
      "Epoch 30/150\n",
      "164/164 [==============================] - 0s 2ms/step - loss: 0.1242 - mae: 0.1866 - val_loss: 0.1316 - val_mae: 0.1604\n",
      "Epoch 31/150\n",
      "164/164 [==============================] - 0s 3ms/step - loss: 0.1228 - mae: 0.1842 - val_loss: 0.1407 - val_mae: 0.2237\n",
      "Epoch 32/150\n",
      "164/164 [==============================] - 0s 3ms/step - loss: 0.1253 - mae: 0.1925 - val_loss: 0.2840 - val_mae: 0.3818\n",
      "Epoch 33/150\n",
      "164/164 [==============================] - 0s 2ms/step - loss: 0.1220 - mae: 0.1835 - val_loss: 0.1342 - val_mae: 0.2010\n",
      "Epoch 34/150\n",
      "164/164 [==============================] - 0s 3ms/step - loss: 0.1179 - mae: 0.1764 - val_loss: 0.1449 - val_mae: 0.1691\n",
      "Epoch 35/150\n",
      "164/164 [==============================] - 0s 2ms/step - loss: 0.1208 - mae: 0.1802 - val_loss: 0.2163 - val_mae: 0.2975\n",
      "Epoch 36/150\n",
      "164/164 [==============================] - 0s 3ms/step - loss: 0.1215 - mae: 0.1828 - val_loss: 0.1442 - val_mae: 0.2368\n",
      "Epoch 37/150\n",
      "164/164 [==============================] - 0s 3ms/step - loss: 0.1213 - mae: 0.1849 - val_loss: 0.1304 - val_mae: 0.1729\n",
      "Epoch 38/150\n",
      "164/164 [==============================] - 0s 3ms/step - loss: 0.1319 - mae: 0.2032 - val_loss: 0.2048 - val_mae: 0.2769\n",
      "Epoch 39/150\n",
      "164/164 [==============================] - 0s 2ms/step - loss: 0.1175 - mae: 0.1749 - val_loss: 0.1307 - val_mae: 0.1627\n",
      "Epoch 40/150\n",
      "164/164 [==============================] - 0s 2ms/step - loss: 0.1213 - mae: 0.1852 - val_loss: 0.1751 - val_mae: 0.3006\n",
      "Epoch 41/150\n",
      "164/164 [==============================] - 0s 2ms/step - loss: 0.1210 - mae: 0.1819 - val_loss: 0.2121 - val_mae: 0.3639\n",
      "Epoch 42/150\n",
      "164/164 [==============================] - 0s 3ms/step - loss: 0.1241 - mae: 0.1894 - val_loss: 0.2188 - val_mae: 0.2972\n",
      "Epoch 43/150\n",
      "164/164 [==============================] - 0s 3ms/step - loss: 0.1267 - mae: 0.1903 - val_loss: 0.2184 - val_mae: 0.2994\n",
      "Epoch 44/150\n",
      "164/164 [==============================] - 0s 3ms/step - loss: 0.1223 - mae: 0.1894 - val_loss: 0.1485 - val_mae: 0.1786\n",
      "Epoch 45/150\n",
      "164/164 [==============================] - 0s 2ms/step - loss: 0.1202 - mae: 0.1826 - val_loss: 0.1793 - val_mae: 0.2393\n",
      "Epoch 46/150\n",
      "164/164 [==============================] - 0s 3ms/step - loss: 0.1275 - mae: 0.1972 - val_loss: 0.1304 - val_mae: 0.1679\n",
      "Epoch 47/150\n",
      "164/164 [==============================] - 0s 3ms/step - loss: 0.1232 - mae: 0.1891 - val_loss: 0.1309 - val_mae: 0.1834\n",
      "Epoch 48/150\n",
      "164/164 [==============================] - 0s 3ms/step - loss: 0.1205 - mae: 0.1806 - val_loss: 0.1622 - val_mae: 0.2105\n",
      "Epoch 49/150\n",
      "164/164 [==============================] - 0s 2ms/step - loss: 0.1182 - mae: 0.1768 - val_loss: 0.1321 - val_mae: 0.1906\n",
      "Epoch 50/150\n",
      "164/164 [==============================] - 0s 2ms/step - loss: 0.1173 - mae: 0.1775 - val_loss: 0.1365 - val_mae: 0.2145\n",
      "Epoch 51/150\n",
      "164/164 [==============================] - 0s 3ms/step - loss: 0.1203 - mae: 0.1820 - val_loss: 0.1300 - val_mae: 0.1800\n",
      "Epoch 52/150\n",
      "164/164 [==============================] - 0s 2ms/step - loss: 0.1163 - mae: 0.1741 - val_loss: 0.1307 - val_mae: 0.1593\n",
      "Epoch 53/150\n",
      "164/164 [==============================] - 0s 2ms/step - loss: 0.1189 - mae: 0.1781 - val_loss: 0.1353 - val_mae: 0.2088\n",
      "Epoch 54/150\n",
      "164/164 [==============================] - 0s 3ms/step - loss: 0.1187 - mae: 0.1758 - val_loss: 0.1467 - val_mae: 0.2459\n",
      "Epoch 55/150\n",
      "164/164 [==============================] - 0s 2ms/step - loss: 0.1192 - mae: 0.1811 - val_loss: 0.1649 - val_mae: 0.2122\n",
      "Epoch 56/150\n",
      "164/164 [==============================] - 0s 3ms/step - loss: 0.1190 - mae: 0.1794 - val_loss: 0.1415 - val_mae: 0.1664\n",
      "Epoch 57/150\n",
      "164/164 [==============================] - 0s 3ms/step - loss: 0.1153 - mae: 0.1712 - val_loss: 0.1398 - val_mae: 0.2261\n",
      "Epoch 58/150\n",
      "164/164 [==============================] - 1s 3ms/step - loss: 0.1215 - mae: 0.1872 - val_loss: 0.1430 - val_mae: 0.1633\n",
      "Epoch 59/150\n",
      "164/164 [==============================] - 0s 3ms/step - loss: 0.1161 - mae: 0.1731 - val_loss: 0.1347 - val_mae: 0.1527\n",
      "Epoch 60/150\n",
      "164/164 [==============================] - 0s 3ms/step - loss: 0.1130 - mae: 0.1657 - val_loss: 0.1302 - val_mae: 0.1848\n",
      "Epoch 61/150\n",
      "164/164 [==============================] - 0s 3ms/step - loss: 0.1185 - mae: 0.1808 - val_loss: 0.1336 - val_mae: 0.1523\n",
      "Epoch 62/150\n",
      "164/164 [==============================] - 0s 3ms/step - loss: 0.1191 - mae: 0.1792 - val_loss: 0.1539 - val_mae: 0.2645\n",
      "Epoch 63/150\n",
      "164/164 [==============================] - 0s 2ms/step - loss: 0.1145 - mae: 0.1703 - val_loss: 0.1322 - val_mae: 0.1568\n",
      "Epoch 64/150\n",
      "164/164 [==============================] - 0s 2ms/step - loss: 0.1134 - mae: 0.1680 - val_loss: 0.1348 - val_mae: 0.1545\n",
      "Epoch 65/150\n",
      "164/164 [==============================] - 0s 3ms/step - loss: 0.1155 - mae: 0.1725 - val_loss: 0.1352 - val_mae: 0.2096\n",
      "Epoch 66/150\n",
      "164/164 [==============================] - 0s 3ms/step - loss: 0.1199 - mae: 0.1804 - val_loss: 0.1422 - val_mae: 0.2308\n",
      "Epoch 67/150\n",
      "164/164 [==============================] - 0s 3ms/step - loss: 0.1135 - mae: 0.1682 - val_loss: 0.1416 - val_mae: 0.2324\n",
      "Epoch 68/150\n",
      "164/164 [==============================] - 0s 2ms/step - loss: 0.1210 - mae: 0.1849 - val_loss: 0.1383 - val_mae: 0.2216\n",
      "Epoch 69/150\n",
      "164/164 [==============================] - 0s 3ms/step - loss: 0.1224 - mae: 0.1880 - val_loss: 0.1446 - val_mae: 0.2379\n",
      "Epoch 70/150\n",
      "164/164 [==============================] - 0s 3ms/step - loss: 0.1241 - mae: 0.1862 - val_loss: 0.1468 - val_mae: 0.2476\n",
      "Epoch 71/150\n",
      "164/164 [==============================] - 0s 3ms/step - loss: 0.1119 - mae: 0.1628 - val_loss: 0.1285 - val_mae: 0.1641\n",
      "Epoch 72/150\n",
      "164/164 [==============================] - 0s 2ms/step - loss: 0.1139 - mae: 0.1693 - val_loss: 0.1353 - val_mae: 0.2118\n",
      "Epoch 73/150\n",
      "164/164 [==============================] - 0s 2ms/step - loss: 0.1140 - mae: 0.1716 - val_loss: 0.1490 - val_mae: 0.1796\n",
      "Epoch 74/150\n",
      "164/164 [==============================] - 0s 2ms/step - loss: 0.1199 - mae: 0.1796 - val_loss: 0.1458 - val_mae: 0.2462\n",
      "Epoch 75/150\n",
      "164/164 [==============================] - 0s 2ms/step - loss: 0.1136 - mae: 0.1663 - val_loss: 0.1361 - val_mae: 0.2154\n",
      "Epoch 76/150\n",
      "164/164 [==============================] - 0s 3ms/step - loss: 0.1178 - mae: 0.1757 - val_loss: 0.1287 - val_mae: 0.1629\n",
      "Epoch 77/150\n",
      "164/164 [==============================] - 0s 3ms/step - loss: 0.1142 - mae: 0.1714 - val_loss: 0.1291 - val_mae: 0.1835\n",
      "Epoch 78/150\n",
      "164/164 [==============================] - 0s 2ms/step - loss: 0.1125 - mae: 0.1666 - val_loss: 0.1285 - val_mae: 0.1601\n",
      "Epoch 79/150\n",
      "164/164 [==============================] - 0s 3ms/step - loss: 0.1152 - mae: 0.1715 - val_loss: 0.1285 - val_mae: 0.1596\n",
      "Epoch 80/150\n",
      "164/164 [==============================] - 0s 3ms/step - loss: 0.1134 - mae: 0.1700 - val_loss: 0.1311 - val_mae: 0.1527\n",
      "Epoch 81/150\n",
      "164/164 [==============================] - 0s 2ms/step - loss: 0.1157 - mae: 0.1740 - val_loss: 0.1299 - val_mae: 0.1890\n",
      "Epoch 82/150\n",
      "164/164 [==============================] - 0s 2ms/step - loss: 0.1154 - mae: 0.1724 - val_loss: 0.1435 - val_mae: 0.2397\n",
      "Epoch 83/150\n",
      "164/164 [==============================] - 0s 2ms/step - loss: 0.1122 - mae: 0.1664 - val_loss: 0.1301 - val_mae: 0.1558\n",
      "Epoch 84/150\n",
      "164/164 [==============================] - 0s 2ms/step - loss: 0.1160 - mae: 0.1746 - val_loss: 0.1359 - val_mae: 0.1549\n",
      "Epoch 85/150\n",
      "164/164 [==============================] - 0s 2ms/step - loss: 0.1129 - mae: 0.1665 - val_loss: 0.1329 - val_mae: 0.1570\n",
      "Epoch 86/150\n",
      "164/164 [==============================] - 0s 2ms/step - loss: 0.1187 - mae: 0.1803 - val_loss: 0.1382 - val_mae: 0.2234\n",
      "Epoch 87/150\n",
      "164/164 [==============================] - 0s 3ms/step - loss: 0.1129 - mae: 0.1671 - val_loss: 0.1301 - val_mae: 0.1838\n",
      "Epoch 88/150\n",
      "164/164 [==============================] - 0s 2ms/step - loss: 0.1144 - mae: 0.1740 - val_loss: 0.1328 - val_mae: 0.2050\n",
      "Epoch 89/150\n",
      "164/164 [==============================] - 0s 3ms/step - loss: 0.1167 - mae: 0.1746 - val_loss: 0.1444 - val_mae: 0.2436\n",
      "Epoch 90/150\n",
      "164/164 [==============================] - 0s 3ms/step - loss: 0.1163 - mae: 0.1758 - val_loss: 0.1334 - val_mae: 0.1524\n",
      "Epoch 91/150\n",
      "164/164 [==============================] - 0s 3ms/step - loss: 0.1117 - mae: 0.1640 - val_loss: 0.1682 - val_mae: 0.2955\n",
      "Epoch 92/150\n",
      "164/164 [==============================] - 0s 3ms/step - loss: 0.1234 - mae: 0.1915 - val_loss: 0.1343 - val_mae: 0.2104\n",
      "Epoch 93/150\n",
      "164/164 [==============================] - 0s 2ms/step - loss: 0.1104 - mae: 0.1611 - val_loss: 0.1284 - val_mae: 0.1643\n",
      "Epoch 94/150\n",
      "164/164 [==============================] - 0s 2ms/step - loss: 0.1127 - mae: 0.1672 - val_loss: 0.1306 - val_mae: 0.1915\n",
      "Epoch 95/150\n",
      "164/164 [==============================] - 0s 3ms/step - loss: 0.1126 - mae: 0.1685 - val_loss: 0.1280 - val_mae: 0.1592\n",
      "Epoch 96/150\n",
      "164/164 [==============================] - 0s 2ms/step - loss: 0.1149 - mae: 0.1736 - val_loss: 0.1274 - val_mae: 0.1673\n",
      "Epoch 97/150\n",
      "164/164 [==============================] - 0s 2ms/step - loss: 0.1130 - mae: 0.1678 - val_loss: 0.1306 - val_mae: 0.1513\n",
      "Epoch 98/150\n",
      "164/164 [==============================] - 0s 3ms/step - loss: 0.1118 - mae: 0.1653 - val_loss: 0.1281 - val_mae: 0.1576\n",
      "Epoch 99/150\n",
      "164/164 [==============================] - 0s 2ms/step - loss: 0.1137 - mae: 0.1710 - val_loss: 0.1302 - val_mae: 0.1546\n",
      "Epoch 100/150\n",
      "164/164 [==============================] - 0s 3ms/step - loss: 0.1108 - mae: 0.1635 - val_loss: 0.1363 - val_mae: 0.1584\n",
      "Epoch 101/150\n",
      "164/164 [==============================] - 0s 2ms/step - loss: 0.1136 - mae: 0.1693 - val_loss: 0.1271 - val_mae: 0.1699\n",
      "Epoch 102/150\n",
      "164/164 [==============================] - 0s 3ms/step - loss: 0.1102 - mae: 0.1612 - val_loss: 0.1286 - val_mae: 0.1565\n",
      "Epoch 103/150\n",
      "164/164 [==============================] - 0s 3ms/step - loss: 0.1099 - mae: 0.1609 - val_loss: 0.1369 - val_mae: 0.2206\n",
      "Epoch 104/150\n",
      "164/164 [==============================] - 0s 3ms/step - loss: 0.1124 - mae: 0.1689 - val_loss: 0.1274 - val_mae: 0.1615\n",
      "Epoch 105/150\n",
      "164/164 [==============================] - 0s 3ms/step - loss: 0.1104 - mae: 0.1633 - val_loss: 0.1301 - val_mae: 0.1939\n",
      "Epoch 106/150\n",
      "164/164 [==============================] - 0s 3ms/step - loss: 0.1129 - mae: 0.1695 - val_loss: 0.1277 - val_mae: 0.1765\n",
      "Epoch 107/150\n",
      "164/164 [==============================] - 0s 2ms/step - loss: 0.1158 - mae: 0.1755 - val_loss: 0.1339 - val_mae: 0.1581\n",
      "Epoch 108/150\n",
      "164/164 [==============================] - 0s 3ms/step - loss: 0.1103 - mae: 0.1620 - val_loss: 0.1285 - val_mae: 0.1551\n",
      "Epoch 109/150\n",
      "164/164 [==============================] - 0s 3ms/step - loss: 0.1130 - mae: 0.1695 - val_loss: 0.1454 - val_mae: 0.1799\n",
      "Epoch 110/150\n",
      "164/164 [==============================] - 0s 2ms/step - loss: 0.1116 - mae: 0.1671 - val_loss: 0.1305 - val_mae: 0.1523\n",
      "Epoch 111/150\n",
      "164/164 [==============================] - 0s 3ms/step - loss: 0.1141 - mae: 0.1730 - val_loss: 0.1278 - val_mae: 0.1589\n",
      "Epoch 112/150\n",
      "164/164 [==============================] - 0s 2ms/step - loss: 0.1116 - mae: 0.1658 - val_loss: 0.1267 - val_mae: 0.1652\n",
      "Epoch 113/150\n",
      "164/164 [==============================] - 0s 3ms/step - loss: 0.1118 - mae: 0.1662 - val_loss: 0.1470 - val_mae: 0.1842\n",
      "Epoch 114/150\n",
      "164/164 [==============================] - 0s 3ms/step - loss: 0.1113 - mae: 0.1662 - val_loss: 0.1272 - val_mae: 0.1727\n",
      "Epoch 115/150\n",
      "164/164 [==============================] - 0s 3ms/step - loss: 0.1099 - mae: 0.1627 - val_loss: 0.1367 - val_mae: 0.2199\n",
      "Epoch 116/150\n",
      "164/164 [==============================] - 0s 3ms/step - loss: 0.1131 - mae: 0.1715 - val_loss: 0.1263 - val_mae: 0.1684\n",
      "Epoch 117/150\n",
      "164/164 [==============================] - 0s 2ms/step - loss: 0.1108 - mae: 0.1676 - val_loss: 0.1463 - val_mae: 0.1733\n",
      "Epoch 118/150\n",
      "164/164 [==============================] - 0s 2ms/step - loss: 0.1114 - mae: 0.1645 - val_loss: 0.1289 - val_mae: 0.1543\n",
      "Epoch 119/150\n",
      "164/164 [==============================] - 0s 2ms/step - loss: 0.1127 - mae: 0.1710 - val_loss: 0.1267 - val_mae: 0.1639\n",
      "Epoch 120/150\n",
      "164/164 [==============================] - 0s 3ms/step - loss: 0.1100 - mae: 0.1626 - val_loss: 0.1591 - val_mae: 0.2761\n",
      "Epoch 121/150\n",
      "164/164 [==============================] - 0s 2ms/step - loss: 0.1097 - mae: 0.1648 - val_loss: 0.1270 - val_mae: 0.1629\n",
      "Epoch 122/150\n",
      "164/164 [==============================] - 0s 2ms/step - loss: 0.1088 - mae: 0.1608 - val_loss: 0.1643 - val_mae: 0.2177\n",
      "Epoch 123/150\n",
      "164/164 [==============================] - 0s 3ms/step - loss: 0.1148 - mae: 0.1739 - val_loss: 0.1269 - val_mae: 0.1780\n",
      "Epoch 124/150\n",
      "164/164 [==============================] - 0s 3ms/step - loss: 0.1118 - mae: 0.1662 - val_loss: 0.1308 - val_mae: 0.2009\n",
      "Epoch 125/150\n",
      "164/164 [==============================] - 0s 2ms/step - loss: 0.1108 - mae: 0.1651 - val_loss: 0.1315 - val_mae: 0.1558\n",
      "Epoch 126/150\n",
      "164/164 [==============================] - 0s 3ms/step - loss: 0.1090 - mae: 0.1621 - val_loss: 0.1293 - val_mae: 0.1530\n",
      "Epoch 127/150\n",
      "164/164 [==============================] - 0s 2ms/step - loss: 0.1080 - mae: 0.1615 - val_loss: 0.1272 - val_mae: 0.1784\n",
      "Epoch 128/150\n",
      "164/164 [==============================] - 0s 3ms/step - loss: 0.1090 - mae: 0.1596 - val_loss: 0.1265 - val_mae: 0.1791\n",
      "Epoch 129/150\n",
      "164/164 [==============================] - 0s 3ms/step - loss: 0.1083 - mae: 0.1593 - val_loss: 0.1279 - val_mae: 0.1537\n",
      "Epoch 130/150\n",
      "164/164 [==============================] - 0s 2ms/step - loss: 0.1081 - mae: 0.1592 - val_loss: 0.1311 - val_mae: 0.1581\n",
      "Epoch 131/150\n",
      "164/164 [==============================] - 0s 2ms/step - loss: 0.1081 - mae: 0.1600 - val_loss: 0.1311 - val_mae: 0.1592\n",
      "Epoch 132/150\n",
      "164/164 [==============================] - 0s 3ms/step - loss: 0.1107 - mae: 0.1673 - val_loss: 0.1938 - val_mae: 0.2654\n",
      "Epoch 133/150\n",
      "164/164 [==============================] - 0s 3ms/step - loss: 0.1091 - mae: 0.1629 - val_loss: 0.1265 - val_mae: 0.1561\n",
      "Epoch 134/150\n",
      "164/164 [==============================] - 0s 3ms/step - loss: 0.1091 - mae: 0.1621 - val_loss: 0.1254 - val_mae: 0.1646\n",
      "Epoch 135/150\n",
      "164/164 [==============================] - 0s 3ms/step - loss: 0.1086 - mae: 0.1609 - val_loss: 0.1255 - val_mae: 0.1584\n",
      "Epoch 136/150\n",
      "164/164 [==============================] - 0s 3ms/step - loss: 0.1099 - mae: 0.1651 - val_loss: 0.1341 - val_mae: 0.1568\n",
      "Epoch 137/150\n",
      "164/164 [==============================] - 0s 3ms/step - loss: 0.1106 - mae: 0.1666 - val_loss: 0.1282 - val_mae: 0.1886\n",
      "Epoch 138/150\n",
      "164/164 [==============================] - 0s 3ms/step - loss: 0.1074 - mae: 0.1593 - val_loss: 0.1302 - val_mae: 0.1603\n",
      "Epoch 139/150\n",
      "164/164 [==============================] - 0s 3ms/step - loss: 0.1102 - mae: 0.1656 - val_loss: 0.1273 - val_mae: 0.1537\n",
      "Epoch 140/150\n",
      "164/164 [==============================] - 0s 3ms/step - loss: 0.1109 - mae: 0.1689 - val_loss: 0.1264 - val_mae: 0.1800\n",
      "Epoch 141/150\n",
      "164/164 [==============================] - 0s 2ms/step - loss: 0.1073 - mae: 0.1595 - val_loss: 0.1279 - val_mae: 0.1872\n",
      "Epoch 142/150\n",
      "164/164 [==============================] - 0s 2ms/step - loss: 0.1072 - mae: 0.1587 - val_loss: 0.1308 - val_mae: 0.1535\n",
      "Epoch 143/150\n",
      "164/164 [==============================] - 0s 2ms/step - loss: 0.1108 - mae: 0.1671 - val_loss: 0.1257 - val_mae: 0.1727\n",
      "Epoch 144/150\n",
      "164/164 [==============================] - 0s 2ms/step - loss: 0.1097 - mae: 0.1658 - val_loss: 0.1301 - val_mae: 0.1524\n",
      "Epoch 145/150\n",
      "164/164 [==============================] - 0s 3ms/step - loss: 0.1105 - mae: 0.1644 - val_loss: 0.1250 - val_mae: 0.1644\n",
      "Epoch 146/150\n",
      "164/164 [==============================] - 0s 3ms/step - loss: 0.1088 - mae: 0.1640 - val_loss: 0.1271 - val_mae: 0.1861\n",
      "Epoch 147/150\n",
      "164/164 [==============================] - 0s 2ms/step - loss: 0.1073 - mae: 0.1588 - val_loss: 0.1267 - val_mae: 0.1809\n",
      "Epoch 148/150\n",
      "164/164 [==============================] - 0s 3ms/step - loss: 0.1085 - mae: 0.1616 - val_loss: 0.1266 - val_mae: 0.1538\n",
      "Epoch 149/150\n",
      "164/164 [==============================] - 0s 2ms/step - loss: 0.1086 - mae: 0.1626 - val_loss: 0.1263 - val_mae: 0.1631\n",
      "Epoch 150/150\n",
      "164/164 [==============================] - 0s 2ms/step - loss: 0.1094 - mae: 0.1634 - val_loss: 0.1263 - val_mae: 0.1815\n"
     ]
    }
   ],
   "source": [
    "#Fitting NN model\n",
    "history_4 = model_4.fit(X_train,y_train,epochs=150, validation_split = 0.30,\n",
    "                        batch_size=90,shuffle=True,verbose=True)"
   ]
  },
  {
   "cell_type": "code",
   "execution_count": 106,
   "metadata": {
    "colab": {
     "base_uri": "https://localhost:8080/",
     "height": 350
    },
    "executionInfo": {
     "elapsed": 774,
     "status": "ok",
     "timestamp": 1629076289248,
     "user": {
      "displayName": "Vijay Waghmare",
      "photoUrl": "",
      "userId": "02980993576388042039"
     },
     "user_tz": -600
    },
    "id": "HYR_pRd5iQnh",
    "outputId": "5b4bfc58-c4bd-4578-f9c1-923594851521"
   },
   "outputs": [
    {
     "data": {
      "image/png": "[encoded data removed]",
      "text/plain": [
       "<Figure size 720x360 with 1 Axes>"
      ]
     },
     "metadata": {
      "needs_background": "light",
      "tags": []
     },
     "output_type": "display_data"
    }
   ],
   "source": [
    "#Evaluating model over training and validation dataset\n",
    "loss_4 = history_4.history['mae']\n",
    "val_loss_4 = history_4.history['val_mae']\n",
    "\n",
    "#Plotting training and validation loss with number of epochs\n",
    "plt.figure(figsize=(10, 5))\n",
    "epochs_4 = range(1, len(loss_4) + 1)\n",
    "plt.plot(epochs_4, loss_4, 'bo', label='Training loss')\n",
    "plt.plot(epochs_4, val_loss_4, 'b', label='Validation loss', color = 'red')\n",
    "plt.title('Training and validation loss')\n",
    "plt.xlabel('Epochs')\n",
    "plt.ylabel('Loss')\n",
    "plt.legend()\n",
    "plt.show()"
   ]
  },
  {
   "cell_type": "code",
   "execution_count": 107,
   "metadata": {
    "executionInfo": {
     "elapsed": 734,
     "status": "ok",
     "timestamp": 1629076289974,
     "user": {
      "displayName": "Vijay Waghmare",
      "photoUrl": "",
      "userId": "02980993576388042039"
     },
     "user_tz": -600
    },
    "id": "pBdCCdStiQnh"
   },
   "outputs": [],
   "source": [
    "#Training and test data prediction\n",
    "model_4_train = model_4.predict(X_train)\n",
    "model_4_test = model_4.predict(X_test)"
   ]
  },
  {
   "cell_type": "code",
   "execution_count": 108,
   "metadata": {
    "colab": {
     "base_uri": "https://localhost:8080/"
    },
    "executionInfo": {
     "elapsed": 16,
     "status": "ok",
     "timestamp": 1629076289975,
     "user": {
      "displayName": "Vijay Waghmare",
      "photoUrl": "",
      "userId": "02980993576388042039"
     },
     "user_tz": -600
    },
    "id": "DT4JA7zkDw90",
    "outputId": "97d80ef1-346f-45aa-c877-3f44311b5490"
   },
   "outputs": [
    {
     "name": "stdout",
     "output_type": "stream",
     "text": [
      "Train MAE:0.174\n",
      "Test MAE:0.173\n",
      "\n"
     ]
    }
   ],
   "source": [
    "#Train and test MAE\n",
    "train_mae_4 = round(mean_absolute_error(y_train,model_4_train),3)\n",
    "test_mae_4 = round(mean_absolute_error(y_test,model_4_test),3)\n",
    "print(\"Train MAE:{}\\nTest MAE:{}\\n\".format(train_mae_4,test_mae_4))"
   ]
  },
  {
   "cell_type": "code",
   "execution_count": 109,
   "metadata": {
    "colab": {
     "base_uri": "https://localhost:8080/",
     "height": 295
    },
    "executionInfo": {
     "elapsed": 1013,
     "status": "ok",
     "timestamp": 1629076290982,
     "user": {
      "displayName": "Vijay Waghmare",
      "photoUrl": "",
      "userId": "02980993576388042039"
     },
     "user_tz": -600
    },
    "id": "KfgMjlElEFtn",
    "outputId": "a222425b-444a-44fb-97f6-cbe3076cf802"
   },
   "outputs": [
    {
     "data": {
      "image/png": "[encoded data removed]",
      "text/plain": [
       "<Figure size 432x288 with 1 Axes>"
      ]
     },
     "metadata": {
      "needs_background": "light",
      "tags": []
     },
     "output_type": "display_data"
    }
   ],
   "source": [
    "#Plotting training prediction\n",
    "pred_train_4 = pd.DataFrame(model_4_train,columns=['pred'])\n",
    "pred_train_4['actual'] = y_train\n",
    "\n",
    "pred_train_4.plot(xlabel='observations',ylabel='Total consumption')\n",
    "plt.title('Training data prediction')\n",
    "plt.show()"
   ]
  },
  {
   "cell_type": "code",
   "execution_count": 110,
   "metadata": {
    "colab": {
     "base_uri": "https://localhost:8080/",
     "height": 295
    },
    "executionInfo": {
     "elapsed": 16,
     "status": "ok",
     "timestamp": 1629076290983,
     "user": {
      "displayName": "Vijay Waghmare",
      "photoUrl": "",
      "userId": "02980993576388042039"
     },
     "user_tz": -600
    },
    "id": "ztVxjAGADw2s",
    "outputId": "f9ce5d10-601f-4004-ddf3-3afcf898519b"
   },
   "outputs": [
    {
     "data": {
      "image/png": "[encoded data removed]",
      "text/plain": [
       "<Figure size 432x288 with 1 Axes>"
      ]
     },
     "metadata": {
      "needs_background": "light",
      "tags": []
     },
     "output_type": "display_data"
    }
   ],
   "source": [
    "#Plotting test data prediction\n",
    "pred_test_4 = pd.DataFrame(model_4_test,columns=['pred'])\n",
    "pred_test_4['actual'] = y_test\n",
    "\n",
    "pred_test_4.plot(xlabel='observations',ylabel='Total consumption')\n",
    "plt.title('Test data prediction')\n",
    "plt.show()"
   ]
  },
  {
   "cell_type": "markdown",
   "metadata": {
    "id": "PyfMtasQv6aG"
   },
   "source": [
    "**Model 5**"
   ]
  },
  {
   "cell_type": "code",
   "execution_count": 65,
   "metadata": {
    "colab": {
     "base_uri": "https://localhost:8080/"
    },
    "executionInfo": {
     "elapsed": 142859,
     "status": "ok",
     "timestamp": 1629069173696,
     "user": {
      "displayName": "Vijay Waghmare",
      "photoUrl": "",
      "userId": "02980993576388042039"
     },
     "user_tz": -600
    },
    "id": "WPw_AyOPiQni",
    "outputId": "bc6d3cbd-484e-4b4e-99c9-ee773b0a94b7"
   },
   "outputs": [
    {
     "name": "stdout",
     "output_type": "stream",
     "text": [
      "Epoch 1/150\n",
      "315/315 [==============================] - 1s 3ms/step - loss: 0.6327 - mae: 0.4770 - val_loss: 0.1898 - val_mae: 0.2036\n",
      "Epoch 2/150\n",
      "315/315 [==============================] - 1s 3ms/step - loss: 0.1474 - mae: 0.2155 - val_loss: 0.1608 - val_mae: 0.1779\n",
      "Epoch 3/150\n",
      "315/315 [==============================] - 1s 3ms/step - loss: 0.1352 - mae: 0.2019 - val_loss: 0.1692 - val_mae: 0.2826\n",
      "Epoch 4/150\n",
      "315/315 [==============================] - 1s 2ms/step - loss: 0.1324 - mae: 0.2012 - val_loss: 0.1584 - val_mae: 0.1911\n",
      "Epoch 5/150\n",
      "315/315 [==============================] - 1s 2ms/step - loss: 0.1360 - mae: 0.2066 - val_loss: 0.1386 - val_mae: 0.1943\n",
      "Epoch 6/150\n",
      "315/315 [==============================] - 1s 2ms/step - loss: 0.1317 - mae: 0.1982 - val_loss: 0.1863 - val_mae: 0.3185\n",
      "Epoch 7/150\n",
      "315/315 [==============================] - 1s 3ms/step - loss: 0.1250 - mae: 0.1865 - val_loss: 0.1477 - val_mae: 0.2342\n",
      "Epoch 8/150\n",
      "315/315 [==============================] - 1s 2ms/step - loss: 0.1208 - mae: 0.1793 - val_loss: 0.1378 - val_mae: 0.1567\n",
      "Epoch 9/150\n",
      "315/315 [==============================] - 1s 3ms/step - loss: 0.1275 - mae: 0.1940 - val_loss: 0.1576 - val_mae: 0.1836\n",
      "Epoch 10/150\n",
      "315/315 [==============================] - 1s 3ms/step - loss: 0.1228 - mae: 0.1826 - val_loss: 0.1503 - val_mae: 0.1691\n",
      "Epoch 11/150\n",
      "315/315 [==============================] - 1s 2ms/step - loss: 0.1322 - mae: 0.1991 - val_loss: 0.1436 - val_mae: 0.2257\n",
      "Epoch 12/150\n",
      "315/315 [==============================] - 1s 3ms/step - loss: 0.1220 - mae: 0.1821 - val_loss: 0.1406 - val_mae: 0.2127\n",
      "Epoch 13/150\n",
      "315/315 [==============================] - 1s 2ms/step - loss: 0.1225 - mae: 0.1836 - val_loss: 0.1728 - val_mae: 0.2219\n",
      "Epoch 14/150\n",
      "315/315 [==============================] - 1s 3ms/step - loss: 0.1218 - mae: 0.1843 - val_loss: 0.1467 - val_mae: 0.2364\n",
      "Epoch 15/150\n",
      "315/315 [==============================] - 1s 3ms/step - loss: 0.1209 - mae: 0.1815 - val_loss: 0.1354 - val_mae: 0.1920\n",
      "Epoch 16/150\n",
      "315/315 [==============================] - 1s 3ms/step - loss: 0.1231 - mae: 0.1866 - val_loss: 0.1334 - val_mae: 0.1730\n",
      "Epoch 17/150\n",
      "315/315 [==============================] - 1s 3ms/step - loss: 0.1193 - mae: 0.1781 - val_loss: 0.1425 - val_mae: 0.1669\n",
      "Epoch 18/150\n",
      "315/315 [==============================] - 1s 2ms/step - loss: 0.1170 - mae: 0.1744 - val_loss: 0.1526 - val_mae: 0.2565\n",
      "Epoch 19/150\n",
      "315/315 [==============================] - 1s 3ms/step - loss: 0.1180 - mae: 0.1769 - val_loss: 0.1367 - val_mae: 0.2072\n",
      "Epoch 20/150\n",
      "315/315 [==============================] - 1s 3ms/step - loss: 0.1168 - mae: 0.1750 - val_loss: 0.1352 - val_mae: 0.1940\n",
      "Epoch 21/150\n",
      "315/315 [==============================] - 1s 3ms/step - loss: 0.1170 - mae: 0.1742 - val_loss: 0.1322 - val_mae: 0.1587\n",
      "Epoch 22/150\n",
      "315/315 [==============================] - 1s 3ms/step - loss: 0.1159 - mae: 0.1723 - val_loss: 0.1419 - val_mae: 0.2277\n",
      "Epoch 23/150\n",
      "315/315 [==============================] - 1s 2ms/step - loss: 0.1170 - mae: 0.1716 - val_loss: 0.1328 - val_mae: 0.1899\n",
      "Epoch 24/150\n",
      "315/315 [==============================] - 1s 2ms/step - loss: 0.1157 - mae: 0.1702 - val_loss: 0.1388 - val_mae: 0.1554\n",
      "Epoch 25/150\n",
      "315/315 [==============================] - 1s 3ms/step - loss: 0.1157 - mae: 0.1717 - val_loss: 0.1341 - val_mae: 0.1720\n",
      "Epoch 26/150\n",
      "315/315 [==============================] - 1s 3ms/step - loss: 0.1149 - mae: 0.1713 - val_loss: 0.1306 - val_mae: 0.1636\n",
      "Epoch 27/150\n",
      "315/315 [==============================] - 1s 2ms/step - loss: 0.1147 - mae: 0.1701 - val_loss: 0.1321 - val_mae: 0.1576\n",
      "Epoch 28/150\n",
      "315/315 [==============================] - 1s 2ms/step - loss: 0.1155 - mae: 0.1708 - val_loss: 0.1371 - val_mae: 0.1517\n",
      "Epoch 29/150\n",
      "315/315 [==============================] - 1s 2ms/step - loss: 0.1169 - mae: 0.1743 - val_loss: 0.1315 - val_mae: 0.1850\n",
      "Epoch 30/150\n",
      "315/315 [==============================] - 1s 3ms/step - loss: 0.1134 - mae: 0.1694 - val_loss: 0.1453 - val_mae: 0.1646\n",
      "Epoch 31/150\n",
      "315/315 [==============================] - 1s 3ms/step - loss: 0.1127 - mae: 0.1653 - val_loss: 0.1346 - val_mae: 0.1537\n",
      "Epoch 32/150\n",
      "315/315 [==============================] - 1s 2ms/step - loss: 0.1128 - mae: 0.1647 - val_loss: 0.1312 - val_mae: 0.1572\n",
      "Epoch 33/150\n",
      "315/315 [==============================] - 1s 3ms/step - loss: 0.1155 - mae: 0.1719 - val_loss: 0.1310 - val_mae: 0.1765\n",
      "Epoch 34/150\n",
      "315/315 [==============================] - 1s 2ms/step - loss: 0.1124 - mae: 0.1665 - val_loss: 0.1495 - val_mae: 0.2400\n",
      "Epoch 35/150\n",
      "315/315 [==============================] - 1s 3ms/step - loss: 0.1131 - mae: 0.1662 - val_loss: 0.1305 - val_mae: 0.1809\n",
      "Epoch 36/150\n",
      "315/315 [==============================] - 1s 3ms/step - loss: 0.1107 - mae: 0.1630 - val_loss: 0.1319 - val_mae: 0.1924\n",
      "Epoch 37/150\n",
      "315/315 [==============================] - 1s 3ms/step - loss: 0.1110 - mae: 0.1631 - val_loss: 0.1329 - val_mae: 0.1764\n",
      "Epoch 38/150\n",
      "315/315 [==============================] - 1s 3ms/step - loss: 0.1117 - mae: 0.1642 - val_loss: 0.1303 - val_mae: 0.1586\n",
      "Epoch 39/150\n",
      "315/315 [==============================] - 1s 2ms/step - loss: 0.1108 - mae: 0.1629 - val_loss: 0.1298 - val_mae: 0.1682\n",
      "Epoch 40/150\n",
      "315/315 [==============================] - 1s 3ms/step - loss: 0.1105 - mae: 0.1630 - val_loss: 0.1456 - val_mae: 0.2411\n",
      "Epoch 41/150\n",
      "315/315 [==============================] - 1s 2ms/step - loss: 0.1110 - mae: 0.1637 - val_loss: 0.1302 - val_mae: 0.1722\n",
      "Epoch 42/150\n",
      "315/315 [==============================] - 1s 3ms/step - loss: 0.1109 - mae: 0.1632 - val_loss: 0.1304 - val_mae: 0.1694\n",
      "Epoch 43/150\n",
      "315/315 [==============================] - 1s 3ms/step - loss: 0.1125 - mae: 0.1666 - val_loss: 0.1313 - val_mae: 0.1907\n",
      "Epoch 44/150\n",
      "315/315 [==============================] - 1s 3ms/step - loss: 0.1098 - mae: 0.1613 - val_loss: 0.1321 - val_mae: 0.1535\n",
      "Epoch 45/150\n",
      "315/315 [==============================] - 1s 2ms/step - loss: 0.1108 - mae: 0.1653 - val_loss: 0.1320 - val_mae: 0.1578\n",
      "Epoch 46/150\n",
      "315/315 [==============================] - 1s 3ms/step - loss: 0.1099 - mae: 0.1605 - val_loss: 0.1305 - val_mae: 0.1558\n",
      "Epoch 47/150\n",
      "315/315 [==============================] - 1s 3ms/step - loss: 0.1112 - mae: 0.1655 - val_loss: 0.1333 - val_mae: 0.1549\n",
      "Epoch 48/150\n",
      "315/315 [==============================] - 1s 3ms/step - loss: 0.1095 - mae: 0.1615 - val_loss: 0.1307 - val_mae: 0.1840\n",
      "Epoch 49/150\n",
      "315/315 [==============================] - 1s 3ms/step - loss: 0.1097 - mae: 0.1609 - val_loss: 0.1422 - val_mae: 0.1632\n",
      "Epoch 50/150\n",
      "315/315 [==============================] - 1s 3ms/step - loss: 0.1096 - mae: 0.1626 - val_loss: 0.1306 - val_mae: 0.1876\n",
      "Epoch 51/150\n",
      "315/315 [==============================] - 1s 3ms/step - loss: 0.1095 - mae: 0.1606 - val_loss: 0.1341 - val_mae: 0.1528\n",
      "Epoch 52/150\n",
      "315/315 [==============================] - 1s 3ms/step - loss: 0.1107 - mae: 0.1632 - val_loss: 0.1298 - val_mae: 0.1637\n",
      "Epoch 53/150\n",
      "315/315 [==============================] - 1s 3ms/step - loss: 0.1081 - mae: 0.1590 - val_loss: 0.1291 - val_mae: 0.1722\n",
      "Epoch 54/150\n",
      "315/315 [==============================] - 1s 3ms/step - loss: 0.1091 - mae: 0.1603 - val_loss: 0.1292 - val_mae: 0.1804\n",
      "Epoch 55/150\n",
      "315/315 [==============================] - 1s 2ms/step - loss: 0.1104 - mae: 0.1655 - val_loss: 0.1309 - val_mae: 0.1701\n",
      "Epoch 56/150\n",
      "315/315 [==============================] - 1s 3ms/step - loss: 0.1089 - mae: 0.1603 - val_loss: 0.1370 - val_mae: 0.1576\n",
      "Epoch 57/150\n",
      "315/315 [==============================] - 1s 3ms/step - loss: 0.1074 - mae: 0.1568 - val_loss: 0.1297 - val_mae: 0.1607\n",
      "Epoch 58/150\n",
      "315/315 [==============================] - 1s 3ms/step - loss: 0.1085 - mae: 0.1587 - val_loss: 0.1286 - val_mae: 0.1762\n",
      "Epoch 59/150\n",
      "315/315 [==============================] - 1s 3ms/step - loss: 0.1072 - mae: 0.1573 - val_loss: 0.1286 - val_mae: 0.1723\n",
      "Epoch 60/150\n",
      "315/315 [==============================] - 1s 3ms/step - loss: 0.1075 - mae: 0.1592 - val_loss: 0.1303 - val_mae: 0.1539\n",
      "Epoch 61/150\n",
      "315/315 [==============================] - 1s 3ms/step - loss: 0.1086 - mae: 0.1623 - val_loss: 0.1291 - val_mae: 0.1824\n",
      "Epoch 62/150\n",
      "315/315 [==============================] - 1s 3ms/step - loss: 0.1073 - mae: 0.1560 - val_loss: 0.1368 - val_mae: 0.1543\n",
      "Epoch 63/150\n",
      "315/315 [==============================] - 1s 2ms/step - loss: 0.1096 - mae: 0.1630 - val_loss: 0.1265 - val_mae: 0.1625\n",
      "Epoch 64/150\n",
      "315/315 [==============================] - 1s 2ms/step - loss: 0.1068 - mae: 0.1590 - val_loss: 0.1305 - val_mae: 0.1529\n",
      "Epoch 65/150\n",
      "315/315 [==============================] - 1s 2ms/step - loss: 0.1079 - mae: 0.1608 - val_loss: 0.1303 - val_mae: 0.1559\n",
      "Epoch 66/150\n",
      "315/315 [==============================] - 1s 3ms/step - loss: 0.1065 - mae: 0.1576 - val_loss: 0.1384 - val_mae: 0.2253\n",
      "Epoch 67/150\n",
      "315/315 [==============================] - 1s 2ms/step - loss: 0.1073 - mae: 0.1606 - val_loss: 0.1326 - val_mae: 0.1532\n",
      "Epoch 68/150\n",
      "315/315 [==============================] - 1s 3ms/step - loss: 0.1058 - mae: 0.1564 - val_loss: 0.1256 - val_mae: 0.1681\n",
      "Epoch 69/150\n",
      "315/315 [==============================] - 1s 3ms/step - loss: 0.1061 - mae: 0.1570 - val_loss: 0.1250 - val_mae: 0.1771\n",
      "Epoch 70/150\n",
      "315/315 [==============================] - 1s 3ms/step - loss: 0.1047 - mae: 0.1556 - val_loss: 0.1273 - val_mae: 0.1902\n",
      "Epoch 71/150\n",
      "315/315 [==============================] - 1s 2ms/step - loss: 0.1030 - mae: 0.1532 - val_loss: 0.1305 - val_mae: 0.1521\n",
      "Epoch 72/150\n",
      "315/315 [==============================] - 1s 2ms/step - loss: 0.1052 - mae: 0.1579 - val_loss: 0.1288 - val_mae: 0.1496\n",
      "Epoch 73/150\n",
      "315/315 [==============================] - 1s 3ms/step - loss: 0.1047 - mae: 0.1576 - val_loss: 0.1279 - val_mae: 0.1486\n",
      "Epoch 74/150\n",
      "315/315 [==============================] - 1s 3ms/step - loss: 0.1044 - mae: 0.1571 - val_loss: 0.1231 - val_mae: 0.1679\n",
      "Epoch 75/150\n",
      "315/315 [==============================] - 1s 3ms/step - loss: 0.1020 - mae: 0.1526 - val_loss: 0.1236 - val_mae: 0.1498\n",
      "Epoch 76/150\n",
      "315/315 [==============================] - 1s 3ms/step - loss: 0.1047 - mae: 0.1575 - val_loss: 0.1228 - val_mae: 0.1737\n",
      "Epoch 77/150\n",
      "315/315 [==============================] - 1s 3ms/step - loss: 0.1023 - mae: 0.1543 - val_loss: 0.1257 - val_mae: 0.1494\n",
      "Epoch 78/150\n",
      "315/315 [==============================] - 1s 3ms/step - loss: 0.1013 - mae: 0.1518 - val_loss: 0.1215 - val_mae: 0.1692\n",
      "Epoch 79/150\n",
      "315/315 [==============================] - 1s 3ms/step - loss: 0.1031 - mae: 0.1561 - val_loss: 0.1240 - val_mae: 0.1665\n",
      "Epoch 80/150\n",
      "315/315 [==============================] - 1s 3ms/step - loss: 0.1024 - mae: 0.1566 - val_loss: 0.1214 - val_mae: 0.1501\n",
      "Epoch 81/150\n",
      "315/315 [==============================] - 1s 3ms/step - loss: 0.1015 - mae: 0.1529 - val_loss: 0.1192 - val_mae: 0.1578\n",
      "Epoch 82/150\n",
      "315/315 [==============================] - 1s 3ms/step - loss: 0.1013 - mae: 0.1534 - val_loss: 0.1258 - val_mae: 0.1501\n",
      "Epoch 83/150\n",
      "315/315 [==============================] - 1s 3ms/step - loss: 0.1023 - mae: 0.1525 - val_loss: 0.1232 - val_mae: 0.1787\n",
      "Epoch 84/150\n",
      "315/315 [==============================] - 1s 3ms/step - loss: 0.1004 - mae: 0.1548 - val_loss: 0.1308 - val_mae: 0.1518\n",
      "Epoch 85/150\n",
      "315/315 [==============================] - 1s 3ms/step - loss: 0.1004 - mae: 0.1531 - val_loss: 0.1233 - val_mae: 0.1508\n",
      "Epoch 86/150\n",
      "315/315 [==============================] - 1s 3ms/step - loss: 0.0995 - mae: 0.1507 - val_loss: 0.1206 - val_mae: 0.1656\n",
      "Epoch 87/150\n",
      "315/315 [==============================] - 1s 3ms/step - loss: 0.0994 - mae: 0.1523 - val_loss: 0.1212 - val_mae: 0.1531\n",
      "Epoch 88/150\n",
      "315/315 [==============================] - 1s 3ms/step - loss: 0.0983 - mae: 0.1493 - val_loss: 0.1254 - val_mae: 0.1969\n",
      "Epoch 89/150\n",
      "315/315 [==============================] - 1s 3ms/step - loss: 0.0982 - mae: 0.1488 - val_loss: 0.1206 - val_mae: 0.1760\n",
      "Epoch 90/150\n",
      "315/315 [==============================] - 1s 3ms/step - loss: 0.0979 - mae: 0.1485 - val_loss: 0.1192 - val_mae: 0.1465\n",
      "Epoch 91/150\n",
      "315/315 [==============================] - 1s 3ms/step - loss: 0.1000 - mae: 0.1532 - val_loss: 0.1171 - val_mae: 0.1655\n",
      "Epoch 92/150\n",
      "315/315 [==============================] - 1s 3ms/step - loss: 0.0982 - mae: 0.1506 - val_loss: 0.1161 - val_mae: 0.1572\n",
      "Epoch 93/150\n",
      "315/315 [==============================] - 1s 3ms/step - loss: 0.0984 - mae: 0.1512 - val_loss: 0.1198 - val_mae: 0.1610\n",
      "Epoch 94/150\n",
      "315/315 [==============================] - 1s 2ms/step - loss: 0.0990 - mae: 0.1536 - val_loss: 0.1427 - val_mae: 0.1752\n",
      "Epoch 95/150\n",
      "315/315 [==============================] - 1s 3ms/step - loss: 0.0976 - mae: 0.1491 - val_loss: 0.1199 - val_mae: 0.1760\n",
      "Epoch 96/150\n",
      "315/315 [==============================] - 1s 3ms/step - loss: 0.0970 - mae: 0.1487 - val_loss: 0.1147 - val_mae: 0.1519\n",
      "Epoch 97/150\n",
      "315/315 [==============================] - 1s 3ms/step - loss: 0.0973 - mae: 0.1498 - val_loss: 0.1163 - val_mae: 0.1613\n",
      "Epoch 98/150\n",
      "315/315 [==============================] - 1s 3ms/step - loss: 0.0969 - mae: 0.1480 - val_loss: 0.1151 - val_mae: 0.1521\n",
      "Epoch 99/150\n",
      "315/315 [==============================] - 1s 2ms/step - loss: 0.0969 - mae: 0.1503 - val_loss: 0.1144 - val_mae: 0.1581\n",
      "Epoch 100/150\n",
      "315/315 [==============================] - 1s 3ms/step - loss: 0.0969 - mae: 0.1501 - val_loss: 0.1150 - val_mae: 0.1687\n",
      "Epoch 101/150\n",
      "315/315 [==============================] - 1s 3ms/step - loss: 0.0958 - mae: 0.1476 - val_loss: 0.1192 - val_mae: 0.1454\n",
      "Epoch 102/150\n",
      "315/315 [==============================] - 1s 3ms/step - loss: 0.0979 - mae: 0.1521 - val_loss: 0.1220 - val_mae: 0.2034\n",
      "Epoch 103/150\n",
      "315/315 [==============================] - 1s 2ms/step - loss: 0.0961 - mae: 0.1505 - val_loss: 0.1166 - val_mae: 0.1821\n",
      "Epoch 104/150\n",
      "315/315 [==============================] - 1s 3ms/step - loss: 0.0957 - mae: 0.1472 - val_loss: 0.1160 - val_mae: 0.1719\n",
      "Epoch 105/150\n",
      "315/315 [==============================] - 1s 2ms/step - loss: 0.0957 - mae: 0.1487 - val_loss: 0.1139 - val_mae: 0.1525\n",
      "Epoch 106/150\n",
      "315/315 [==============================] - 1s 3ms/step - loss: 0.0956 - mae: 0.1469 - val_loss: 0.1147 - val_mae: 0.1462\n",
      "Epoch 107/150\n",
      "315/315 [==============================] - 1s 3ms/step - loss: 0.0969 - mae: 0.1504 - val_loss: 0.1162 - val_mae: 0.1450\n",
      "Epoch 108/150\n",
      "315/315 [==============================] - 1s 3ms/step - loss: 0.0964 - mae: 0.1478 - val_loss: 0.1153 - val_mae: 0.1760\n",
      "Epoch 109/150\n",
      "315/315 [==============================] - 1s 3ms/step - loss: 0.0951 - mae: 0.1474 - val_loss: 0.1156 - val_mae: 0.1581\n",
      "Epoch 110/150\n",
      "315/315 [==============================] - 1s 3ms/step - loss: 0.0953 - mae: 0.1474 - val_loss: 0.1166 - val_mae: 0.1784\n",
      "Epoch 111/150\n",
      "315/315 [==============================] - 1s 3ms/step - loss: 0.0957 - mae: 0.1487 - val_loss: 0.1149 - val_mae: 0.1717\n",
      "Epoch 112/150\n",
      "315/315 [==============================] - 1s 3ms/step - loss: 0.0949 - mae: 0.1482 - val_loss: 0.1131 - val_mae: 0.1493\n",
      "Epoch 113/150\n",
      "315/315 [==============================] - 1s 3ms/step - loss: 0.0966 - mae: 0.1504 - val_loss: 0.1130 - val_mae: 0.1532\n",
      "Epoch 114/150\n",
      "315/315 [==============================] - 1s 3ms/step - loss: 0.0955 - mae: 0.1500 - val_loss: 0.1136 - val_mae: 0.1574\n",
      "Epoch 115/150\n",
      "315/315 [==============================] - 1s 3ms/step - loss: 0.0946 - mae: 0.1469 - val_loss: 0.1153 - val_mae: 0.1755\n",
      "Epoch 116/150\n",
      "315/315 [==============================] - 1s 3ms/step - loss: 0.0942 - mae: 0.1483 - val_loss: 0.1162 - val_mae: 0.1460\n",
      "Epoch 117/150\n",
      "315/315 [==============================] - 1s 3ms/step - loss: 0.0947 - mae: 0.1465 - val_loss: 0.1168 - val_mae: 0.1595\n",
      "Epoch 118/150\n",
      "315/315 [==============================] - 1s 3ms/step - loss: 0.0945 - mae: 0.1473 - val_loss: 0.1117 - val_mae: 0.1448\n",
      "Epoch 119/150\n",
      "315/315 [==============================] - 1s 3ms/step - loss: 0.0943 - mae: 0.1480 - val_loss: 0.1156 - val_mae: 0.1409\n",
      "Epoch 120/150\n",
      "315/315 [==============================] - 1s 3ms/step - loss: 0.0941 - mae: 0.1464 - val_loss: 0.1133 - val_mae: 0.1625\n",
      "Epoch 121/150\n",
      "315/315 [==============================] - 1s 2ms/step - loss: 0.0947 - mae: 0.1471 - val_loss: 0.1163 - val_mae: 0.1806\n",
      "Epoch 122/150\n",
      "315/315 [==============================] - 1s 3ms/step - loss: 0.0935 - mae: 0.1451 - val_loss: 0.1122 - val_mae: 0.1448\n",
      "Epoch 123/150\n",
      "315/315 [==============================] - 1s 2ms/step - loss: 0.0948 - mae: 0.1483 - val_loss: 0.1140 - val_mae: 0.1478\n",
      "Epoch 124/150\n",
      "315/315 [==============================] - 1s 2ms/step - loss: 0.0938 - mae: 0.1470 - val_loss: 0.1135 - val_mae: 0.1747\n",
      "Epoch 125/150\n",
      "315/315 [==============================] - 1s 3ms/step - loss: 0.0945 - mae: 0.1469 - val_loss: 0.1146 - val_mae: 0.1636\n",
      "Epoch 126/150\n",
      "315/315 [==============================] - 1s 3ms/step - loss: 0.0947 - mae: 0.1488 - val_loss: 0.1171 - val_mae: 0.1894\n",
      "Epoch 127/150\n",
      "315/315 [==============================] - 1s 3ms/step - loss: 0.0928 - mae: 0.1439 - val_loss: 0.1112 - val_mae: 0.1521\n",
      "Epoch 128/150\n",
      "315/315 [==============================] - 1s 3ms/step - loss: 0.0937 - mae: 0.1460 - val_loss: 0.1193 - val_mae: 0.1467\n",
      "Epoch 129/150\n",
      "315/315 [==============================] - 1s 3ms/step - loss: 0.0937 - mae: 0.1471 - val_loss: 0.1385 - val_mae: 0.1857\n",
      "Epoch 130/150\n",
      "315/315 [==============================] - 1s 3ms/step - loss: 0.0961 - mae: 0.1514 - val_loss: 0.1146 - val_mae: 0.1481\n",
      "Epoch 131/150\n",
      "315/315 [==============================] - 1s 3ms/step - loss: 0.0929 - mae: 0.1450 - val_loss: 0.1141 - val_mae: 0.1789\n",
      "Epoch 132/150\n",
      "315/315 [==============================] - 1s 3ms/step - loss: 0.0935 - mae: 0.1462 - val_loss: 0.1109 - val_mae: 0.1556\n",
      "Epoch 133/150\n",
      "315/315 [==============================] - 1s 3ms/step - loss: 0.0936 - mae: 0.1461 - val_loss: 0.1140 - val_mae: 0.1586\n",
      "Epoch 134/150\n",
      "315/315 [==============================] - 1s 3ms/step - loss: 0.0928 - mae: 0.1448 - val_loss: 0.1120 - val_mae: 0.1484\n",
      "Epoch 135/150\n",
      "315/315 [==============================] - 1s 3ms/step - loss: 0.0954 - mae: 0.1503 - val_loss: 0.1125 - val_mae: 0.1455\n",
      "Epoch 136/150\n",
      "315/315 [==============================] - 1s 2ms/step - loss: 0.0941 - mae: 0.1466 - val_loss: 0.1115 - val_mae: 0.1498\n",
      "Epoch 137/150\n",
      "315/315 [==============================] - 1s 3ms/step - loss: 0.0923 - mae: 0.1427 - val_loss: 0.1104 - val_mae: 0.1504\n",
      "Epoch 138/150\n",
      "315/315 [==============================] - 1s 3ms/step - loss: 0.0922 - mae: 0.1453 - val_loss: 0.1103 - val_mae: 0.1544\n",
      "Epoch 139/150\n",
      "315/315 [==============================] - 1s 3ms/step - loss: 0.0945 - mae: 0.1496 - val_loss: 0.1103 - val_mae: 0.1542\n",
      "Epoch 140/150\n",
      "315/315 [==============================] - 1s 3ms/step - loss: 0.0919 - mae: 0.1440 - val_loss: 0.1126 - val_mae: 0.1553\n",
      "Epoch 141/150\n",
      "315/315 [==============================] - 1s 3ms/step - loss: 0.0943 - mae: 0.1482 - val_loss: 0.1108 - val_mae: 0.1563\n",
      "Epoch 142/150\n",
      "315/315 [==============================] - 1s 3ms/step - loss: 0.0929 - mae: 0.1458 - val_loss: 0.1133 - val_mae: 0.1460\n",
      "Epoch 143/150\n",
      "315/315 [==============================] - 1s 2ms/step - loss: 0.0930 - mae: 0.1472 - val_loss: 0.1194 - val_mae: 0.1503\n",
      "Epoch 144/150\n",
      "315/315 [==============================] - 1s 3ms/step - loss: 0.0921 - mae: 0.1432 - val_loss: 0.1101 - val_mae: 0.1571\n",
      "Epoch 145/150\n",
      "315/315 [==============================] - 1s 3ms/step - loss: 0.0924 - mae: 0.1450 - val_loss: 0.1091 - val_mae: 0.1489\n",
      "Epoch 146/150\n",
      "315/315 [==============================] - 1s 3ms/step - loss: 0.0913 - mae: 0.1425 - val_loss: 0.1100 - val_mae: 0.1607\n",
      "Epoch 147/150\n",
      "315/315 [==============================] - 1s 3ms/step - loss: 0.0916 - mae: 0.1427 - val_loss: 0.1127 - val_mae: 0.1758\n",
      "Epoch 148/150\n",
      "315/315 [==============================] - 1s 3ms/step - loss: 0.0925 - mae: 0.1448 - val_loss: 0.1135 - val_mae: 0.1831\n",
      "Epoch 149/150\n",
      "315/315 [==============================] - 1s 3ms/step - loss: 0.0920 - mae: 0.1433 - val_loss: 0.1098 - val_mae: 0.1477\n",
      "Epoch 150/150\n",
      "315/315 [==============================] - 1s 3ms/step - loss: 0.0935 - mae: 0.1473 - val_loss: 0.1141 - val_mae: 0.1408\n"
     ]
    }
   ],
   "source": [
    "#Fitting NN model\n",
    "history_5 = model_5.fit(X_train,y_train,epochs=150, validation_split = 0.25,\n",
    "                        batch_size=50,shuffle=True,verbose=True,)"
   ]
  },
  {
   "cell_type": "code",
   "execution_count": 66,
   "metadata": {
    "colab": {
     "base_uri": "https://localhost:8080/",
     "height": 350
    },
    "executionInfo": {
     "elapsed": 14,
     "status": "ok",
     "timestamp": 1629069173697,
     "user": {
      "displayName": "Vijay Waghmare",
      "photoUrl": "",
      "userId": "02980993576388042039"
     },
     "user_tz": -600
    },
    "id": "vWpPesmHiQnj",
    "outputId": "e66afc59-b3e7-403c-fb87-6f52c1037371"
   },
   "outputs": [
    {
     "data": {
      "image/png": "[encoded data removed]",
      "text/plain": [
       "<Figure size 720x360 with 1 Axes>"
      ]
     },
     "metadata": {
      "needs_background": "light",
      "tags": []
     },
     "output_type": "display_data"
    }
   ],
   "source": [
    "#Evaluating model over training and validation dataset\n",
    "loss_5 = history_5.history['mae']\n",
    "val_loss_5 = history_5.history['val_mae']\n",
    "\n",
    "#Plotting training and validation loss with number of epochs\n",
    "plt.figure(figsize=(10, 5))\n",
    "epochs_5 = range(1, len(loss_5) + 1)\n",
    "plt.plot(epochs_5, loss_5, 'bo', label='Training loss')\n",
    "plt.plot(epochs_5, val_loss_5, 'b', label='Validation loss', color = 'red')\n",
    "plt.title('Training and validation loss')\n",
    "plt.xlabel('Epochs')\n",
    "plt.ylabel('Loss')\n",
    "plt.legend()\n",
    "plt.show()"
   ]
  },
  {
   "cell_type": "code",
   "execution_count": 67,
   "metadata": {
    "executionInfo": {
     "elapsed": 922,
     "status": "ok",
     "timestamp": 1629069174614,
     "user": {
      "displayName": "Vijay Waghmare",
      "photoUrl": "",
      "userId": "02980993576388042039"
     },
     "user_tz": -600
    },
    "id": "TrP457agiQnj"
   },
   "outputs": [],
   "source": [
    "#Training and test data prediction\n",
    "model_5_train = model_5.predict(X_train)\n",
    "model_5_test = model_5.predict(X_test)"
   ]
  },
  {
   "cell_type": "code",
   "execution_count": 68,
   "metadata": {
    "colab": {
     "base_uri": "https://localhost:8080/"
    },
    "executionInfo": {
     "elapsed": 5,
     "status": "ok",
     "timestamp": 1629069174616,
     "user": {
      "displayName": "Vijay Waghmare",
      "photoUrl": "",
      "userId": "02980993576388042039"
     },
     "user_tz": -600
    },
    "id": "e1YSxpmHGumm",
    "outputId": "0e850ad9-77ea-4e58-e0a6-19cbc2e5a640"
   },
   "outputs": [
    {
     "name": "stdout",
     "output_type": "stream",
     "text": [
      "Train MAE:0.132\n",
      "Test MAE:0.131\n",
      "\n"
     ]
    }
   ],
   "source": [
    "#Train and test MAE\n",
    "train_mae_5 = round(mean_absolute_error(y_train,model_5_train),3)\n",
    "test_mae_5 = round(mean_absolute_error(y_test,model_5_test),3)\n",
    "print(\"Train MAE:{}\\nTest MAE:{}\\n\".format(train_mae_5,test_mae_5))"
   ]
  },
  {
   "cell_type": "code",
   "execution_count": 69,
   "metadata": {
    "colab": {
     "base_uri": "https://localhost:8080/",
     "height": 295
    },
    "executionInfo": {
     "elapsed": 792,
     "status": "ok",
     "timestamp": 1629069175405,
     "user": {
      "displayName": "Vijay Waghmare",
      "photoUrl": "",
      "userId": "02980993576388042039"
     },
     "user_tz": -600
    },
    "id": "3RCl3bIYGueL",
    "outputId": "65d7f49c-bc2a-45c7-f8ad-a05514f01852"
   },
   "outputs": [
    {
     "data": {
      "image/png": "[encoded data removed]",
      "text/plain": [
       "<Figure size 432x288 with 1 Axes>"
      ]
     },
     "metadata": {
      "needs_background": "light",
      "tags": []
     },
     "output_type": "display_data"
    }
   ],
   "source": [
    "#Plotting training prediction\n",
    "pred_train_5 = pd.DataFrame(model_5_train,columns=['pred'])\n",
    "pred_train_5['actual'] = y_train\n",
    "\n",
    "pred_train_5.plot(xlabel='observations',ylabel='Total consumption')\n",
    "plt.title('Training data prediction')\n",
    "plt.show()"
   ]
  },
  {
   "cell_type": "code",
   "execution_count": 70,
   "metadata": {
    "colab": {
     "base_uri": "https://localhost:8080/",
     "height": 295
    },
    "executionInfo": {
     "elapsed": 6,
     "status": "ok",
     "timestamp": 1629069175406,
     "user": {
      "displayName": "Vijay Waghmare",
      "photoUrl": "",
      "userId": "02980993576388042039"
     },
     "user_tz": -600
    },
    "id": "qpWDu7scGzCA",
    "outputId": "79083377-d8cf-4f7b-88a5-2796f0c98378"
   },
   "outputs": [
    {
     "data": {
      "image/png": "[encoded data removed]",
      "text/plain": [
       "<Figure size 432x288 with 1 Axes>"
      ]
     },
     "metadata": {
      "needs_background": "light",
      "tags": []
     },
     "output_type": "display_data"
    }
   ],
   "source": [
    "#Plotting test data prediction\n",
    "pred_test_5 = pd.DataFrame(model_5_test,columns=['pred'])\n",
    "pred_test_5['actual'] = y_test\n",
    "\n",
    "pred_test_5.plot(xlabel='observations',ylabel='Total consumption')\n",
    "plt.title('Test data prediction')\n",
    "plt.show()"
   ]
  },
  {
   "cell_type": "markdown",
   "metadata": {
    "id": "tLBXWEhpYzhg"
   },
   "source": [
    "<a id = \"cell_report\"></a>\n",
    "## 5. Experiments Report"
   ]
  },
  {
   "cell_type": "markdown",
   "metadata": {
    "id": "f4yf9F_ZxQVH"
   },
   "source": [
    "*Provide a summary of experimental results in the table below.*\n",
    "\n",
    "\n",
    "| Model# |  Train MAE | Test MAE | #Parameters | #Hidden Layers | #Neurons-HidLay1 | #Neurons-HidLay2 | #Neurons-HidLay3 | Optimizer |\n",
    "| :-: | -: | -: | -: | -: | -: | -: | -: | -: |\n",
    "| 1 | 0.150 | 0.149  | 65,801  | 2  | 300  | 200  | -  | RMSprop   | -  |\n",
    "| 2 | 0.133 | 0.135  | 17,901  | 2  | 150  | 100  | -  | RMSprop  | LR reducer |\n",
    "| 3 | 0.145 | 0.143  | 22,901  | 3  | 150  | 100  | 50  | RMSprop  | -  |\n",
    "| 4 | 0.258 | 0.256  | 22,901  | 3  | 150  | 100  | 50  | Adamax  |  - |\n",
    "| 5 | 0.132 | 0.131  | 22,901  | 3  | 150  | 100  | 50  | Adam  |  - |\n",
    "\n",
    "<br>"
   ]
  },
  {
   "cell_type": "markdown",
   "metadata": {
    "id": "eldl_Flmb7xR"
   },
   "source": [
    "*Model 1 has been considered as base model with two hidden layers, 65,801 parameters, RMSprop as optimizer, learning rate 0.001 and 150 epochs. This model converged by 20 epochs and provided good fit with MAE of 0.150 and 0.149 on training and test data set. Rest of the models were created by changing one or more hyper parameters.\n",
    "In Model 2 strength of the model was reduced to 17,901 parameters and by adding LR reducer. This model provided good fit with MAE of 0.133 and 0.135 on training and test data set. In rest of the models, third layer was added to increase parameters to 22,901 with optimizers,'RMSprop','Adamax', 'Adam'. Model 4 with Adamax optimizer had highest MAE, whereas model 5 with Adam optimizer was best model.*\n",
    "<br>"
   ]
  }
 ],
 "metadata": {
  "colab": {
   "collapsed_sections": [],
   "name": "PartA-01.ipynb",
   "provenance": []
  },
  "kernelspec": {
   "display_name": "Python 3",
   "language": "python",
   "name": "python3"
  },
  "language_info": {
   "codemirror_mode": {
    "name": "ipython",
    "version": 3
   },
   "file_extension": ".py",
   "mimetype": "text/x-python",
   "name": "python",
   "nbconvert_exporter": "python",
   "pygments_lexer": "ipython3",
   "version": "3.8.8"
  }
 },
 "nbformat": 4,
 "nbformat_minor": 1
}
